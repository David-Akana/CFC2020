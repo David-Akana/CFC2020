{
 "cells": [
  {
   "cell_type": "code",
   "execution_count": 1,
   "metadata": {},
   "outputs": [],
   "source": [
    "import pandas as pd\n",
    "import numpy as np\n",
    "import matplotlib.pyplot as plt\n",
    "import seaborn as sns"
   ]
  },
  {
   "cell_type": "code",
   "execution_count": 2,
   "metadata": {},
   "outputs": [],
   "source": [
    "# Import the dataset\n",
    "us = pd.read_csv('US ND prediction/us_disaster_declarations.csv')"
   ]
  },
  {
   "cell_type": "code",
   "execution_count": 3,
   "metadata": {},
   "outputs": [
    {
     "data": {
      "text/html": [
       "<div>\n",
       "<style scoped>\n",
       "    .dataframe tbody tr th:only-of-type {\n",
       "        vertical-align: middle;\n",
       "    }\n",
       "\n",
       "    .dataframe tbody tr th {\n",
       "        vertical-align: top;\n",
       "    }\n",
       "\n",
       "    .dataframe thead th {\n",
       "        text-align: right;\n",
       "    }\n",
       "</style>\n",
       "<table border=\"1\" class=\"dataframe\">\n",
       "  <thead>\n",
       "    <tr style=\"text-align: right;\">\n",
       "      <th></th>\n",
       "      <th>fema_declaration_string</th>\n",
       "      <th>disaster_number</th>\n",
       "      <th>state</th>\n",
       "      <th>declaration_type</th>\n",
       "      <th>declaration_date</th>\n",
       "      <th>fy_declared</th>\n",
       "      <th>incident_type</th>\n",
       "      <th>declaration_title</th>\n",
       "      <th>ih_program_declared</th>\n",
       "      <th>ia_program_declared</th>\n",
       "      <th>...</th>\n",
       "      <th>incident_begin_date</th>\n",
       "      <th>incident_end_date</th>\n",
       "      <th>disaster_closeout_date</th>\n",
       "      <th>fips</th>\n",
       "      <th>place_code</th>\n",
       "      <th>designated_area</th>\n",
       "      <th>declaration_request_number</th>\n",
       "      <th>hash</th>\n",
       "      <th>last_refresh</th>\n",
       "      <th>id</th>\n",
       "    </tr>\n",
       "  </thead>\n",
       "  <tbody>\n",
       "    <tr>\n",
       "      <th>0</th>\n",
       "      <td>DR-1-GA</td>\n",
       "      <td>1</td>\n",
       "      <td>GA</td>\n",
       "      <td>DR</td>\n",
       "      <td>1953-05-02T04:00:00Z</td>\n",
       "      <td>1953</td>\n",
       "      <td>Tornado</td>\n",
       "      <td>Tornado</td>\n",
       "      <td>0</td>\n",
       "      <td>1</td>\n",
       "      <td>...</td>\n",
       "      <td>1953-05-02T04:00:00Z</td>\n",
       "      <td>1953-05-02T04:00:00Z</td>\n",
       "      <td>NaN</td>\n",
       "      <td>13000</td>\n",
       "      <td>0</td>\n",
       "      <td>Statewide</td>\n",
       "      <td>53013</td>\n",
       "      <td>2f28952448e0a666d367ca3f854c81ec</td>\n",
       "      <td>2019-07-26T18:49:32Z</td>\n",
       "      <td>5d1bceafd5b39c032f2602bf</td>\n",
       "    </tr>\n",
       "    <tr>\n",
       "      <th>1</th>\n",
       "      <td>DR-2-TX</td>\n",
       "      <td>2</td>\n",
       "      <td>TX</td>\n",
       "      <td>DR</td>\n",
       "      <td>1953-05-15T04:00:00Z</td>\n",
       "      <td>1953</td>\n",
       "      <td>Tornado</td>\n",
       "      <td>Tornado &amp; Heavy Rainfall</td>\n",
       "      <td>0</td>\n",
       "      <td>1</td>\n",
       "      <td>...</td>\n",
       "      <td>1953-05-15T04:00:00Z</td>\n",
       "      <td>1953-05-15T04:00:00Z</td>\n",
       "      <td>NaN</td>\n",
       "      <td>48000</td>\n",
       "      <td>0</td>\n",
       "      <td>Statewide</td>\n",
       "      <td>53003</td>\n",
       "      <td>c5a1a4a1030d6730d9c562cdbe7c830f</td>\n",
       "      <td>2019-07-26T18:49:32Z</td>\n",
       "      <td>5d1bceafd5b39c032f2602c3</td>\n",
       "    </tr>\n",
       "    <tr>\n",
       "      <th>2</th>\n",
       "      <td>DR-3-LA</td>\n",
       "      <td>3</td>\n",
       "      <td>LA</td>\n",
       "      <td>DR</td>\n",
       "      <td>1953-05-29T04:00:00Z</td>\n",
       "      <td>1953</td>\n",
       "      <td>Flood</td>\n",
       "      <td>Flood</td>\n",
       "      <td>0</td>\n",
       "      <td>1</td>\n",
       "      <td>...</td>\n",
       "      <td>1953-05-29T04:00:00Z</td>\n",
       "      <td>1953-05-29T04:00:00Z</td>\n",
       "      <td>NaN</td>\n",
       "      <td>22000</td>\n",
       "      <td>0</td>\n",
       "      <td>Statewide</td>\n",
       "      <td>53005</td>\n",
       "      <td>745948932fd77a7c6dcd4de7059ff080</td>\n",
       "      <td>2019-07-26T18:49:32Z</td>\n",
       "      <td>5d1bceafd5b39c032f2602c1</td>\n",
       "    </tr>\n",
       "    <tr>\n",
       "      <th>3</th>\n",
       "      <td>DR-4-MI</td>\n",
       "      <td>4</td>\n",
       "      <td>MI</td>\n",
       "      <td>DR</td>\n",
       "      <td>1953-06-02T04:00:00Z</td>\n",
       "      <td>1953</td>\n",
       "      <td>Tornado</td>\n",
       "      <td>Tornado</td>\n",
       "      <td>0</td>\n",
       "      <td>1</td>\n",
       "      <td>...</td>\n",
       "      <td>1953-06-02T04:00:00Z</td>\n",
       "      <td>1953-06-02T04:00:00Z</td>\n",
       "      <td>NaN</td>\n",
       "      <td>26000</td>\n",
       "      <td>0</td>\n",
       "      <td>Statewide</td>\n",
       "      <td>53004</td>\n",
       "      <td>8c9dee13124e36a9dfe2eb74e33fafad</td>\n",
       "      <td>2019-07-26T18:49:32Z</td>\n",
       "      <td>5d1bceafd5b39c032f2602c0</td>\n",
       "    </tr>\n",
       "    <tr>\n",
       "      <th>4</th>\n",
       "      <td>DR-5-MT</td>\n",
       "      <td>5</td>\n",
       "      <td>MT</td>\n",
       "      <td>DR</td>\n",
       "      <td>1953-06-06T04:00:00Z</td>\n",
       "      <td>1953</td>\n",
       "      <td>Flood</td>\n",
       "      <td>Floods</td>\n",
       "      <td>0</td>\n",
       "      <td>1</td>\n",
       "      <td>...</td>\n",
       "      <td>1953-06-06T04:00:00Z</td>\n",
       "      <td>1953-06-06T04:00:00Z</td>\n",
       "      <td>NaN</td>\n",
       "      <td>30000</td>\n",
       "      <td>0</td>\n",
       "      <td>Statewide</td>\n",
       "      <td>53006</td>\n",
       "      <td>59c5483387ca13c6a3c1bc692f4860e1</td>\n",
       "      <td>2019-07-26T18:49:32Z</td>\n",
       "      <td>5d1bceafd5b39c032f2602c7</td>\n",
       "    </tr>\n",
       "  </tbody>\n",
       "</table>\n",
       "<p>5 rows × 22 columns</p>\n",
       "</div>"
      ],
      "text/plain": [
       "  fema_declaration_string  disaster_number state declaration_type  \\\n",
       "0                 DR-1-GA                1    GA               DR   \n",
       "1                 DR-2-TX                2    TX               DR   \n",
       "2                 DR-3-LA                3    LA               DR   \n",
       "3                 DR-4-MI                4    MI               DR   \n",
       "4                 DR-5-MT                5    MT               DR   \n",
       "\n",
       "       declaration_date  fy_declared incident_type         declaration_title  \\\n",
       "0  1953-05-02T04:00:00Z         1953       Tornado                   Tornado   \n",
       "1  1953-05-15T04:00:00Z         1953       Tornado  Tornado & Heavy Rainfall   \n",
       "2  1953-05-29T04:00:00Z         1953         Flood                     Flood   \n",
       "3  1953-06-02T04:00:00Z         1953       Tornado                   Tornado   \n",
       "4  1953-06-06T04:00:00Z         1953         Flood                    Floods   \n",
       "\n",
       "   ih_program_declared  ia_program_declared  ...   incident_begin_date  \\\n",
       "0                    0                    1  ...  1953-05-02T04:00:00Z   \n",
       "1                    0                    1  ...  1953-05-15T04:00:00Z   \n",
       "2                    0                    1  ...  1953-05-29T04:00:00Z   \n",
       "3                    0                    1  ...  1953-06-02T04:00:00Z   \n",
       "4                    0                    1  ...  1953-06-06T04:00:00Z   \n",
       "\n",
       "      incident_end_date disaster_closeout_date   fips place_code  \\\n",
       "0  1953-05-02T04:00:00Z                    NaN  13000          0   \n",
       "1  1953-05-15T04:00:00Z                    NaN  48000          0   \n",
       "2  1953-05-29T04:00:00Z                    NaN  22000          0   \n",
       "3  1953-06-02T04:00:00Z                    NaN  26000          0   \n",
       "4  1953-06-06T04:00:00Z                    NaN  30000          0   \n",
       "\n",
       "   designated_area  declaration_request_number  \\\n",
       "0        Statewide                       53013   \n",
       "1        Statewide                       53003   \n",
       "2        Statewide                       53005   \n",
       "3        Statewide                       53004   \n",
       "4        Statewide                       53006   \n",
       "\n",
       "                               hash          last_refresh  \\\n",
       "0  2f28952448e0a666d367ca3f854c81ec  2019-07-26T18:49:32Z   \n",
       "1  c5a1a4a1030d6730d9c562cdbe7c830f  2019-07-26T18:49:32Z   \n",
       "2  745948932fd77a7c6dcd4de7059ff080  2019-07-26T18:49:32Z   \n",
       "3  8c9dee13124e36a9dfe2eb74e33fafad  2019-07-26T18:49:32Z   \n",
       "4  59c5483387ca13c6a3c1bc692f4860e1  2019-07-26T18:49:32Z   \n",
       "\n",
       "                         id  \n",
       "0  5d1bceafd5b39c032f2602bf  \n",
       "1  5d1bceafd5b39c032f2602c3  \n",
       "2  5d1bceafd5b39c032f2602c1  \n",
       "3  5d1bceafd5b39c032f2602c0  \n",
       "4  5d1bceafd5b39c032f2602c7  \n",
       "\n",
       "[5 rows x 22 columns]"
      ]
     },
     "execution_count": 3,
     "metadata": {},
     "output_type": "execute_result"
    }
   ],
   "source": [
    "us.head()"
   ]
  },
  {
   "cell_type": "code",
   "execution_count": 4,
   "metadata": {},
   "outputs": [
    {
     "data": {
      "text/plain": [
       "fema_declaration_string           0\n",
       "disaster_number                   0\n",
       "state                             0\n",
       "declaration_type                  0\n",
       "declaration_date                  0\n",
       "fy_declared                       0\n",
       "incident_type                     0\n",
       "declaration_title                 0\n",
       "ih_program_declared               0\n",
       "ia_program_declared               0\n",
       "pa_program_declared               0\n",
       "hm_program_declared               0\n",
       "incident_begin_date               0\n",
       "incident_end_date              8085\n",
       "disaster_closeout_date        56586\n",
       "fips                              0\n",
       "place_code                        0\n",
       "designated_area                   0\n",
       "declaration_request_number        0\n",
       "hash                             75\n",
       "last_refresh                      0\n",
       "id                                0\n",
       "dtype: int64"
      ]
     },
     "execution_count": 4,
     "metadata": {},
     "output_type": "execute_result"
    }
   ],
   "source": [
    "# checking for null values\n",
    "us.isnull().sum()"
   ]
  },
  {
   "cell_type": "code",
   "execution_count": 5,
   "metadata": {},
   "outputs": [
    {
     "data": {
      "text/plain": [
       "(59084, 22)"
      ]
     },
     "execution_count": 5,
     "metadata": {},
     "output_type": "execute_result"
    }
   ],
   "source": [
    "# shape of dataset\n",
    "us.shape"
   ]
  },
  {
   "cell_type": "code",
   "execution_count": 6,
   "metadata": {},
   "outputs": [],
   "source": [
    "# Getting the dates coloumn\n",
    "li = us['declaration_date'].tolist()"
   ]
  },
  {
   "cell_type": "code",
   "execution_count": 7,
   "metadata": {},
   "outputs": [],
   "source": [
    "# Seperate the day, month, and year into seperate lists.\n",
    "def date_seperation(dates):\n",
    "    year = []\n",
    "    month = []\n",
    "    day = []\n",
    "    for l in li:\n",
    "        l = str(l)\n",
    "        str_date = l.split('-')\n",
    "        str_date = list(str_date)\n",
    "        day.append(int(\"\".join(str_date[2][:2]))) \n",
    "        year.append(int(\"\".join(str_date[0])))\n",
    "        month.append(int(\"\".join(str_date[1])))\n",
    "    return(year, month, day)\n",
    "\n",
    "year, month, day =  date_seperation(li)  "
   ]
  },
  {
   "cell_type": "code",
   "execution_count": 8,
   "metadata": {},
   "outputs": [],
   "source": [
    "#Create new coloumns\n",
    "us['year'] = year\n",
    "us['month'] = month\n",
    "us['day'] = day"
   ]
  },
  {
   "cell_type": "code",
   "execution_count": 9,
   "metadata": {},
   "outputs": [
    {
     "data": {
      "text/html": [
       "<div>\n",
       "<style scoped>\n",
       "    .dataframe tbody tr th:only-of-type {\n",
       "        vertical-align: middle;\n",
       "    }\n",
       "\n",
       "    .dataframe tbody tr th {\n",
       "        vertical-align: top;\n",
       "    }\n",
       "\n",
       "    .dataframe thead th {\n",
       "        text-align: right;\n",
       "    }\n",
       "</style>\n",
       "<table border=\"1\" class=\"dataframe\">\n",
       "  <thead>\n",
       "    <tr style=\"text-align: right;\">\n",
       "      <th></th>\n",
       "      <th>fema_declaration_string</th>\n",
       "      <th>disaster_number</th>\n",
       "      <th>state</th>\n",
       "      <th>declaration_type</th>\n",
       "      <th>declaration_date</th>\n",
       "      <th>fy_declared</th>\n",
       "      <th>incident_type</th>\n",
       "      <th>declaration_title</th>\n",
       "      <th>ih_program_declared</th>\n",
       "      <th>ia_program_declared</th>\n",
       "      <th>...</th>\n",
       "      <th>fips</th>\n",
       "      <th>place_code</th>\n",
       "      <th>designated_area</th>\n",
       "      <th>declaration_request_number</th>\n",
       "      <th>hash</th>\n",
       "      <th>last_refresh</th>\n",
       "      <th>id</th>\n",
       "      <th>year</th>\n",
       "      <th>month</th>\n",
       "      <th>day</th>\n",
       "    </tr>\n",
       "  </thead>\n",
       "  <tbody>\n",
       "    <tr>\n",
       "      <th>0</th>\n",
       "      <td>DR-1-GA</td>\n",
       "      <td>1</td>\n",
       "      <td>GA</td>\n",
       "      <td>DR</td>\n",
       "      <td>1953-05-02T04:00:00Z</td>\n",
       "      <td>1953</td>\n",
       "      <td>Tornado</td>\n",
       "      <td>Tornado</td>\n",
       "      <td>0</td>\n",
       "      <td>1</td>\n",
       "      <td>...</td>\n",
       "      <td>13000</td>\n",
       "      <td>0</td>\n",
       "      <td>Statewide</td>\n",
       "      <td>53013</td>\n",
       "      <td>2f28952448e0a666d367ca3f854c81ec</td>\n",
       "      <td>2019-07-26T18:49:32Z</td>\n",
       "      <td>5d1bceafd5b39c032f2602bf</td>\n",
       "      <td>1953</td>\n",
       "      <td>5</td>\n",
       "      <td>2</td>\n",
       "    </tr>\n",
       "    <tr>\n",
       "      <th>1</th>\n",
       "      <td>DR-2-TX</td>\n",
       "      <td>2</td>\n",
       "      <td>TX</td>\n",
       "      <td>DR</td>\n",
       "      <td>1953-05-15T04:00:00Z</td>\n",
       "      <td>1953</td>\n",
       "      <td>Tornado</td>\n",
       "      <td>Tornado &amp; Heavy Rainfall</td>\n",
       "      <td>0</td>\n",
       "      <td>1</td>\n",
       "      <td>...</td>\n",
       "      <td>48000</td>\n",
       "      <td>0</td>\n",
       "      <td>Statewide</td>\n",
       "      <td>53003</td>\n",
       "      <td>c5a1a4a1030d6730d9c562cdbe7c830f</td>\n",
       "      <td>2019-07-26T18:49:32Z</td>\n",
       "      <td>5d1bceafd5b39c032f2602c3</td>\n",
       "      <td>1953</td>\n",
       "      <td>5</td>\n",
       "      <td>15</td>\n",
       "    </tr>\n",
       "    <tr>\n",
       "      <th>2</th>\n",
       "      <td>DR-3-LA</td>\n",
       "      <td>3</td>\n",
       "      <td>LA</td>\n",
       "      <td>DR</td>\n",
       "      <td>1953-05-29T04:00:00Z</td>\n",
       "      <td>1953</td>\n",
       "      <td>Flood</td>\n",
       "      <td>Flood</td>\n",
       "      <td>0</td>\n",
       "      <td>1</td>\n",
       "      <td>...</td>\n",
       "      <td>22000</td>\n",
       "      <td>0</td>\n",
       "      <td>Statewide</td>\n",
       "      <td>53005</td>\n",
       "      <td>745948932fd77a7c6dcd4de7059ff080</td>\n",
       "      <td>2019-07-26T18:49:32Z</td>\n",
       "      <td>5d1bceafd5b39c032f2602c1</td>\n",
       "      <td>1953</td>\n",
       "      <td>5</td>\n",
       "      <td>29</td>\n",
       "    </tr>\n",
       "    <tr>\n",
       "      <th>3</th>\n",
       "      <td>DR-4-MI</td>\n",
       "      <td>4</td>\n",
       "      <td>MI</td>\n",
       "      <td>DR</td>\n",
       "      <td>1953-06-02T04:00:00Z</td>\n",
       "      <td>1953</td>\n",
       "      <td>Tornado</td>\n",
       "      <td>Tornado</td>\n",
       "      <td>0</td>\n",
       "      <td>1</td>\n",
       "      <td>...</td>\n",
       "      <td>26000</td>\n",
       "      <td>0</td>\n",
       "      <td>Statewide</td>\n",
       "      <td>53004</td>\n",
       "      <td>8c9dee13124e36a9dfe2eb74e33fafad</td>\n",
       "      <td>2019-07-26T18:49:32Z</td>\n",
       "      <td>5d1bceafd5b39c032f2602c0</td>\n",
       "      <td>1953</td>\n",
       "      <td>6</td>\n",
       "      <td>2</td>\n",
       "    </tr>\n",
       "    <tr>\n",
       "      <th>4</th>\n",
       "      <td>DR-5-MT</td>\n",
       "      <td>5</td>\n",
       "      <td>MT</td>\n",
       "      <td>DR</td>\n",
       "      <td>1953-06-06T04:00:00Z</td>\n",
       "      <td>1953</td>\n",
       "      <td>Flood</td>\n",
       "      <td>Floods</td>\n",
       "      <td>0</td>\n",
       "      <td>1</td>\n",
       "      <td>...</td>\n",
       "      <td>30000</td>\n",
       "      <td>0</td>\n",
       "      <td>Statewide</td>\n",
       "      <td>53006</td>\n",
       "      <td>59c5483387ca13c6a3c1bc692f4860e1</td>\n",
       "      <td>2019-07-26T18:49:32Z</td>\n",
       "      <td>5d1bceafd5b39c032f2602c7</td>\n",
       "      <td>1953</td>\n",
       "      <td>6</td>\n",
       "      <td>6</td>\n",
       "    </tr>\n",
       "  </tbody>\n",
       "</table>\n",
       "<p>5 rows × 25 columns</p>\n",
       "</div>"
      ],
      "text/plain": [
       "  fema_declaration_string  disaster_number state declaration_type  \\\n",
       "0                 DR-1-GA                1    GA               DR   \n",
       "1                 DR-2-TX                2    TX               DR   \n",
       "2                 DR-3-LA                3    LA               DR   \n",
       "3                 DR-4-MI                4    MI               DR   \n",
       "4                 DR-5-MT                5    MT               DR   \n",
       "\n",
       "       declaration_date  fy_declared incident_type         declaration_title  \\\n",
       "0  1953-05-02T04:00:00Z         1953       Tornado                   Tornado   \n",
       "1  1953-05-15T04:00:00Z         1953       Tornado  Tornado & Heavy Rainfall   \n",
       "2  1953-05-29T04:00:00Z         1953         Flood                     Flood   \n",
       "3  1953-06-02T04:00:00Z         1953       Tornado                   Tornado   \n",
       "4  1953-06-06T04:00:00Z         1953         Flood                    Floods   \n",
       "\n",
       "   ih_program_declared  ia_program_declared  ...   fips  place_code  \\\n",
       "0                    0                    1  ...  13000           0   \n",
       "1                    0                    1  ...  48000           0   \n",
       "2                    0                    1  ...  22000           0   \n",
       "3                    0                    1  ...  26000           0   \n",
       "4                    0                    1  ...  30000           0   \n",
       "\n",
       "  designated_area declaration_request_number  \\\n",
       "0       Statewide                      53013   \n",
       "1       Statewide                      53003   \n",
       "2       Statewide                      53005   \n",
       "3       Statewide                      53004   \n",
       "4       Statewide                      53006   \n",
       "\n",
       "                               hash          last_refresh  \\\n",
       "0  2f28952448e0a666d367ca3f854c81ec  2019-07-26T18:49:32Z   \n",
       "1  c5a1a4a1030d6730d9c562cdbe7c830f  2019-07-26T18:49:32Z   \n",
       "2  745948932fd77a7c6dcd4de7059ff080  2019-07-26T18:49:32Z   \n",
       "3  8c9dee13124e36a9dfe2eb74e33fafad  2019-07-26T18:49:32Z   \n",
       "4  59c5483387ca13c6a3c1bc692f4860e1  2019-07-26T18:49:32Z   \n",
       "\n",
       "                         id  year  month day  \n",
       "0  5d1bceafd5b39c032f2602bf  1953      5   2  \n",
       "1  5d1bceafd5b39c032f2602c3  1953      5  15  \n",
       "2  5d1bceafd5b39c032f2602c1  1953      5  29  \n",
       "3  5d1bceafd5b39c032f2602c0  1953      6   2  \n",
       "4  5d1bceafd5b39c032f2602c7  1953      6   6  \n",
       "\n",
       "[5 rows x 25 columns]"
      ]
     },
     "execution_count": 9,
     "metadata": {},
     "output_type": "execute_result"
    }
   ],
   "source": [
    "us.head()"
   ]
  },
  {
   "cell_type": "code",
   "execution_count": 10,
   "metadata": {},
   "outputs": [],
   "source": [
    "# collecting the needed coloumns.\n",
    "us  = us[['year','month','day','state','designated_area','declaration_title']]"
   ]
  },
  {
   "cell_type": "code",
   "execution_count": 13,
   "metadata": {},
   "outputs": [
    {
     "data": {
      "text/plain": [
       "(59084, 6)"
      ]
     },
     "execution_count": 13,
     "metadata": {},
     "output_type": "execute_result"
    }
   ],
   "source": [
    "us.shape"
   ]
  },
  {
   "cell_type": "code",
   "execution_count": 12,
   "metadata": {},
   "outputs": [
    {
     "data": {
      "text/plain": [
       "True"
      ]
     },
     "execution_count": 12,
     "metadata": {},
     "output_type": "execute_result"
    }
   ],
   "source": [
    "us.duplicated().any()"
   ]
  },
  {
   "cell_type": "code",
   "execution_count": 14,
   "metadata": {},
   "outputs": [],
   "source": [
    "us.drop_duplicates(inplace=True)"
   ]
  },
  {
   "cell_type": "code",
   "execution_count": 15,
   "metadata": {
    "scrolled": false
   },
   "outputs": [
    {
     "data": {
      "text/plain": [
       "(59031, 6)"
      ]
     },
     "execution_count": 15,
     "metadata": {},
     "output_type": "execute_result"
    }
   ],
   "source": [
    "us.shape"
   ]
  },
  {
   "cell_type": "code",
   "execution_count": 16,
   "metadata": {},
   "outputs": [
    {
     "data": {
      "text/plain": [
       "False"
      ]
     },
     "execution_count": 16,
     "metadata": {},
     "output_type": "execute_result"
    }
   ],
   "source": [
    "us.duplicated().any()"
   ]
  },
  {
   "cell_type": "code",
   "execution_count": 17,
   "metadata": {},
   "outputs": [
    {
     "data": {
      "image/png": "[encoded data removed]",
      "text/plain": [
       "<Figure size 432x288 with 1 Axes>"
      ]
     },
     "metadata": {},
     "output_type": "display_data"
    }
   ],
   "source": [
    "# visual display of the most affected states\n",
    "state_count = us['state'].value_counts()\n",
    "sns.set(style=\"darkgrid\")\n",
    "sns.barplot(state_count.index, state_count.values, alpha=0.9)\n",
    "plt.title('Frequency Distribution of State')\n",
    "plt.ylabel('Number of Occurrences', fontsize=12)\n",
    "plt.xlabel('States', fontsize=12)\n",
    "plt.xticks(rotation = 90)\n",
    "plt.show()  # So from what we can see there is alot occurance of disasters in the state of texas\n"
   ]
  },
  {
   "cell_type": "code",
   "execution_count": 18,
   "metadata": {},
   "outputs": [],
   "source": [
    "state = dict(enumerate(us.state.astype('category').cat.categories))\n",
    "designated_area = dict(enumerate(us.designated_area.astype('category').cat.categories))\n",
    "declaration_title = dict(enumerate(us.declaration_title.astype('category').cat.categories))"
   ]
  },
  {
   "cell_type": "code",
   "execution_count": 19,
   "metadata": {},
   "outputs": [],
   "source": [
    "us['state_code'] = us.state.astype('category').cat.codes\n",
    "us['designated_area_code'] = us.designated_area.astype('category').cat.codes\n",
    "us['declaration_title_code'] = us.declaration_title.astype('category').cat.codes"
   ]
  },
  {
   "cell_type": "code",
   "execution_count": 20,
   "metadata": {},
   "outputs": [
    {
     "data": {
      "text/html": [
       "<div>\n",
       "<style scoped>\n",
       "    .dataframe tbody tr th:only-of-type {\n",
       "        vertical-align: middle;\n",
       "    }\n",
       "\n",
       "    .dataframe tbody tr th {\n",
       "        vertical-align: top;\n",
       "    }\n",
       "\n",
       "    .dataframe thead th {\n",
       "        text-align: right;\n",
       "    }\n",
       "</style>\n",
       "<table border=\"1\" class=\"dataframe\">\n",
       "  <thead>\n",
       "    <tr style=\"text-align: right;\">\n",
       "      <th></th>\n",
       "      <th>year</th>\n",
       "      <th>month</th>\n",
       "      <th>day</th>\n",
       "      <th>state</th>\n",
       "      <th>designated_area</th>\n",
       "      <th>declaration_title</th>\n",
       "      <th>state_code</th>\n",
       "      <th>designated_area_code</th>\n",
       "      <th>declaration_title_code</th>\n",
       "    </tr>\n",
       "  </thead>\n",
       "  <tbody>\n",
       "    <tr>\n",
       "      <th>0</th>\n",
       "      <td>1953</td>\n",
       "      <td>5</td>\n",
       "      <td>2</td>\n",
       "      <td>GA</td>\n",
       "      <td>Statewide</td>\n",
       "      <td>Tornado</td>\n",
       "      <td>12</td>\n",
       "      <td>2135</td>\n",
       "      <td>1737</td>\n",
       "    </tr>\n",
       "    <tr>\n",
       "      <th>1</th>\n",
       "      <td>1953</td>\n",
       "      <td>5</td>\n",
       "      <td>15</td>\n",
       "      <td>TX</td>\n",
       "      <td>Statewide</td>\n",
       "      <td>Tornado &amp; Heavy Rainfall</td>\n",
       "      <td>50</td>\n",
       "      <td>2135</td>\n",
       "      <td>1738</td>\n",
       "    </tr>\n",
       "    <tr>\n",
       "      <th>2</th>\n",
       "      <td>1953</td>\n",
       "      <td>5</td>\n",
       "      <td>29</td>\n",
       "      <td>LA</td>\n",
       "      <td>Statewide</td>\n",
       "      <td>Flood</td>\n",
       "      <td>21</td>\n",
       "      <td>2135</td>\n",
       "      <td>492</td>\n",
       "    </tr>\n",
       "    <tr>\n",
       "      <th>3</th>\n",
       "      <td>1953</td>\n",
       "      <td>6</td>\n",
       "      <td>2</td>\n",
       "      <td>MI</td>\n",
       "      <td>Statewide</td>\n",
       "      <td>Tornado</td>\n",
       "      <td>26</td>\n",
       "      <td>2135</td>\n",
       "      <td>1737</td>\n",
       "    </tr>\n",
       "    <tr>\n",
       "      <th>4</th>\n",
       "      <td>1953</td>\n",
       "      <td>6</td>\n",
       "      <td>6</td>\n",
       "      <td>MT</td>\n",
       "      <td>Statewide</td>\n",
       "      <td>Floods</td>\n",
       "      <td>31</td>\n",
       "      <td>2135</td>\n",
       "      <td>520</td>\n",
       "    </tr>\n",
       "  </tbody>\n",
       "</table>\n",
       "</div>"
      ],
      "text/plain": [
       "   year  month  day state designated_area         declaration_title  \\\n",
       "0  1953      5    2    GA       Statewide                   Tornado   \n",
       "1  1953      5   15    TX       Statewide  Tornado & Heavy Rainfall   \n",
       "2  1953      5   29    LA       Statewide                     Flood   \n",
       "3  1953      6    2    MI       Statewide                   Tornado   \n",
       "4  1953      6    6    MT       Statewide                    Floods   \n",
       "\n",
       "   state_code  designated_area_code  declaration_title_code  \n",
       "0          12                  2135                    1737  \n",
       "1          50                  2135                    1738  \n",
       "2          21                  2135                     492  \n",
       "3          26                  2135                    1737  \n",
       "4          31                  2135                     520  "
      ]
     },
     "execution_count": 20,
     "metadata": {},
     "output_type": "execute_result"
    }
   ],
   "source": [
    "us.head()"
   ]
  },
  {
   "cell_type": "code",
   "execution_count": 21,
   "metadata": {},
   "outputs": [],
   "source": [
    "us.drop(['state','designated_area','declaration_title'],inplace = True, axis=1)"
   ]
  },
  {
   "cell_type": "code",
   "execution_count": 22,
   "metadata": {},
   "outputs": [
    {
     "data": {
      "text/html": [
       "<div>\n",
       "<style scoped>\n",
       "    .dataframe tbody tr th:only-of-type {\n",
       "        vertical-align: middle;\n",
       "    }\n",
       "\n",
       "    .dataframe tbody tr th {\n",
       "        vertical-align: top;\n",
       "    }\n",
       "\n",
       "    .dataframe thead th {\n",
       "        text-align: right;\n",
       "    }\n",
       "</style>\n",
       "<table border=\"1\" class=\"dataframe\">\n",
       "  <thead>\n",
       "    <tr style=\"text-align: right;\">\n",
       "      <th></th>\n",
       "      <th>year</th>\n",
       "      <th>month</th>\n",
       "      <th>day</th>\n",
       "      <th>state_code</th>\n",
       "      <th>designated_area_code</th>\n",
       "      <th>declaration_title_code</th>\n",
       "    </tr>\n",
       "  </thead>\n",
       "  <tbody>\n",
       "    <tr>\n",
       "      <th>0</th>\n",
       "      <td>1953</td>\n",
       "      <td>5</td>\n",
       "      <td>2</td>\n",
       "      <td>12</td>\n",
       "      <td>2135</td>\n",
       "      <td>1737</td>\n",
       "    </tr>\n",
       "    <tr>\n",
       "      <th>1</th>\n",
       "      <td>1953</td>\n",
       "      <td>5</td>\n",
       "      <td>15</td>\n",
       "      <td>50</td>\n",
       "      <td>2135</td>\n",
       "      <td>1738</td>\n",
       "    </tr>\n",
       "    <tr>\n",
       "      <th>2</th>\n",
       "      <td>1953</td>\n",
       "      <td>5</td>\n",
       "      <td>29</td>\n",
       "      <td>21</td>\n",
       "      <td>2135</td>\n",
       "      <td>492</td>\n",
       "    </tr>\n",
       "    <tr>\n",
       "      <th>3</th>\n",
       "      <td>1953</td>\n",
       "      <td>6</td>\n",
       "      <td>2</td>\n",
       "      <td>26</td>\n",
       "      <td>2135</td>\n",
       "      <td>1737</td>\n",
       "    </tr>\n",
       "    <tr>\n",
       "      <th>4</th>\n",
       "      <td>1953</td>\n",
       "      <td>6</td>\n",
       "      <td>6</td>\n",
       "      <td>31</td>\n",
       "      <td>2135</td>\n",
       "      <td>520</td>\n",
       "    </tr>\n",
       "  </tbody>\n",
       "</table>\n",
       "</div>"
      ],
      "text/plain": [
       "   year  month  day  state_code  designated_area_code  declaration_title_code\n",
       "0  1953      5    2          12                  2135                    1737\n",
       "1  1953      5   15          50                  2135                    1738\n",
       "2  1953      5   29          21                  2135                     492\n",
       "3  1953      6    2          26                  2135                    1737\n",
       "4  1953      6    6          31                  2135                     520"
      ]
     },
     "execution_count": 22,
     "metadata": {},
     "output_type": "execute_result"
    }
   ],
   "source": [
    "us.head()"
   ]
  },
  {
   "cell_type": "code",
   "execution_count": 23,
   "metadata": {},
   "outputs": [],
   "source": [
    "def date_ordering(us):\n",
    "    combo =[]\n",
    "    year = us['year'].tolist()\n",
    "    month = us['month'].tolist()\n",
    "    day =us['day'].tolist()\n",
    "    zipped = zip(day, month, year)\n",
    "    for i,j, k in zipped:\n",
    "        combo.append(str(i)+'/'+str(j)+'/'+ str(k))\n",
    "        \n",
    "    return combo"
   ]
  },
  {
   "cell_type": "code",
   "execution_count": 24,
   "metadata": {},
   "outputs": [],
   "source": [
    "fulldate = date_ordering(us)"
   ]
  },
  {
   "cell_type": "code",
   "execution_count": 25,
   "metadata": {},
   "outputs": [],
   "source": [
    "us['fulldate'] = fulldate"
   ]
  },
  {
   "cell_type": "code",
   "execution_count": 26,
   "metadata": {},
   "outputs": [],
   "source": [
    "us.set_index(\"fulldate\", inplace = True) "
   ]
  },
  {
   "cell_type": "code",
   "execution_count": 27,
   "metadata": {},
   "outputs": [
    {
     "data": {
      "text/html": [
       "<div>\n",
       "<style scoped>\n",
       "    .dataframe tbody tr th:only-of-type {\n",
       "        vertical-align: middle;\n",
       "    }\n",
       "\n",
       "    .dataframe tbody tr th {\n",
       "        vertical-align: top;\n",
       "    }\n",
       "\n",
       "    .dataframe thead th {\n",
       "        text-align: right;\n",
       "    }\n",
       "</style>\n",
       "<table border=\"1\" class=\"dataframe\">\n",
       "  <thead>\n",
       "    <tr style=\"text-align: right;\">\n",
       "      <th></th>\n",
       "      <th>year</th>\n",
       "      <th>month</th>\n",
       "      <th>day</th>\n",
       "      <th>state_code</th>\n",
       "      <th>designated_area_code</th>\n",
       "      <th>declaration_title_code</th>\n",
       "    </tr>\n",
       "    <tr>\n",
       "      <th>fulldate</th>\n",
       "      <th></th>\n",
       "      <th></th>\n",
       "      <th></th>\n",
       "      <th></th>\n",
       "      <th></th>\n",
       "      <th></th>\n",
       "    </tr>\n",
       "  </thead>\n",
       "  <tbody>\n",
       "    <tr>\n",
       "      <th>2/5/1953</th>\n",
       "      <td>1953</td>\n",
       "      <td>5</td>\n",
       "      <td>2</td>\n",
       "      <td>12</td>\n",
       "      <td>2135</td>\n",
       "      <td>1737</td>\n",
       "    </tr>\n",
       "    <tr>\n",
       "      <th>15/5/1953</th>\n",
       "      <td>1953</td>\n",
       "      <td>5</td>\n",
       "      <td>15</td>\n",
       "      <td>50</td>\n",
       "      <td>2135</td>\n",
       "      <td>1738</td>\n",
       "    </tr>\n",
       "    <tr>\n",
       "      <th>29/5/1953</th>\n",
       "      <td>1953</td>\n",
       "      <td>5</td>\n",
       "      <td>29</td>\n",
       "      <td>21</td>\n",
       "      <td>2135</td>\n",
       "      <td>492</td>\n",
       "    </tr>\n",
       "    <tr>\n",
       "      <th>2/6/1953</th>\n",
       "      <td>1953</td>\n",
       "      <td>6</td>\n",
       "      <td>2</td>\n",
       "      <td>26</td>\n",
       "      <td>2135</td>\n",
       "      <td>1737</td>\n",
       "    </tr>\n",
       "    <tr>\n",
       "      <th>6/6/1953</th>\n",
       "      <td>1953</td>\n",
       "      <td>6</td>\n",
       "      <td>6</td>\n",
       "      <td>31</td>\n",
       "      <td>2135</td>\n",
       "      <td>520</td>\n",
       "    </tr>\n",
       "  </tbody>\n",
       "</table>\n",
       "</div>"
      ],
      "text/plain": [
       "           year  month  day  state_code  designated_area_code  \\\n",
       "fulldate                                                        \n",
       "2/5/1953   1953      5    2          12                  2135   \n",
       "15/5/1953  1953      5   15          50                  2135   \n",
       "29/5/1953  1953      5   29          21                  2135   \n",
       "2/6/1953   1953      6    2          26                  2135   \n",
       "6/6/1953   1953      6    6          31                  2135   \n",
       "\n",
       "           declaration_title_code  \n",
       "fulldate                           \n",
       "2/5/1953                     1737  \n",
       "15/5/1953                    1738  \n",
       "29/5/1953                     492  \n",
       "2/6/1953                     1737  \n",
       "6/6/1953                      520  "
      ]
     },
     "execution_count": 27,
     "metadata": {},
     "output_type": "execute_result"
    }
   ],
   "source": [
    "us.head()"
   ]
  },
  {
   "cell_type": "code",
   "execution_count": 28,
   "metadata": {},
   "outputs": [
    {
     "data": {
      "text/plain": [
       "<matplotlib.axes._subplots.AxesSubplot at 0xd9313a8e08>"
      ]
     },
     "execution_count": 28,
     "metadata": {},
     "output_type": "execute_result"
    },
    {
     "data": {
      "image/png": "[encoded data removed]",
      "text/plain": [
       "<Figure size 432x288 with 1 Axes>"
      ]
     },
     "metadata": {},
     "output_type": "display_data"
    }
   ],
   "source": [
    "# Trying to see if I can use the countries to visualize a trend.\n",
    "us['state_code'].plot()"
   ]
  },
  {
   "cell_type": "code",
   "execution_count": 29,
   "metadata": {},
   "outputs": [
    {
     "data": {
      "text/plain": [
       "<matplotlib.axes._subplots.AxesSubplot at 0xd9313413c8>"
      ]
     },
     "execution_count": 29,
     "metadata": {},
     "output_type": "execute_result"
    },
    {
     "data": {
      "image/png": "[encoded data removed]",
      "text/plain": [
       "<Figure size 432x288 with 1 Axes>"
      ]
     },
     "metadata": {},
     "output_type": "display_data"
    }
   ],
   "source": [
    "# Trying to see if I can visualize a trend in natural disasters.\n",
    "us['declaration_title_code'].plot()"
   ]
  },
  {
   "cell_type": "code",
   "execution_count": 30,
   "metadata": {},
   "outputs": [
    {
     "data": {
      "text/plain": [
       "(59031, 6)"
      ]
     },
     "execution_count": 30,
     "metadata": {},
     "output_type": "execute_result"
    }
   ],
   "source": [
    "us.shape"
   ]
  },
  {
   "cell_type": "code",
   "execution_count": 31,
   "metadata": {},
   "outputs": [],
   "source": [
    "#splitting the dataset into train and test\n",
    "us_train = us[0:59000]\n",
    "us_test = us[59000:]"
   ]
  },
  {
   "cell_type": "code",
   "execution_count": 32,
   "metadata": {
    "scrolled": true
   },
   "outputs": [
    {
     "data": {
      "text/html": [
       "<div>\n",
       "<style scoped>\n",
       "    .dataframe tbody tr th:only-of-type {\n",
       "        vertical-align: middle;\n",
       "    }\n",
       "\n",
       "    .dataframe tbody tr th {\n",
       "        vertical-align: top;\n",
       "    }\n",
       "\n",
       "    .dataframe thead th {\n",
       "        text-align: right;\n",
       "    }\n",
       "</style>\n",
       "<table border=\"1\" class=\"dataframe\">\n",
       "  <thead>\n",
       "    <tr style=\"text-align: right;\">\n",
       "      <th></th>\n",
       "      <th>year</th>\n",
       "      <th>month</th>\n",
       "      <th>day</th>\n",
       "      <th>state_code</th>\n",
       "      <th>designated_area_code</th>\n",
       "      <th>declaration_title_code</th>\n",
       "    </tr>\n",
       "    <tr>\n",
       "      <th>fulldate</th>\n",
       "      <th></th>\n",
       "      <th></th>\n",
       "      <th></th>\n",
       "      <th></th>\n",
       "      <th></th>\n",
       "      <th></th>\n",
       "    </tr>\n",
       "  </thead>\n",
       "  <tbody>\n",
       "    <tr>\n",
       "      <th>2/5/1953</th>\n",
       "      <td>1953</td>\n",
       "      <td>5</td>\n",
       "      <td>2</td>\n",
       "      <td>12</td>\n",
       "      <td>2135</td>\n",
       "      <td>1737</td>\n",
       "    </tr>\n",
       "    <tr>\n",
       "      <th>15/5/1953</th>\n",
       "      <td>1953</td>\n",
       "      <td>5</td>\n",
       "      <td>15</td>\n",
       "      <td>50</td>\n",
       "      <td>2135</td>\n",
       "      <td>1738</td>\n",
       "    </tr>\n",
       "    <tr>\n",
       "      <th>29/5/1953</th>\n",
       "      <td>1953</td>\n",
       "      <td>5</td>\n",
       "      <td>29</td>\n",
       "      <td>21</td>\n",
       "      <td>2135</td>\n",
       "      <td>492</td>\n",
       "    </tr>\n",
       "    <tr>\n",
       "      <th>2/6/1953</th>\n",
       "      <td>1953</td>\n",
       "      <td>6</td>\n",
       "      <td>2</td>\n",
       "      <td>26</td>\n",
       "      <td>2135</td>\n",
       "      <td>1737</td>\n",
       "    </tr>\n",
       "    <tr>\n",
       "      <th>6/6/1953</th>\n",
       "      <td>1953</td>\n",
       "      <td>6</td>\n",
       "      <td>6</td>\n",
       "      <td>31</td>\n",
       "      <td>2135</td>\n",
       "      <td>520</td>\n",
       "    </tr>\n",
       "  </tbody>\n",
       "</table>\n",
       "</div>"
      ],
      "text/plain": [
       "           year  month  day  state_code  designated_area_code  \\\n",
       "fulldate                                                        \n",
       "2/5/1953   1953      5    2          12                  2135   \n",
       "15/5/1953  1953      5   15          50                  2135   \n",
       "29/5/1953  1953      5   29          21                  2135   \n",
       "2/6/1953   1953      6    2          26                  2135   \n",
       "6/6/1953   1953      6    6          31                  2135   \n",
       "\n",
       "           declaration_title_code  \n",
       "fulldate                           \n",
       "2/5/1953                     1737  \n",
       "15/5/1953                    1738  \n",
       "29/5/1953                     492  \n",
       "2/6/1953                     1737  \n",
       "6/6/1953                      520  "
      ]
     },
     "execution_count": 32,
     "metadata": {},
     "output_type": "execute_result"
    }
   ],
   "source": [
    "us_train.head()"
   ]
  },
  {
   "cell_type": "code",
   "execution_count": 33,
   "metadata": {},
   "outputs": [
    {
     "data": {
      "text/html": [
       "<div>\n",
       "<style scoped>\n",
       "    .dataframe tbody tr th:only-of-type {\n",
       "        vertical-align: middle;\n",
       "    }\n",
       "\n",
       "    .dataframe tbody tr th {\n",
       "        vertical-align: top;\n",
       "    }\n",
       "\n",
       "    .dataframe thead th {\n",
       "        text-align: right;\n",
       "    }\n",
       "</style>\n",
       "<table border=\"1\" class=\"dataframe\">\n",
       "  <thead>\n",
       "    <tr style=\"text-align: right;\">\n",
       "      <th></th>\n",
       "      <th>year</th>\n",
       "      <th>month</th>\n",
       "      <th>day</th>\n",
       "      <th>state_code</th>\n",
       "      <th>designated_area_code</th>\n",
       "      <th>declaration_title_code</th>\n",
       "    </tr>\n",
       "    <tr>\n",
       "      <th>fulldate</th>\n",
       "      <th></th>\n",
       "      <th></th>\n",
       "      <th></th>\n",
       "      <th></th>\n",
       "      <th></th>\n",
       "      <th></th>\n",
       "    </tr>\n",
       "  </thead>\n",
       "  <tbody>\n",
       "    <tr>\n",
       "      <th>8/5/2020</th>\n",
       "      <td>2020</td>\n",
       "      <td>5</td>\n",
       "      <td>8</td>\n",
       "      <td>32</td>\n",
       "      <td>2727</td>\n",
       "      <td>1471</td>\n",
       "    </tr>\n",
       "    <tr>\n",
       "      <th>8/5/2020</th>\n",
       "      <td>2020</td>\n",
       "      <td>5</td>\n",
       "      <td>8</td>\n",
       "      <td>32</td>\n",
       "      <td>2733</td>\n",
       "      <td>1471</td>\n",
       "    </tr>\n",
       "    <tr>\n",
       "      <th>8/5/2020</th>\n",
       "      <td>2020</td>\n",
       "      <td>5</td>\n",
       "      <td>8</td>\n",
       "      <td>2</td>\n",
       "      <td>546</td>\n",
       "      <td>1474</td>\n",
       "    </tr>\n",
       "    <tr>\n",
       "      <th>8/5/2020</th>\n",
       "      <td>2020</td>\n",
       "      <td>5</td>\n",
       "      <td>8</td>\n",
       "      <td>10</td>\n",
       "      <td>194</td>\n",
       "      <td>322</td>\n",
       "    </tr>\n",
       "    <tr>\n",
       "      <th>8/5/2020</th>\n",
       "      <td>2020</td>\n",
       "      <td>5</td>\n",
       "      <td>8</td>\n",
       "      <td>10</td>\n",
       "      <td>264</td>\n",
       "      <td>322</td>\n",
       "    </tr>\n",
       "  </tbody>\n",
       "</table>\n",
       "</div>"
      ],
      "text/plain": [
       "          year  month  day  state_code  designated_area_code  \\\n",
       "fulldate                                                       \n",
       "8/5/2020  2020      5    8          32                  2727   \n",
       "8/5/2020  2020      5    8          32                  2733   \n",
       "8/5/2020  2020      5    8           2                   546   \n",
       "8/5/2020  2020      5    8          10                   194   \n",
       "8/5/2020  2020      5    8          10                   264   \n",
       "\n",
       "          declaration_title_code  \n",
       "fulldate                          \n",
       "8/5/2020                    1471  \n",
       "8/5/2020                    1471  \n",
       "8/5/2020                    1474  \n",
       "8/5/2020                     322  \n",
       "8/5/2020                     322  "
      ]
     },
     "execution_count": 33,
     "metadata": {},
     "output_type": "execute_result"
    }
   ],
   "source": [
    "us_test.head()"
   ]
  },
  {
   "cell_type": "code",
   "execution_count": 34,
   "metadata": {},
   "outputs": [],
   "source": [
    "from sklearn.preprocessing import MinMaxScaler\n",
    "sc =MinMaxScaler(feature_range = (0,1))\n",
    "us_scaled_set = sc.fit_transform(us_train)"
   ]
  },
  {
   "cell_type": "code",
   "execution_count": 35,
   "metadata": {},
   "outputs": [],
   "source": [
    "time_steps = 90\n",
    "length =  len(us_scaled_set)\n",
    "col = us.shape[1]"
   ]
  },
  {
   "cell_type": "code",
   "execution_count": 36,
   "metadata": {},
   "outputs": [],
   "source": [
    "# creating the time steps\n",
    "x_train = []\n",
    "y_train = []\n",
    "\n",
    "for i in range(time_steps, length):\n",
    "    x_train.append(us_scaled_set[i-time_steps:i, :])  \n",
    "    y_train.append(us_scaled_set[i,:])"
   ]
  },
  {
   "cell_type": "code",
   "execution_count": 37,
   "metadata": {},
   "outputs": [],
   "source": [
    "x_train, y_train = np.array(x_train), np.array(y_train)"
   ]
  },
  {
   "cell_type": "code",
   "execution_count": 38,
   "metadata": {},
   "outputs": [],
   "source": [
    "x_train = np.reshape(x_train,(x_train.shape[0], x_train.shape[1], col))"
   ]
  },
  {
   "cell_type": "code",
   "execution_count": 39,
   "metadata": {},
   "outputs": [
    {
     "name": "stderr",
     "output_type": "stream",
     "text": [
      "Using TensorFlow backend.\n"
     ]
    }
   ],
   "source": [
    "from keras.models import Sequential\n",
    "from keras.layers import Dense\n",
    "from keras.layers import LSTM\n",
    "from keras.layers import Dropout\n",
    "from keras import backend\n",
    "from keras.models import load_model"
   ]
  },
  {
   "cell_type": "code",
   "execution_count": 40,
   "metadata": {},
   "outputs": [],
   "source": [
    "# 6 layer LSTM 0f 35 neurons each.\n",
    "detector = Sequential()\n",
    "detector.add(LSTM(units = 60, return_sequences = True, input_shape = (x_train.shape[1], col)))\n",
    "detector.add(Dropout(0.3))\n",
    "detector.add(LSTM(units = 60, return_sequences =True))\n",
    "detector.add(Dropout(0.3))\n",
    "detector.add(LSTM(units = 60, return_sequences =True))\n",
    "detector.add(Dropout(0.3))\n",
    "detector.add(LSTM(units = 60, return_sequences =True))\n",
    "detector.add(Dropout(0.3))\n",
    "detector.add(LSTM(units = 60, return_sequences =True))\n",
    "detector.add(Dropout(0.3))\n",
    "detector.add(LSTM(units = 60))\n",
    "detector.add(Dropout(0.3))\n",
    "detector.add(Dense(units=col))\n",
    "detector.compile(optimizer = 'RMSprop', loss = 'mean_squared_error', metrics = ['accuracy'])"
   ]
  },
  {
   "cell_type": "code",
   "execution_count": null,
   "metadata": {
    "scrolled": true
   },
   "outputs": [
    {
     "name": "stdout",
     "output_type": "stream",
     "text": [
      "Epoch 1/30\n",
      "58910/58910 [==============================] - 1787s 30ms/step - loss: 0.0371 - accuracy: 0.5981\n",
      "Epoch 2/30\n",
      "58910/58910 [==============================] - 1752s 30ms/step - loss: 0.0245 - accuracy: 0.6736\n",
      "Epoch 3/30\n",
      "58910/58910 [==============================] - 1777s 30ms/step - loss: 0.0224 - accuracy: 0.6831\n",
      "Epoch 4/30\n",
      "58910/58910 [==============================] - 1599s 27ms/step - loss: 0.0218 - accuracy: 0.6895\n",
      "Epoch 5/30\n",
      "58910/58910 [==============================] - 860s 15ms/step - loss: 0.0213 - accuracy: 0.6903\n",
      "Epoch 6/30\n",
      "58910/58910 [==============================] - 633s 11ms/step - loss: 0.0211 - accuracy: 0.6952\n",
      "Epoch 7/30\n",
      "58910/58910 [==============================] - 632s 11ms/step - loss: 0.0209 - accuracy: 0.6917\n",
      "Epoch 8/30\n",
      "58910/58910 [==============================] - 649s 11ms/step - loss: 0.0207 - accuracy: 0.6976\n",
      "Epoch 9/30\n",
      "58910/58910 [==============================] - 650s 11ms/step - loss: 0.0205 - accuracy: 0.7019\n",
      "Epoch 10/30\n",
      "58910/58910 [==============================] - 649s 11ms/step - loss: 0.0204 - accuracy: 0.7014\n",
      "Epoch 11/30\n",
      "58910/58910 [==============================] - 648s 11ms/step - loss: 0.0203 - accuracy: 0.7008\n",
      "Epoch 12/30\n",
      "58910/58910 [==============================] - 647s 11ms/step - loss: 0.0201 - accuracy: 0.7041\n",
      "Epoch 13/30\n",
      "58910/58910 [==============================] - 650s 11ms/step - loss: 0.0201 - accuracy: 0.7042\n",
      "Epoch 14/30\n",
      "58910/58910 [==============================] - 648s 11ms/step - loss: 0.0200 - accuracy: 0.7058\n",
      "Epoch 15/30\n",
      "58910/58910 [==============================] - 648s 11ms/step - loss: 0.0199 - accuracy: 0.7061\n",
      "Epoch 16/30\n",
      "58910/58910 [==============================] - 648s 11ms/step - loss: 0.0199 - accuracy: 0.7060\n",
      "Epoch 17/30\n",
      "58910/58910 [==============================] - 739s 13ms/step - loss: 0.0198 - accuracy: 0.7089\n",
      "Epoch 18/30\n",
      "58910/58910 [==============================] - 645s 11ms/step - loss: 0.0197 - accuracy: 0.7091\n",
      "Epoch 19/30\n",
      "58910/58910 [==============================] - 644s 11ms/step - loss: 0.0197 - accuracy: 0.7082\n",
      "Epoch 20/30\n",
      "58910/58910 [==============================] - 646s 11ms/step - loss: 0.0196 - accuracy: 0.7097\n",
      "Epoch 21/30\n",
      "58910/58910 [==============================] - 645s 11ms/step - loss: 0.0196 - accuracy: 0.7110\n",
      "Epoch 22/30\n",
      "45840/58910 [======================>.......] - ETA: 3:58 - loss: 0.0196 - accuracy: 0.7096"
     ]
    }
   ],
   "source": [
    "detector.fit(x_train, y_train, epochs = 30, batch_size = 30)"
   ]
  },
  {
   "cell_type": "code",
   "execution_count": null,
   "metadata": {},
   "outputs": [],
   "source": [
    "detector.save('ND_detector.h5')"
   ]
  },
  {
   "cell_type": "markdown",
   "metadata": {},
   "source": [
    "### test dataset"
   ]
  },
  {
   "cell_type": "code",
   "execution_count": null,
   "metadata": {
    "scrolled": false
   },
   "outputs": [],
   "source": [
    "us_test.head()"
   ]
  },
  {
   "cell_type": "code",
   "execution_count": null,
   "metadata": {},
   "outputs": [],
   "source": [
    "real_length = len(us_test)"
   ]
  },
  {
   "cell_type": "code",
   "execution_count": null,
   "metadata": {},
   "outputs": [],
   "source": [
    "total_data = pd.concat((us_train, us_test), axis = 0)"
   ]
  },
  {
   "cell_type": "code",
   "execution_count": null,
   "metadata": {},
   "outputs": [],
   "source": [
    "inputs = total_data[len(us_train) - len(us_test) - time_steps :].values\n",
    "inputs = inputs.reshape(-1,col)"
   ]
  },
  {
   "cell_type": "code",
   "execution_count": null,
   "metadata": {},
   "outputs": [],
   "source": [
    "inputs = sc.transform(inputs)"
   ]
  },
  {
   "cell_type": "code",
   "execution_count": null,
   "metadata": {},
   "outputs": [],
   "source": [
    "value = time_steps + real_length"
   ]
  },
  {
   "cell_type": "code",
   "execution_count": null,
   "metadata": {},
   "outputs": [],
   "source": [
    "x_test = []\n",
    "for i in range(time_steps, value):                \n",
    "    x_test.append(inputs[i - time_steps: i, : ])    \n",
    "                                              "
   ]
  },
  {
   "cell_type": "code",
   "execution_count": null,
   "metadata": {},
   "outputs": [],
   "source": [
    "x_test= np.array(x_test)\n",
    "x_test.shape"
   ]
  },
  {
   "cell_type": "code",
   "execution_count": null,
   "metadata": {},
   "outputs": [],
   "source": [
    "x_test = np.reshape(x_test,(x_test.shape[0], x_test.shape[1], col))"
   ]
  },
  {
   "cell_type": "code",
   "execution_count": null,
   "metadata": {},
   "outputs": [],
   "source": [
    "detect = load_model('ND_detector.h5')"
   ]
  },
  {
   "cell_type": "code",
   "execution_count": null,
   "metadata": {},
   "outputs": [],
   "source": [
    "predicted_values = detect.predict(x_test)\n",
    "predicted_values = sc.inverse_transform(predicted_values)"
   ]
  },
  {
   "cell_type": "code",
   "execution_count": null,
   "metadata": {},
   "outputs": [],
   "source": [
    "pred_df = pd.DataFrame(predicted_values, columns= us_test.columns)"
   ]
  },
  {
   "cell_type": "code",
   "execution_count": null,
   "metadata": {},
   "outputs": [],
   "source": [
    "pred_df = pred_df.round()\n",
    "pred_df.head()"
   ]
  },
  {
   "cell_type": "code",
   "execution_count": null,
   "metadata": {},
   "outputs": [],
   "source": [
    "us_test.head()"
   ]
  },
  {
   "cell_type": "code",
   "execution_count": null,
   "metadata": {},
   "outputs": [],
   "source": [
    "pred_df['state'] = pred_df['state_code'].map(state)\n",
    "pred_df['designated_area'] = pred_df['designated_area_code'].map(designated_area)\n",
    "pred_df['declaration_title'] = pred_df['declaration_title_code'].map(declaration_title)"
   ]
  },
  {
   "cell_type": "code",
   "execution_count": null,
   "metadata": {
    "scrolled": true
   },
   "outputs": [],
   "source": [
    "pred_df.drop(['state_code','designated_area_code','declaration_title_code'],inplace = True, axis=1)"
   ]
  },
  {
   "cell_type": "code",
   "execution_count": null,
   "metadata": {},
   "outputs": [],
   "source": [
    "us_test['state'] = us_test['state_code'].map(state)\n",
    "us_test['designated_area'] = us_test['designated_area_code'].map(designated_area)\n",
    "us_test['declaration_title'] = us_test['declaration_title_code'].map(declaration_title)"
   ]
  },
  {
   "cell_type": "code",
   "execution_count": null,
   "metadata": {},
   "outputs": [],
   "source": [
    "us_test.drop(['state_code','designated_area_code','declaration_title_code'],inplace = True, axis=1)"
   ]
  },
  {
   "cell_type": "code",
   "execution_count": null,
   "metadata": {},
   "outputs": [],
   "source": [
    "pred_df.head()"
   ]
  },
  {
   "cell_type": "code",
   "execution_count": null,
   "metadata": {},
   "outputs": [],
   "source": [
    "us_test.head()"
   ]
  },
  {
   "cell_type": "code",
   "execution_count": null,
   "metadata": {},
   "outputs": [],
   "source": []
  },
  {
   "cell_type": "code",
   "execution_count": null,
   "metadata": {},
   "outputs": [],
   "source": []
  }
 ],
 "metadata": {
  "kernelspec": {
   "display_name": "Python 3",
   "language": "python",
   "name": "python3"
  },
  "language_info": {
   "codemirror_mode": {
    "name": "ipython",
    "version": 3
   },
   "file_extension": ".py",
   "mimetype": "text/x-python",
   "name": "python",
   "nbconvert_exporter": "python",
   "pygments_lexer": "ipython3",
   "version": "3.7.6"
  }
 },
 "nbformat": 4,
 "nbformat_minor": 4
}
