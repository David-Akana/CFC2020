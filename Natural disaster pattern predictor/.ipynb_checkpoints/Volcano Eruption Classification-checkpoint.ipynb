{
 "cells": [
  {
   "cell_type": "code",
   "execution_count": 1,
   "metadata": {},
   "outputs": [],
   "source": [
    "import pandas as pd\n",
    "import numpy as np\n",
    "import matplotlib.pyplot as plt\n",
    "import seaborn as sns"
   ]
  },
  {
   "cell_type": "code",
   "execution_count": 2,
   "metadata": {},
   "outputs": [],
   "source": [
    "# The preprocessing function accepts a pandas dataframe with the \"Year\", \"Month\" and \"Day\" features for when a natural disaster\n",
    "# occured as well as the \"Longitude\" and \"latitude\" coordinates. The function returns a pandas dataframe with the mentioned \n",
    "# features but for all days within the starting and ending year of the original dataframe. It also has an added feature \n",
    "# \"target\" which is a 1 if a natural disaster occured on that day, and a 0 otherwise.\n",
    "\n",
    "def preprocessing_dataframe(disaster_df):\n",
    "    preprocessed_dict = {'Year': [], 'Latitude':[], 'Longitude': [], 'Month': [], 'Day': [], 'target': []} # Starting with a dictionary to hold all values, but will later change to a pandas dataframe\n",
    "    # Creating a dictionary that stores the latitude and longitude values for each specific place in the dataframe\n",
    "    print('Preprocessing ... ')\n",
    "    print(' ')\n",
    "    place_coords = {}\n",
    "    for place in disaster_df['Name'].unique():\n",
    "        lat = disaster_df[disaster_df['Name'] == place]['Latitude'].unique()[0]\n",
    "        lng = disaster_df[disaster_df['Name'] == place]['Longitude'].unique()[0]\n",
    "        place_coords[place] = (lat, lng)\n",
    "        \n",
    "    # All places with their respective coordinates are now stored in the \"place_coords\" dictionary\n",
    "    \n",
    "    year_start = disaster_df['Year'].unique().min() # Getting the earliest year in the dataframe\n",
    "    year_end = disaster_df['Year'].unique().max() # Getting the last year in the dataframe\n",
    "    \n",
    "    # Now, I'll iterate through all the years in order to assign the targets\n",
    "    for year in range(year_start, year_end+1):  \n",
    "        year_df = disaster_df[disaster_df['Year'] == year] # Dataframe for disasters happening in year \"year\" \n",
    "        \n",
    "        # I'll have to account for all the days of the months in the year, which are usually 30 and 31 except February\n",
    "        # Assigning the number of days for a specific year in the month of February is dependent on if the year is a leap year \n",
    "        # or not, where the number of days will be 29 or 28 respectively.\n",
    "        \n",
    "        month_days = [31, 28, 31, 30, 31, 30, 31, 31, 30, 31, 30, 31] # List containing number of days for each month of the year accordingly, i.e index 0 or January with 31 days. This is the list of days assuming it is not a leap year\n",
    "        if year%4 == 0:\n",
    "            if year%100 != 0:\n",
    "                month_days[1] = 29\n",
    "            else:\n",
    "                if year%400 == 0:\n",
    "                    month_days[1] = 29\n",
    "        \n",
    "        # Now, the \"month_days\" list's index \"1\" will remain 28 if it is not a leap year, and be changed to 29 if it is indeed\n",
    "        # a leap year\n",
    "        \n",
    "        # Would also need to iterate through all the places in the dataframe\n",
    "        for place in place_coords:\n",
    "            place_df = year_df[year_df['Name'] == place] # DataFrame for observations of only the place \"place\" \n",
    "            month_number = 1 # This is supposed to be January\n",
    "            \n",
    "            #Similar, iterating through all months...\n",
    "            for days in month_days:\n",
    "                month_df = place_df[place_df['Month'] == month_number] # DataFrame containing observations of only the month \"month\"\n",
    "                \n",
    "                # Iterating through all the days in the month...\n",
    "                for day in range(1, days+1):\n",
    "                    preprocessed_dict['Year'].append(year)\n",
    "                    preprocessed_dict['Latitude'].append(place_coords[place][0])\n",
    "                    preprocessed_dict['Longitude'].append(place_coords[place][1])\n",
    "                    preprocessed_dict['Month'].append(month_number)\n",
    "                    preprocessed_dict['Day'].append(day)\n",
    "                    # And finally, if the particular date is present in the dataframe, the target is set to 1, and 0 otherwise\n",
    "                    if place in year_df['Name'].unique() and month_number in place_df['Month'].unique() and day in month_df['Day'].unique():\n",
    "                        preprocessed_dict['target'].append(1)\n",
    "                    else:\n",
    "                        preprocessed_dict['target'].append(0)\n",
    "                month_number += 1\n",
    "                \n",
    "    preprocessed_df = pd.DataFrame(preprocessed_dict) # Transforming to a dataframe\n",
    "    \n",
    "    # Things to note: The function doesn't consider nan values, so if there is a nan value in any of the date features it will\n",
    "    # set the target to 0. Also, the preprocessed dataframe can be very large without care, so maybe sticking to 40, 50 years\n",
    "    # at most will be desirable. Also helps that for latter years, there's a lot less nan values. But could also edit it to\n",
    "    # perform a task if there is are nan values present.\n",
    "    print('Done!')\n",
    "    return preprocessed_df "
   ]
  },
  {
   "cell_type": "code",
   "execution_count": 3,
   "metadata": {},
   "outputs": [],
   "source": [
    "volc = pd.read_csv('data/txt/volerup.txt',delimiter = '\\t', quoting = 3, encoding='utf-8')"
   ]
  },
  {
   "cell_type": "code",
   "execution_count": 4,
   "metadata": {},
   "outputs": [],
   "source": [
    "volc  = volc[['Year','Month','Day','Name','Latitude','Longitude']]"
   ]
  },
  {
   "cell_type": "code",
   "execution_count": 5,
   "metadata": {},
   "outputs": [
    {
     "data": {
      "text/html": [
       "<div>\n",
       "<style scoped>\n",
       "    .dataframe tbody tr th:only-of-type {\n",
       "        vertical-align: middle;\n",
       "    }\n",
       "\n",
       "    .dataframe tbody tr th {\n",
       "        vertical-align: top;\n",
       "    }\n",
       "\n",
       "    .dataframe thead th {\n",
       "        text-align: right;\n",
       "    }\n",
       "</style>\n",
       "<table border=\"1\" class=\"dataframe\">\n",
       "  <thead>\n",
       "    <tr style=\"text-align: right;\">\n",
       "      <th></th>\n",
       "      <th>Year</th>\n",
       "      <th>Month</th>\n",
       "      <th>Day</th>\n",
       "      <th>Name</th>\n",
       "      <th>Latitude</th>\n",
       "      <th>Longitude</th>\n",
       "    </tr>\n",
       "  </thead>\n",
       "  <tbody>\n",
       "    <tr>\n",
       "      <th>0</th>\n",
       "      <td>-4360</td>\n",
       "      <td>NaN</td>\n",
       "      <td>NaN</td>\n",
       "      <td>Macauley Island</td>\n",
       "      <td>-30.200</td>\n",
       "      <td>-178.470</td>\n",
       "    </tr>\n",
       "    <tr>\n",
       "      <th>1</th>\n",
       "      <td>-4350</td>\n",
       "      <td>NaN</td>\n",
       "      <td>NaN</td>\n",
       "      <td>Kikai</td>\n",
       "      <td>30.780</td>\n",
       "      <td>130.280</td>\n",
       "    </tr>\n",
       "    <tr>\n",
       "      <th>2</th>\n",
       "      <td>-4050</td>\n",
       "      <td>NaN</td>\n",
       "      <td>NaN</td>\n",
       "      <td>Masaya</td>\n",
       "      <td>11.984</td>\n",
       "      <td>-86.161</td>\n",
       "    </tr>\n",
       "    <tr>\n",
       "      <th>3</th>\n",
       "      <td>-4000</td>\n",
       "      <td>NaN</td>\n",
       "      <td>NaN</td>\n",
       "      <td>Pago</td>\n",
       "      <td>-5.580</td>\n",
       "      <td>150.520</td>\n",
       "    </tr>\n",
       "    <tr>\n",
       "      <th>4</th>\n",
       "      <td>-3580</td>\n",
       "      <td>NaN</td>\n",
       "      <td>NaN</td>\n",
       "      <td>Taal</td>\n",
       "      <td>14.002</td>\n",
       "      <td>120.993</td>\n",
       "    </tr>\n",
       "  </tbody>\n",
       "</table>\n",
       "</div>"
      ],
      "text/plain": [
       "   Year  Month  Day             Name  Latitude  Longitude\n",
       "0 -4360    NaN  NaN  Macauley Island   -30.200   -178.470\n",
       "1 -4350    NaN  NaN            Kikai    30.780    130.280\n",
       "2 -4050    NaN  NaN           Masaya    11.984    -86.161\n",
       "3 -4000    NaN  NaN             Pago    -5.580    150.520\n",
       "4 -3580    NaN  NaN             Taal    14.002    120.993"
      ]
     },
     "execution_count": 5,
     "metadata": {},
     "output_type": "execute_result"
    }
   ],
   "source": [
    "volc.head()"
   ]
  },
  {
   "cell_type": "code",
   "execution_count": 6,
   "metadata": {},
   "outputs": [
    {
     "data": {
      "text/plain": [
       "(835, 6)"
      ]
     },
     "execution_count": 6,
     "metadata": {},
     "output_type": "execute_result"
    }
   ],
   "source": [
    "volc.shape"
   ]
  },
  {
   "cell_type": "code",
   "execution_count": 7,
   "metadata": {},
   "outputs": [
    {
     "data": {
      "text/plain": [
       "Year           0\n",
       "Month        127\n",
       "Day          188\n",
       "Name           0\n",
       "Latitude       0\n",
       "Longitude      0\n",
       "dtype: int64"
      ]
     },
     "execution_count": 7,
     "metadata": {},
     "output_type": "execute_result"
    }
   ],
   "source": [
    "volc.isnull().sum()"
   ]
  },
  {
   "cell_type": "code",
   "execution_count": 8,
   "metadata": {},
   "outputs": [],
   "source": [
    "volc = volc.dropna()"
   ]
  },
  {
   "cell_type": "code",
   "execution_count": 9,
   "metadata": {},
   "outputs": [
    {
     "data": {
      "text/plain": [
       "False"
      ]
     },
     "execution_count": 9,
     "metadata": {},
     "output_type": "execute_result"
    }
   ],
   "source": [
    "volc.duplicated().any()"
   ]
  },
  {
   "cell_type": "code",
   "execution_count": 108,
   "metadata": {},
   "outputs": [
    {
     "data": {
      "text/html": [
       "<div>\n",
       "<style scoped>\n",
       "    .dataframe tbody tr th:only-of-type {\n",
       "        vertical-align: middle;\n",
       "    }\n",
       "\n",
       "    .dataframe tbody tr th {\n",
       "        vertical-align: top;\n",
       "    }\n",
       "\n",
       "    .dataframe thead th {\n",
       "        text-align: right;\n",
       "    }\n",
       "</style>\n",
       "<table border=\"1\" class=\"dataframe\">\n",
       "  <thead>\n",
       "    <tr style=\"text-align: right;\">\n",
       "      <th></th>\n",
       "      <th>Year</th>\n",
       "      <th>Month</th>\n",
       "      <th>Day</th>\n",
       "      <th>Name</th>\n",
       "      <th>Latitude</th>\n",
       "      <th>Longitude</th>\n",
       "    </tr>\n",
       "  </thead>\n",
       "  <tbody>\n",
       "    <tr>\n",
       "      <th>608</th>\n",
       "      <td>1980</td>\n",
       "      <td>5.0</td>\n",
       "      <td>18.0</td>\n",
       "      <td>St. Helens</td>\n",
       "      <td>46.200</td>\n",
       "      <td>-122.180</td>\n",
       "    </tr>\n",
       "    <tr>\n",
       "      <th>609</th>\n",
       "      <td>1980</td>\n",
       "      <td>8.0</td>\n",
       "      <td>17.0</td>\n",
       "      <td>Hekla</td>\n",
       "      <td>63.980</td>\n",
       "      <td>-19.700</td>\n",
       "    </tr>\n",
       "    <tr>\n",
       "      <th>610</th>\n",
       "      <td>1980</td>\n",
       "      <td>12.0</td>\n",
       "      <td>25.0</td>\n",
       "      <td>Hood</td>\n",
       "      <td>45.374</td>\n",
       "      <td>-121.694</td>\n",
       "    </tr>\n",
       "    <tr>\n",
       "      <th>611</th>\n",
       "      <td>1981</td>\n",
       "      <td>3.0</td>\n",
       "      <td>17.0</td>\n",
       "      <td>Etna</td>\n",
       "      <td>37.734</td>\n",
       "      <td>15.004</td>\n",
       "    </tr>\n",
       "    <tr>\n",
       "      <th>612</th>\n",
       "      <td>1981</td>\n",
       "      <td>3.0</td>\n",
       "      <td>29.0</td>\n",
       "      <td>Semeru</td>\n",
       "      <td>-8.108</td>\n",
       "      <td>112.920</td>\n",
       "    </tr>\n",
       "  </tbody>\n",
       "</table>\n",
       "</div>"
      ],
      "text/plain": [
       "     Year  Month   Day        Name  Latitude  Longitude\n",
       "608  1980    5.0  18.0  St. Helens    46.200   -122.180\n",
       "609  1980    8.0  17.0       Hekla    63.980    -19.700\n",
       "610  1980   12.0  25.0        Hood    45.374   -121.694\n",
       "611  1981    3.0  17.0        Etna    37.734     15.004\n",
       "612  1981    3.0  29.0      Semeru    -8.108    112.920"
      ]
     },
     "execution_count": 108,
     "metadata": {},
     "output_type": "execute_result"
    }
   ],
   "source": [
    "volc_2000= volc[volc['Year'] >= 1980]\n",
    "volc_2000.head()"
   ]
  },
  {
   "cell_type": "code",
   "execution_count": 109,
   "metadata": {},
   "outputs": [],
   "source": [
    "volc_2000.reset_index(drop=True, inplace=True)"
   ]
  },
  {
   "cell_type": "code",
   "execution_count": 110,
   "metadata": {},
   "outputs": [
    {
     "data": {
      "text/html": [
       "<div>\n",
       "<style scoped>\n",
       "    .dataframe tbody tr th:only-of-type {\n",
       "        vertical-align: middle;\n",
       "    }\n",
       "\n",
       "    .dataframe tbody tr th {\n",
       "        vertical-align: top;\n",
       "    }\n",
       "\n",
       "    .dataframe thead th {\n",
       "        text-align: right;\n",
       "    }\n",
       "</style>\n",
       "<table border=\"1\" class=\"dataframe\">\n",
       "  <thead>\n",
       "    <tr style=\"text-align: right;\">\n",
       "      <th></th>\n",
       "      <th>Year</th>\n",
       "      <th>Month</th>\n",
       "      <th>Day</th>\n",
       "      <th>Name</th>\n",
       "      <th>Latitude</th>\n",
       "      <th>Longitude</th>\n",
       "    </tr>\n",
       "  </thead>\n",
       "  <tbody>\n",
       "    <tr>\n",
       "      <th>0</th>\n",
       "      <td>1980</td>\n",
       "      <td>5.0</td>\n",
       "      <td>18.0</td>\n",
       "      <td>St. Helens</td>\n",
       "      <td>46.200</td>\n",
       "      <td>-122.180</td>\n",
       "    </tr>\n",
       "    <tr>\n",
       "      <th>1</th>\n",
       "      <td>1980</td>\n",
       "      <td>8.0</td>\n",
       "      <td>17.0</td>\n",
       "      <td>Hekla</td>\n",
       "      <td>63.980</td>\n",
       "      <td>-19.700</td>\n",
       "    </tr>\n",
       "    <tr>\n",
       "      <th>2</th>\n",
       "      <td>1980</td>\n",
       "      <td>12.0</td>\n",
       "      <td>25.0</td>\n",
       "      <td>Hood</td>\n",
       "      <td>45.374</td>\n",
       "      <td>-121.694</td>\n",
       "    </tr>\n",
       "    <tr>\n",
       "      <th>3</th>\n",
       "      <td>1981</td>\n",
       "      <td>3.0</td>\n",
       "      <td>17.0</td>\n",
       "      <td>Etna</td>\n",
       "      <td>37.734</td>\n",
       "      <td>15.004</td>\n",
       "    </tr>\n",
       "    <tr>\n",
       "      <th>4</th>\n",
       "      <td>1981</td>\n",
       "      <td>3.0</td>\n",
       "      <td>29.0</td>\n",
       "      <td>Semeru</td>\n",
       "      <td>-8.108</td>\n",
       "      <td>112.920</td>\n",
       "    </tr>\n",
       "  </tbody>\n",
       "</table>\n",
       "</div>"
      ],
      "text/plain": [
       "   Year  Month   Day        Name  Latitude  Longitude\n",
       "0  1980    5.0  18.0  St. Helens    46.200   -122.180\n",
       "1  1980    8.0  17.0       Hekla    63.980    -19.700\n",
       "2  1980   12.0  25.0        Hood    45.374   -121.694\n",
       "3  1981    3.0  17.0        Etna    37.734     15.004\n",
       "4  1981    3.0  29.0      Semeru    -8.108    112.920"
      ]
     },
     "execution_count": 110,
     "metadata": {},
     "output_type": "execute_result"
    }
   ],
   "source": [
    "volc_2000.head()"
   ]
  },
  {
   "cell_type": "code",
   "execution_count": 113,
   "metadata": {},
   "outputs": [
    {
     "data": {
      "text/plain": [
       "(214, 6)"
      ]
     },
     "execution_count": 113,
     "metadata": {},
     "output_type": "execute_result"
    }
   ],
   "source": [
    "volc_2000.shape"
   ]
  },
  {
   "cell_type": "code",
   "execution_count": 114,
   "metadata": {},
   "outputs": [
    {
     "name": "stdout",
     "output_type": "stream",
     "text": [
      "Preprocessing ... \n",
      " \n",
      "Done!\n"
     ]
    }
   ],
   "source": [
    "preprocessed_volc = preprocessing_dataframe(volc_2000)"
   ]
  },
  {
   "cell_type": "code",
   "execution_count": 115,
   "metadata": {},
   "outputs": [
    {
     "data": {
      "text/html": [
       "<div>\n",
       "<style scoped>\n",
       "    .dataframe tbody tr th:only-of-type {\n",
       "        vertical-align: middle;\n",
       "    }\n",
       "\n",
       "    .dataframe tbody tr th {\n",
       "        vertical-align: top;\n",
       "    }\n",
       "\n",
       "    .dataframe thead th {\n",
       "        text-align: right;\n",
       "    }\n",
       "</style>\n",
       "<table border=\"1\" class=\"dataframe\">\n",
       "  <thead>\n",
       "    <tr style=\"text-align: right;\">\n",
       "      <th></th>\n",
       "      <th>Year</th>\n",
       "      <th>Latitude</th>\n",
       "      <th>Longitude</th>\n",
       "      <th>Month</th>\n",
       "      <th>Day</th>\n",
       "      <th>target</th>\n",
       "    </tr>\n",
       "  </thead>\n",
       "  <tbody>\n",
       "    <tr>\n",
       "      <th>0</th>\n",
       "      <td>1980</td>\n",
       "      <td>46.2</td>\n",
       "      <td>-122.18</td>\n",
       "      <td>1</td>\n",
       "      <td>1</td>\n",
       "      <td>0</td>\n",
       "    </tr>\n",
       "    <tr>\n",
       "      <th>1</th>\n",
       "      <td>1980</td>\n",
       "      <td>46.2</td>\n",
       "      <td>-122.18</td>\n",
       "      <td>1</td>\n",
       "      <td>2</td>\n",
       "      <td>0</td>\n",
       "    </tr>\n",
       "    <tr>\n",
       "      <th>2</th>\n",
       "      <td>1980</td>\n",
       "      <td>46.2</td>\n",
       "      <td>-122.18</td>\n",
       "      <td>1</td>\n",
       "      <td>3</td>\n",
       "      <td>0</td>\n",
       "    </tr>\n",
       "    <tr>\n",
       "      <th>3</th>\n",
       "      <td>1980</td>\n",
       "      <td>46.2</td>\n",
       "      <td>-122.18</td>\n",
       "      <td>1</td>\n",
       "      <td>4</td>\n",
       "      <td>0</td>\n",
       "    </tr>\n",
       "    <tr>\n",
       "      <th>4</th>\n",
       "      <td>1980</td>\n",
       "      <td>46.2</td>\n",
       "      <td>-122.18</td>\n",
       "      <td>1</td>\n",
       "      <td>5</td>\n",
       "      <td>0</td>\n",
       "    </tr>\n",
       "  </tbody>\n",
       "</table>\n",
       "</div>"
      ],
      "text/plain": [
       "   Year  Latitude  Longitude  Month  Day  target\n",
       "0  1980      46.2    -122.18      1    1       0\n",
       "1  1980      46.2    -122.18      1    2       0\n",
       "2  1980      46.2    -122.18      1    3       0\n",
       "3  1980      46.2    -122.18      1    4       0\n",
       "4  1980      46.2    -122.18      1    5       0"
      ]
     },
     "execution_count": 115,
     "metadata": {},
     "output_type": "execute_result"
    }
   ],
   "source": [
    "preprocessed_volc.head()"
   ]
  },
  {
   "cell_type": "code",
   "execution_count": 116,
   "metadata": {},
   "outputs": [
    {
     "data": {
      "text/html": [
       "<div>\n",
       "<style scoped>\n",
       "    .dataframe tbody tr th:only-of-type {\n",
       "        vertical-align: middle;\n",
       "    }\n",
       "\n",
       "    .dataframe tbody tr th {\n",
       "        vertical-align: top;\n",
       "    }\n",
       "\n",
       "    .dataframe thead th {\n",
       "        text-align: right;\n",
       "    }\n",
       "</style>\n",
       "<table border=\"1\" class=\"dataframe\">\n",
       "  <thead>\n",
       "    <tr style=\"text-align: right;\">\n",
       "      <th></th>\n",
       "      <th>Year</th>\n",
       "      <th>Latitude</th>\n",
       "      <th>Longitude</th>\n",
       "      <th>Month</th>\n",
       "      <th>Day</th>\n",
       "      <th>target</th>\n",
       "    </tr>\n",
       "  </thead>\n",
       "  <tbody>\n",
       "    <tr>\n",
       "      <th>0</th>\n",
       "      <td>1980</td>\n",
       "      <td>46.2</td>\n",
       "      <td>-122.18</td>\n",
       "      <td>1</td>\n",
       "      <td>1</td>\n",
       "      <td>0</td>\n",
       "    </tr>\n",
       "    <tr>\n",
       "      <th>1</th>\n",
       "      <td>1980</td>\n",
       "      <td>46.2</td>\n",
       "      <td>-122.18</td>\n",
       "      <td>1</td>\n",
       "      <td>2</td>\n",
       "      <td>0</td>\n",
       "    </tr>\n",
       "    <tr>\n",
       "      <th>2</th>\n",
       "      <td>1980</td>\n",
       "      <td>46.2</td>\n",
       "      <td>-122.18</td>\n",
       "      <td>1</td>\n",
       "      <td>3</td>\n",
       "      <td>0</td>\n",
       "    </tr>\n",
       "    <tr>\n",
       "      <th>3</th>\n",
       "      <td>1980</td>\n",
       "      <td>46.2</td>\n",
       "      <td>-122.18</td>\n",
       "      <td>1</td>\n",
       "      <td>4</td>\n",
       "      <td>0</td>\n",
       "    </tr>\n",
       "    <tr>\n",
       "      <th>4</th>\n",
       "      <td>1980</td>\n",
       "      <td>46.2</td>\n",
       "      <td>-122.18</td>\n",
       "      <td>1</td>\n",
       "      <td>5</td>\n",
       "      <td>0</td>\n",
       "    </tr>\n",
       "  </tbody>\n",
       "</table>\n",
       "</div>"
      ],
      "text/plain": [
       "   Year  Latitude  Longitude  Month  Day  target\n",
       "0  1980      46.2    -122.18      1    1       0\n",
       "1  1980      46.2    -122.18      1    2       0\n",
       "2  1980      46.2    -122.18      1    3       0\n",
       "3  1980      46.2    -122.18      1    4       0\n",
       "4  1980      46.2    -122.18      1    5       0"
      ]
     },
     "execution_count": 116,
     "metadata": {},
     "output_type": "execute_result"
    }
   ],
   "source": [
    "preprocessed_volc.head()"
   ]
  },
  {
   "cell_type": "code",
   "execution_count": 117,
   "metadata": {},
   "outputs": [
    {
     "data": {
      "text/plain": [
       "(1512576, 6)"
      ]
     },
     "execution_count": 117,
     "metadata": {},
     "output_type": "execute_result"
    }
   ],
   "source": [
    "preprocessed_volc.shape"
   ]
  },
  {
   "cell_type": "code",
   "execution_count": 118,
   "metadata": {},
   "outputs": [],
   "source": [
    "normalized_volc = pd.DataFrame({}) # Dataframe to store normalized x, y, z coordinates"
   ]
  },
  {
   "cell_type": "code",
   "execution_count": 119,
   "metadata": {},
   "outputs": [],
   "source": [
    "# Changing lat lon values to x, y, z coordinates\n",
    "def find_x(lat, lon):\n",
    "    return np.cos(np.deg2rad(lat))*np.cos(np.deg2rad(lon)) # x = cos(lat)*cos(lon)\n",
    "\n",
    "def find_y(lat, lon):\n",
    "    return np.cos(np.deg2rad(lat))*np.sin(np.deg2rad(lon)) # y = cos(lat)*sin(lon)\n",
    "\n",
    "def find_z(lat):\n",
    "    return np.sin(np.deg2rad(lat)) # z = sin(lat)"
   ]
  },
  {
   "cell_type": "code",
   "execution_count": 120,
   "metadata": {},
   "outputs": [],
   "source": [
    "normalized_volc['Year'] = preprocessed_volc['Year']\n",
    "normalized_volc['x'] = preprocessed_volc.apply(lambda x: find_x(x['Latitude'], x['Longitude']), axis=1)\n",
    "normalized_volc['y'] = preprocessed_volc.apply(lambda x: find_x(x['Latitude'], x['Longitude']), axis=1)\n",
    "normalized_volc['z'] = preprocessed_volc['Latitude'].apply(find_z)\n",
    "normalized_volc['Month'] = preprocessed_volc['Month']\n",
    "normalized_volc['Day'] = preprocessed_volc['Day']\n",
    "normalized_volc['target'] = preprocessed_volc['target']"
   ]
  },
  {
   "cell_type": "code",
   "execution_count": 121,
   "metadata": {},
   "outputs": [
    {
     "data": {
      "text/html": [
       "<div>\n",
       "<style scoped>\n",
       "    .dataframe tbody tr th:only-of-type {\n",
       "        vertical-align: middle;\n",
       "    }\n",
       "\n",
       "    .dataframe tbody tr th {\n",
       "        vertical-align: top;\n",
       "    }\n",
       "\n",
       "    .dataframe thead th {\n",
       "        text-align: right;\n",
       "    }\n",
       "</style>\n",
       "<table border=\"1\" class=\"dataframe\">\n",
       "  <thead>\n",
       "    <tr style=\"text-align: right;\">\n",
       "      <th></th>\n",
       "      <th>Year</th>\n",
       "      <th>x</th>\n",
       "      <th>y</th>\n",
       "      <th>z</th>\n",
       "      <th>Month</th>\n",
       "      <th>Day</th>\n",
       "      <th>target</th>\n",
       "    </tr>\n",
       "  </thead>\n",
       "  <tbody>\n",
       "    <tr>\n",
       "      <th>0</th>\n",
       "      <td>1980</td>\n",
       "      <td>-0.368622</td>\n",
       "      <td>-0.368622</td>\n",
       "      <td>0.72176</td>\n",
       "      <td>1</td>\n",
       "      <td>1</td>\n",
       "      <td>0</td>\n",
       "    </tr>\n",
       "    <tr>\n",
       "      <th>1</th>\n",
       "      <td>1980</td>\n",
       "      <td>-0.368622</td>\n",
       "      <td>-0.368622</td>\n",
       "      <td>0.72176</td>\n",
       "      <td>1</td>\n",
       "      <td>2</td>\n",
       "      <td>0</td>\n",
       "    </tr>\n",
       "    <tr>\n",
       "      <th>2</th>\n",
       "      <td>1980</td>\n",
       "      <td>-0.368622</td>\n",
       "      <td>-0.368622</td>\n",
       "      <td>0.72176</td>\n",
       "      <td>1</td>\n",
       "      <td>3</td>\n",
       "      <td>0</td>\n",
       "    </tr>\n",
       "    <tr>\n",
       "      <th>3</th>\n",
       "      <td>1980</td>\n",
       "      <td>-0.368622</td>\n",
       "      <td>-0.368622</td>\n",
       "      <td>0.72176</td>\n",
       "      <td>1</td>\n",
       "      <td>4</td>\n",
       "      <td>0</td>\n",
       "    </tr>\n",
       "    <tr>\n",
       "      <th>4</th>\n",
       "      <td>1980</td>\n",
       "      <td>-0.368622</td>\n",
       "      <td>-0.368622</td>\n",
       "      <td>0.72176</td>\n",
       "      <td>1</td>\n",
       "      <td>5</td>\n",
       "      <td>0</td>\n",
       "    </tr>\n",
       "  </tbody>\n",
       "</table>\n",
       "</div>"
      ],
      "text/plain": [
       "   Year         x         y        z  Month  Day  target\n",
       "0  1980 -0.368622 -0.368622  0.72176      1    1       0\n",
       "1  1980 -0.368622 -0.368622  0.72176      1    2       0\n",
       "2  1980 -0.368622 -0.368622  0.72176      1    3       0\n",
       "3  1980 -0.368622 -0.368622  0.72176      1    4       0\n",
       "4  1980 -0.368622 -0.368622  0.72176      1    5       0"
      ]
     },
     "execution_count": 121,
     "metadata": {},
     "output_type": "execute_result"
    }
   ],
   "source": [
    "normalized_volc.head()"
   ]
  },
  {
   "cell_type": "code",
   "execution_count": 122,
   "metadata": {},
   "outputs": [],
   "source": [
    "from sklearn.model_selection import train_test_split\n",
    "from sklearn.metrics import accuracy_score"
   ]
  },
  {
   "cell_type": "code",
   "execution_count": 183,
   "metadata": {},
   "outputs": [],
   "source": [
    "# Taking out test data before upsampling\n",
    "train_data = normalized_volc[normalized_volc['Year'] < 2019] # Training the model from 1980-2018\n",
    "test_data = normalized_volc[normalized_volc['Year'] >= 2019] # Testing on 2019-2020"
   ]
  },
  {
   "cell_type": "code",
   "execution_count": 184,
   "metadata": {},
   "outputs": [
    {
     "data": {
      "text/html": [
       "<div>\n",
       "<style scoped>\n",
       "    .dataframe tbody tr th:only-of-type {\n",
       "        vertical-align: middle;\n",
       "    }\n",
       "\n",
       "    .dataframe tbody tr th {\n",
       "        vertical-align: top;\n",
       "    }\n",
       "\n",
       "    .dataframe thead th {\n",
       "        text-align: right;\n",
       "    }\n",
       "</style>\n",
       "<table border=\"1\" class=\"dataframe\">\n",
       "  <thead>\n",
       "    <tr style=\"text-align: right;\">\n",
       "      <th></th>\n",
       "      <th>Year</th>\n",
       "      <th>x</th>\n",
       "      <th>y</th>\n",
       "      <th>z</th>\n",
       "      <th>Month</th>\n",
       "      <th>Day</th>\n",
       "      <th>target</th>\n",
       "    </tr>\n",
       "  </thead>\n",
       "  <tbody>\n",
       "    <tr>\n",
       "      <th>0</th>\n",
       "      <td>1980</td>\n",
       "      <td>-0.368622</td>\n",
       "      <td>-0.368622</td>\n",
       "      <td>0.72176</td>\n",
       "      <td>1</td>\n",
       "      <td>1</td>\n",
       "      <td>0</td>\n",
       "    </tr>\n",
       "    <tr>\n",
       "      <th>1</th>\n",
       "      <td>1980</td>\n",
       "      <td>-0.368622</td>\n",
       "      <td>-0.368622</td>\n",
       "      <td>0.72176</td>\n",
       "      <td>1</td>\n",
       "      <td>2</td>\n",
       "      <td>0</td>\n",
       "    </tr>\n",
       "    <tr>\n",
       "      <th>2</th>\n",
       "      <td>1980</td>\n",
       "      <td>-0.368622</td>\n",
       "      <td>-0.368622</td>\n",
       "      <td>0.72176</td>\n",
       "      <td>1</td>\n",
       "      <td>3</td>\n",
       "      <td>0</td>\n",
       "    </tr>\n",
       "    <tr>\n",
       "      <th>3</th>\n",
       "      <td>1980</td>\n",
       "      <td>-0.368622</td>\n",
       "      <td>-0.368622</td>\n",
       "      <td>0.72176</td>\n",
       "      <td>1</td>\n",
       "      <td>4</td>\n",
       "      <td>0</td>\n",
       "    </tr>\n",
       "    <tr>\n",
       "      <th>4</th>\n",
       "      <td>1980</td>\n",
       "      <td>-0.368622</td>\n",
       "      <td>-0.368622</td>\n",
       "      <td>0.72176</td>\n",
       "      <td>1</td>\n",
       "      <td>5</td>\n",
       "      <td>0</td>\n",
       "    </tr>\n",
       "  </tbody>\n",
       "</table>\n",
       "</div>"
      ],
      "text/plain": [
       "   Year         x         y        z  Month  Day  target\n",
       "0  1980 -0.368622 -0.368622  0.72176      1    1       0\n",
       "1  1980 -0.368622 -0.368622  0.72176      1    2       0\n",
       "2  1980 -0.368622 -0.368622  0.72176      1    3       0\n",
       "3  1980 -0.368622 -0.368622  0.72176      1    4       0\n",
       "4  1980 -0.368622 -0.368622  0.72176      1    5       0"
      ]
     },
     "execution_count": 184,
     "metadata": {},
     "output_type": "execute_result"
    }
   ],
   "source": [
    "train_data.head()"
   ]
  },
  {
   "cell_type": "code",
   "execution_count": 185,
   "metadata": {},
   "outputs": [
    {
     "data": {
      "text/plain": [
       "(1438745, 7)"
      ]
     },
     "execution_count": 185,
     "metadata": {},
     "output_type": "execute_result"
    }
   ],
   "source": [
    "train_data.shape"
   ]
  },
  {
   "cell_type": "code",
   "execution_count": 186,
   "metadata": {},
   "outputs": [
    {
     "data": {
      "text/plain": [
       "205"
      ]
     },
     "execution_count": 186,
     "metadata": {},
     "output_type": "execute_result"
    }
   ],
   "source": [
    "len(train_data[train_data['target'] == 1])"
   ]
  },
  {
   "cell_type": "code",
   "execution_count": 187,
   "metadata": {},
   "outputs": [
    {
     "data": {
      "text/plain": [
       "1438540"
      ]
     },
     "execution_count": 187,
     "metadata": {},
     "output_type": "execute_result"
    }
   ],
   "source": [
    "num_zero_targets = len(train_data[train_data['target'] == 0])\n",
    "num_zero_targets"
   ]
  },
  {
   "cell_type": "code",
   "execution_count": 188,
   "metadata": {},
   "outputs": [],
   "source": [
    "majority = train_data[train_data['target'] == 0]\n",
    "minority = train_data[train_data['target'] == 1]"
   ]
  },
  {
   "cell_type": "code",
   "execution_count": 189,
   "metadata": {},
   "outputs": [
    {
     "data": {
      "text/html": [
       "<div>\n",
       "<style scoped>\n",
       "    .dataframe tbody tr th:only-of-type {\n",
       "        vertical-align: middle;\n",
       "    }\n",
       "\n",
       "    .dataframe tbody tr th {\n",
       "        vertical-align: top;\n",
       "    }\n",
       "\n",
       "    .dataframe thead th {\n",
       "        text-align: right;\n",
       "    }\n",
       "</style>\n",
       "<table border=\"1\" class=\"dataframe\">\n",
       "  <thead>\n",
       "    <tr style=\"text-align: right;\">\n",
       "      <th></th>\n",
       "      <th>Year</th>\n",
       "      <th>x</th>\n",
       "      <th>y</th>\n",
       "      <th>z</th>\n",
       "      <th>Month</th>\n",
       "      <th>Day</th>\n",
       "      <th>target</th>\n",
       "    </tr>\n",
       "  </thead>\n",
       "  <tbody>\n",
       "    <tr>\n",
       "      <th>0</th>\n",
       "      <td>1980</td>\n",
       "      <td>-0.368622</td>\n",
       "      <td>-0.368622</td>\n",
       "      <td>0.72176</td>\n",
       "      <td>1</td>\n",
       "      <td>1</td>\n",
       "      <td>0</td>\n",
       "    </tr>\n",
       "    <tr>\n",
       "      <th>1</th>\n",
       "      <td>1980</td>\n",
       "      <td>-0.368622</td>\n",
       "      <td>-0.368622</td>\n",
       "      <td>0.72176</td>\n",
       "      <td>1</td>\n",
       "      <td>2</td>\n",
       "      <td>0</td>\n",
       "    </tr>\n",
       "    <tr>\n",
       "      <th>2</th>\n",
       "      <td>1980</td>\n",
       "      <td>-0.368622</td>\n",
       "      <td>-0.368622</td>\n",
       "      <td>0.72176</td>\n",
       "      <td>1</td>\n",
       "      <td>3</td>\n",
       "      <td>0</td>\n",
       "    </tr>\n",
       "    <tr>\n",
       "      <th>3</th>\n",
       "      <td>1980</td>\n",
       "      <td>-0.368622</td>\n",
       "      <td>-0.368622</td>\n",
       "      <td>0.72176</td>\n",
       "      <td>1</td>\n",
       "      <td>4</td>\n",
       "      <td>0</td>\n",
       "    </tr>\n",
       "    <tr>\n",
       "      <th>4</th>\n",
       "      <td>1980</td>\n",
       "      <td>-0.368622</td>\n",
       "      <td>-0.368622</td>\n",
       "      <td>0.72176</td>\n",
       "      <td>1</td>\n",
       "      <td>5</td>\n",
       "      <td>0</td>\n",
       "    </tr>\n",
       "  </tbody>\n",
       "</table>\n",
       "</div>"
      ],
      "text/plain": [
       "   Year         x         y        z  Month  Day  target\n",
       "0  1980 -0.368622 -0.368622  0.72176      1    1       0\n",
       "1  1980 -0.368622 -0.368622  0.72176      1    2       0\n",
       "2  1980 -0.368622 -0.368622  0.72176      1    3       0\n",
       "3  1980 -0.368622 -0.368622  0.72176      1    4       0\n",
       "4  1980 -0.368622 -0.368622  0.72176      1    5       0"
      ]
     },
     "execution_count": 189,
     "metadata": {},
     "output_type": "execute_result"
    }
   ],
   "source": [
    "majority.head()"
   ]
  },
  {
   "cell_type": "code",
   "execution_count": 190,
   "metadata": {},
   "outputs": [
    {
     "data": {
      "text/html": [
       "<div>\n",
       "<style scoped>\n",
       "    .dataframe tbody tr th:only-of-type {\n",
       "        vertical-align: middle;\n",
       "    }\n",
       "\n",
       "    .dataframe tbody tr th {\n",
       "        vertical-align: top;\n",
       "    }\n",
       "\n",
       "    .dataframe thead th {\n",
       "        text-align: right;\n",
       "    }\n",
       "</style>\n",
       "<table border=\"1\" class=\"dataframe\">\n",
       "  <thead>\n",
       "    <tr style=\"text-align: right;\">\n",
       "      <th></th>\n",
       "      <th>Year</th>\n",
       "      <th>x</th>\n",
       "      <th>y</th>\n",
       "      <th>z</th>\n",
       "      <th>Month</th>\n",
       "      <th>Day</th>\n",
       "      <th>target</th>\n",
       "    </tr>\n",
       "  </thead>\n",
       "  <tbody>\n",
       "    <tr>\n",
       "      <th>138</th>\n",
       "      <td>1980</td>\n",
       "      <td>-0.368622</td>\n",
       "      <td>-0.368622</td>\n",
       "      <td>0.721760</td>\n",
       "      <td>5</td>\n",
       "      <td>18</td>\n",
       "      <td>1</td>\n",
       "    </tr>\n",
       "    <tr>\n",
       "      <th>595</th>\n",
       "      <td>1980</td>\n",
       "      <td>0.413009</td>\n",
       "      <td>0.413009</td>\n",
       "      <td>0.898641</td>\n",
       "      <td>8</td>\n",
       "      <td>17</td>\n",
       "      <td>1</td>\n",
       "    </tr>\n",
       "    <tr>\n",
       "      <th>1091</th>\n",
       "      <td>1980</td>\n",
       "      <td>-0.369069</td>\n",
       "      <td>-0.369069</td>\n",
       "      <td>0.711707</td>\n",
       "      <td>12</td>\n",
       "      <td>25</td>\n",
       "      <td>1</td>\n",
       "    </tr>\n",
       "    <tr>\n",
       "      <th>38136</th>\n",
       "      <td>1981</td>\n",
       "      <td>0.763898</td>\n",
       "      <td>0.763898</td>\n",
       "      <td>0.611996</td>\n",
       "      <td>3</td>\n",
       "      <td>17</td>\n",
       "      <td>1</td>\n",
       "    </tr>\n",
       "    <tr>\n",
       "      <th>38513</th>\n",
       "      <td>1981</td>\n",
       "      <td>-0.385553</td>\n",
       "      <td>-0.385553</td>\n",
       "      <td>-0.141039</td>\n",
       "      <td>3</td>\n",
       "      <td>29</td>\n",
       "      <td>1</td>\n",
       "    </tr>\n",
       "  </tbody>\n",
       "</table>\n",
       "</div>"
      ],
      "text/plain": [
       "       Year         x         y         z  Month  Day  target\n",
       "138    1980 -0.368622 -0.368622  0.721760      5   18       1\n",
       "595    1980  0.413009  0.413009  0.898641      8   17       1\n",
       "1091   1980 -0.369069 -0.369069  0.711707     12   25       1\n",
       "38136  1981  0.763898  0.763898  0.611996      3   17       1\n",
       "38513  1981 -0.385553 -0.385553 -0.141039      3   29       1"
      ]
     },
     "execution_count": 190,
     "metadata": {},
     "output_type": "execute_result"
    }
   ],
   "source": [
    "minority.head()"
   ]
  },
  {
   "cell_type": "code",
   "execution_count": 191,
   "metadata": {},
   "outputs": [],
   "source": [
    "from sklearn.utils import resample"
   ]
  },
  {
   "cell_type": "code",
   "execution_count": 192,
   "metadata": {},
   "outputs": [],
   "source": [
    "# Upsample minority class\n",
    "min_upsamp = resample(minority, replace=True, n_samples=num_zero_targets, random_state=1) "
   ]
  },
  {
   "cell_type": "code",
   "execution_count": 193,
   "metadata": {},
   "outputs": [
    {
     "data": {
      "text/html": [
       "<div>\n",
       "<style scoped>\n",
       "    .dataframe tbody tr th:only-of-type {\n",
       "        vertical-align: middle;\n",
       "    }\n",
       "\n",
       "    .dataframe tbody tr th {\n",
       "        vertical-align: top;\n",
       "    }\n",
       "\n",
       "    .dataframe thead th {\n",
       "        text-align: right;\n",
       "    }\n",
       "</style>\n",
       "<table border=\"1\" class=\"dataframe\">\n",
       "  <thead>\n",
       "    <tr style=\"text-align: right;\">\n",
       "      <th></th>\n",
       "      <th>Year</th>\n",
       "      <th>x</th>\n",
       "      <th>y</th>\n",
       "      <th>z</th>\n",
       "      <th>Month</th>\n",
       "      <th>Day</th>\n",
       "      <th>target</th>\n",
       "    </tr>\n",
       "  </thead>\n",
       "  <tbody>\n",
       "    <tr>\n",
       "      <th>342180</th>\n",
       "      <td>1989</td>\n",
       "      <td>-0.555339</td>\n",
       "      <td>-0.555339</td>\n",
       "      <td>0.528883</td>\n",
       "      <td>8</td>\n",
       "      <td>26</td>\n",
       "      <td>1</td>\n",
       "    </tr>\n",
       "    <tr>\n",
       "      <th>1098444</th>\n",
       "      <td>2009</td>\n",
       "      <td>-0.438043</td>\n",
       "      <td>-0.438043</td>\n",
       "      <td>0.870184</td>\n",
       "      <td>3</td>\n",
       "      <td>23</td>\n",
       "      <td>1</td>\n",
       "    </tr>\n",
       "    <tr>\n",
       "      <th>526152</th>\n",
       "      <td>1994</td>\n",
       "      <td>-0.552070</td>\n",
       "      <td>-0.552070</td>\n",
       "      <td>0.542881</td>\n",
       "      <td>5</td>\n",
       "      <td>29</td>\n",
       "      <td>1</td>\n",
       "    </tr>\n",
       "    <tr>\n",
       "      <th>1060865</th>\n",
       "      <td>2008</td>\n",
       "      <td>0.218736</td>\n",
       "      <td>0.218736</td>\n",
       "      <td>-0.679864</td>\n",
       "      <td>5</td>\n",
       "      <td>2</td>\n",
       "      <td>1</td>\n",
       "    </tr>\n",
       "    <tr>\n",
       "      <th>1436999</th>\n",
       "      <td>2018</td>\n",
       "      <td>-0.406538</td>\n",
       "      <td>-0.406538</td>\n",
       "      <td>-0.140175</td>\n",
       "      <td>3</td>\n",
       "      <td>21</td>\n",
       "      <td>1</td>\n",
       "    </tr>\n",
       "  </tbody>\n",
       "</table>\n",
       "</div>"
      ],
      "text/plain": [
       "         Year         x         y         z  Month  Day  target\n",
       "342180   1989 -0.555339 -0.555339  0.528883      8   26       1\n",
       "1098444  2009 -0.438043 -0.438043  0.870184      3   23       1\n",
       "526152   1994 -0.552070 -0.552070  0.542881      5   29       1\n",
       "1060865  2008  0.218736  0.218736 -0.679864      5    2       1\n",
       "1436999  2018 -0.406538 -0.406538 -0.140175      3   21       1"
      ]
     },
     "execution_count": 193,
     "metadata": {},
     "output_type": "execute_result"
    }
   ],
   "source": [
    "min_upsamp.head()"
   ]
  },
  {
   "cell_type": "code",
   "execution_count": 194,
   "metadata": {},
   "outputs": [
    {
     "data": {
      "text/plain": [
       "(1438540, 7)"
      ]
     },
     "execution_count": 194,
     "metadata": {},
     "output_type": "execute_result"
    }
   ],
   "source": [
    "min_upsamp.shape"
   ]
  },
  {
   "cell_type": "code",
   "execution_count": 195,
   "metadata": {},
   "outputs": [],
   "source": [
    "upsampled_data = pd.concat([majority, min_upsamp])"
   ]
  },
  {
   "cell_type": "code",
   "execution_count": 196,
   "metadata": {
    "scrolled": true
   },
   "outputs": [
    {
     "data": {
      "text/plain": [
       "(2877080, 7)"
      ]
     },
     "execution_count": 196,
     "metadata": {},
     "output_type": "execute_result"
    }
   ],
   "source": [
    "upsampled_data.shape"
   ]
  },
  {
   "cell_type": "code",
   "execution_count": 197,
   "metadata": {},
   "outputs": [],
   "source": [
    "upsampled_data = upsampled_data.sample(frac=1).reset_index(drop=True) # to shuffle the dataframe"
   ]
  },
  {
   "cell_type": "code",
   "execution_count": 198,
   "metadata": {},
   "outputs": [
    {
     "data": {
      "text/html": [
       "<div>\n",
       "<style scoped>\n",
       "    .dataframe tbody tr th:only-of-type {\n",
       "        vertical-align: middle;\n",
       "    }\n",
       "\n",
       "    .dataframe tbody tr th {\n",
       "        vertical-align: top;\n",
       "    }\n",
       "\n",
       "    .dataframe thead th {\n",
       "        text-align: right;\n",
       "    }\n",
       "</style>\n",
       "<table border=\"1\" class=\"dataframe\">\n",
       "  <thead>\n",
       "    <tr style=\"text-align: right;\">\n",
       "      <th></th>\n",
       "      <th>Year</th>\n",
       "      <th>x</th>\n",
       "      <th>y</th>\n",
       "      <th>z</th>\n",
       "      <th>Month</th>\n",
       "      <th>Day</th>\n",
       "      <th>target</th>\n",
       "    </tr>\n",
       "  </thead>\n",
       "  <tbody>\n",
       "    <tr>\n",
       "      <th>0</th>\n",
       "      <td>2009</td>\n",
       "      <td>-0.285884</td>\n",
       "      <td>-0.285884</td>\n",
       "      <td>-0.117017</td>\n",
       "      <td>4</td>\n",
       "      <td>2</td>\n",
       "      <td>0</td>\n",
       "    </tr>\n",
       "    <tr>\n",
       "      <th>1</th>\n",
       "      <td>2011</td>\n",
       "      <td>0.006270</td>\n",
       "      <td>0.006270</td>\n",
       "      <td>0.239432</td>\n",
       "      <td>10</td>\n",
       "      <td>30</td>\n",
       "      <td>0</td>\n",
       "    </tr>\n",
       "    <tr>\n",
       "      <th>2</th>\n",
       "      <td>2007</td>\n",
       "      <td>-0.285884</td>\n",
       "      <td>-0.285884</td>\n",
       "      <td>-0.117017</td>\n",
       "      <td>7</td>\n",
       "      <td>7</td>\n",
       "      <td>1</td>\n",
       "    </tr>\n",
       "    <tr>\n",
       "      <th>3</th>\n",
       "      <td>2012</td>\n",
       "      <td>-0.528876</td>\n",
       "      <td>-0.528876</td>\n",
       "      <td>0.827375</td>\n",
       "      <td>12</td>\n",
       "      <td>12</td>\n",
       "      <td>1</td>\n",
       "    </tr>\n",
       "    <tr>\n",
       "      <th>4</th>\n",
       "      <td>2011</td>\n",
       "      <td>-0.521251</td>\n",
       "      <td>-0.521251</td>\n",
       "      <td>-0.152261</td>\n",
       "      <td>4</td>\n",
       "      <td>12</td>\n",
       "      <td>0</td>\n",
       "    </tr>\n",
       "  </tbody>\n",
       "</table>\n",
       "</div>"
      ],
      "text/plain": [
       "   Year         x         y         z  Month  Day  target\n",
       "0  2009 -0.285884 -0.285884 -0.117017      4    2       0\n",
       "1  2011  0.006270  0.006270  0.239432     10   30       0\n",
       "2  2007 -0.285884 -0.285884 -0.117017      7    7       1\n",
       "3  2012 -0.528876 -0.528876  0.827375     12   12       1\n",
       "4  2011 -0.521251 -0.521251 -0.152261      4   12       0"
      ]
     },
     "execution_count": 198,
     "metadata": {},
     "output_type": "execute_result"
    }
   ],
   "source": [
    "upsampled_data.head()"
   ]
  },
  {
   "cell_type": "code",
   "execution_count": 199,
   "metadata": {},
   "outputs": [],
   "source": [
    "# There's 6 features now\n",
    "x_train = upsampled_data.iloc[:, 0:6]\n",
    "y_train = upsampled_data.iloc[:, 6]"
   ]
  },
  {
   "cell_type": "code",
   "execution_count": 200,
   "metadata": {},
   "outputs": [],
   "source": [
    "x_test = test_data.drop(columns='target')\n",
    "y_test = test_data['target']"
   ]
  },
  {
   "cell_type": "code",
   "execution_count": 201,
   "metadata": {},
   "outputs": [],
   "source": [
    "from sklearn.preprocessing import StandardScaler\n",
    "sc = StandardScaler()\n",
    "scaled_x_train = sc.fit_transform(x_train)\n",
    "scaled_x_test =  sc.transform(x_test)"
   ]
  },
  {
   "cell_type": "markdown",
   "metadata": {},
   "source": [
    "### Using Naive Bayes"
   ]
  },
  {
   "cell_type": "code",
   "execution_count": 202,
   "metadata": {},
   "outputs": [
    {
     "data": {
      "text/plain": [
       "GaussianNB(priors=None, var_smoothing=1e-09)"
      ]
     },
     "execution_count": 202,
     "metadata": {},
     "output_type": "execute_result"
    }
   ],
   "source": [
    "from sklearn.naive_bayes import GaussianNB\n",
    "classifier= GaussianNB()\n",
    "classifier.fit(scaled_x_train, y_train)"
   ]
  },
  {
   "cell_type": "code",
   "execution_count": 203,
   "metadata": {},
   "outputs": [],
   "source": [
    "y_pred = classifier.predict(scaled_x_test)"
   ]
  },
  {
   "cell_type": "code",
   "execution_count": 204,
   "metadata": {},
   "outputs": [],
   "source": [
    "from sklearn.metrics import confusion_matrix, classification_report\n",
    "cm = confusion_matrix(y_test, y_pred)"
   ]
  },
  {
   "cell_type": "code",
   "execution_count": 205,
   "metadata": {},
   "outputs": [
    {
     "data": {
      "text/plain": [
       "array([[15147, 58675],\n",
       "       [    1,     8]], dtype=int64)"
      ]
     },
     "execution_count": 205,
     "metadata": {},
     "output_type": "execute_result"
    }
   ],
   "source": [
    "cm"
   ]
  },
  {
   "cell_type": "code",
   "execution_count": 206,
   "metadata": {
    "scrolled": true
   },
   "outputs": [
    {
     "name": "stdout",
     "output_type": "stream",
     "text": [
      "0.20526608064363208\n"
     ]
    }
   ],
   "source": [
    "print(accuracy_score(y_pred, y_test))"
   ]
  },
  {
   "cell_type": "code",
   "execution_count": 207,
   "metadata": {},
   "outputs": [
    {
     "data": {
      "text/plain": [
       "(73831,)"
      ]
     },
     "execution_count": 207,
     "metadata": {},
     "output_type": "execute_result"
    }
   ],
   "source": [
    "y_pred.shape"
   ]
  },
  {
   "cell_type": "code",
   "execution_count": 208,
   "metadata": {},
   "outputs": [
    {
     "data": {
      "text/plain": [
       "(73831,)"
      ]
     },
     "execution_count": 208,
     "metadata": {},
     "output_type": "execute_result"
    }
   ],
   "source": [
    "y_test.shape"
   ]
  },
  {
   "cell_type": "code",
   "execution_count": 209,
   "metadata": {},
   "outputs": [
    {
     "data": {
      "text/plain": [
       "9"
      ]
     },
     "execution_count": 209,
     "metadata": {},
     "output_type": "execute_result"
    }
   ],
   "source": [
    "y_test.sum()"
   ]
  },
  {
   "cell_type": "code",
   "execution_count": 210,
   "metadata": {},
   "outputs": [
    {
     "data": {
      "text/plain": [
       "58683"
      ]
     },
     "execution_count": 210,
     "metadata": {},
     "output_type": "execute_result"
    }
   ],
   "source": [
    "y_pred.sum()"
   ]
  },
  {
   "cell_type": "code",
   "execution_count": 211,
   "metadata": {},
   "outputs": [
    {
     "name": "stdout",
     "output_type": "stream",
     "text": [
      "              precision    recall  f1-score   support\n",
      "\n",
      "           0       1.00      0.21      0.34     73822\n",
      "           1       0.00      0.89      0.00         9\n",
      "\n",
      "    accuracy                           0.21     73831\n",
      "   macro avg       0.50      0.55      0.17     73831\n",
      "weighted avg       1.00      0.21      0.34     73831\n",
      "\n"
     ]
    }
   ],
   "source": [
    "check = classification_report(y_test, y_pred)\n",
    "print(check)"
   ]
  },
  {
   "cell_type": "code",
   "execution_count": 212,
   "metadata": {},
   "outputs": [],
   "source": [
    "from sklearn.metrics import roc_auc_score"
   ]
  },
  {
   "cell_type": "code",
   "execution_count": 213,
   "metadata": {},
   "outputs": [],
   "source": [
    "# Predict class probabilities\n",
    "y_pred_2 = classifier.predict_proba(x_test)\n",
    " \n",
    "# Keep only the positive class\n",
    "y_pred_2 = [y[1] for y in y_pred_2]"
   ]
  },
  {
   "cell_type": "code",
   "execution_count": 214,
   "metadata": {},
   "outputs": [
    {
     "name": "stdout",
     "output_type": "stream",
     "text": [
      "0.5\n"
     ]
    }
   ],
   "source": [
    "print(roc_auc_score(y_test, y_pred_2))"
   ]
  },
  {
   "cell_type": "markdown",
   "metadata": {},
   "source": [
    "### Using Random Forest"
   ]
  },
  {
   "cell_type": "code",
   "execution_count": 215,
   "metadata": {},
   "outputs": [
    {
     "data": {
      "text/plain": [
       "RandomForestClassifier(bootstrap=True, ccp_alpha=0.0, class_weight=None,\n",
       "                       criterion='entropy', max_depth=None, max_features='auto',\n",
       "                       max_leaf_nodes=None, max_samples=None,\n",
       "                       min_impurity_decrease=0.0, min_impurity_split=None,\n",
       "                       min_samples_leaf=1, min_samples_split=2,\n",
       "                       min_weight_fraction_leaf=0.0, n_estimators=10,\n",
       "                       n_jobs=None, oob_score=False, random_state=0, verbose=0,\n",
       "                       warm_start=False)"
      ]
     },
     "execution_count": 215,
     "metadata": {},
     "output_type": "execute_result"
    }
   ],
   "source": [
    "from sklearn.ensemble import RandomForestClassifier\n",
    "classifier1 = RandomForestClassifier(n_estimators=10, criterion='entropy' , random_state=0)\n",
    "classifier1.fit(scaled_x_train, y_train)"
   ]
  },
  {
   "cell_type": "code",
   "execution_count": 216,
   "metadata": {},
   "outputs": [],
   "source": [
    "y_pred1 = classifier1.predict(scaled_x_test)"
   ]
  },
  {
   "cell_type": "code",
   "execution_count": 217,
   "metadata": {},
   "outputs": [],
   "source": [
    "cm2 = confusion_matrix(y_test, y_pred1)"
   ]
  },
  {
   "cell_type": "code",
   "execution_count": 218,
   "metadata": {
    "scrolled": true
   },
   "outputs": [
    {
     "data": {
      "text/plain": [
       "array([[73794,    28],\n",
       "       [    9,     0]], dtype=int64)"
      ]
     },
     "execution_count": 218,
     "metadata": {},
     "output_type": "execute_result"
    }
   ],
   "source": [
    "cm2"
   ]
  },
  {
   "cell_type": "code",
   "execution_count": 219,
   "metadata": {},
   "outputs": [
    {
     "name": "stdout",
     "output_type": "stream",
     "text": [
      "0.9994988554943045\n"
     ]
    }
   ],
   "source": [
    "print(accuracy_score(y_pred1, y_test))"
   ]
  },
  {
   "cell_type": "code",
   "execution_count": 220,
   "metadata": {},
   "outputs": [
    {
     "data": {
      "text/plain": [
       "28"
      ]
     },
     "execution_count": 220,
     "metadata": {},
     "output_type": "execute_result"
    }
   ],
   "source": [
    "y_pred1.sum()"
   ]
  },
  {
   "cell_type": "code",
   "execution_count": 221,
   "metadata": {},
   "outputs": [
    {
     "data": {
      "text/plain": [
       "9"
      ]
     },
     "execution_count": 221,
     "metadata": {},
     "output_type": "execute_result"
    }
   ],
   "source": [
    "y_test.sum()"
   ]
  },
  {
   "cell_type": "code",
   "execution_count": 222,
   "metadata": {},
   "outputs": [
    {
     "data": {
      "text/plain": [
       "[Year     2019.000000\n",
       " x           0.763898\n",
       " y           0.763898\n",
       " z           0.611996\n",
       " Month      12.000000\n",
       " Day        26.000000\n",
       " Name: 1440199, dtype: float64,\n",
       " Year     2019.000000\n",
       " x          -0.539846\n",
       " y          -0.539846\n",
       " z           0.229319\n",
       " Month       1.000000\n",
       " Day        13.000000\n",
       " Name: 1440947, dtype: float64,\n",
       " Year     2019.000000\n",
       " x          -0.856739\n",
       " y          -0.856739\n",
       " z           0.332573\n",
       " Month       2.000000\n",
       " Day         1.000000\n",
       " Name: 1455931, dtype: float64,\n",
       " Year     2019.000000\n",
       " x          -0.856739\n",
       " y          -0.856739\n",
       " z           0.332573\n",
       " Month       4.000000\n",
       " Day        28.000000\n",
       " Name: 1456017, dtype: float64,\n",
       " Year     2019.000000\n",
       " x          -0.856739\n",
       " y          -0.856739\n",
       " z           0.332573\n",
       " Month       7.000000\n",
       " Day        16.000000\n",
       " Name: 1456096, dtype: float64,\n",
       " Year     2019.000000\n",
       " x          -0.264436\n",
       " y          -0.264436\n",
       " z          -0.106299\n",
       " Month      12.000000\n",
       " Day        22.000000\n",
       " Name: 1456620, dtype: float64,\n",
       " Year     2019.000000\n",
       " x          -0.817664\n",
       " y          -0.817664\n",
       " z          -0.071497\n",
       " Month       8.000000\n",
       " Day        25.000000\n",
       " Name: 1461246, dtype: float64,\n",
       " Year     2019.000000\n",
       " x          -0.014871\n",
       " y          -0.014871\n",
       " z           0.249924\n",
       " Month       6.000000\n",
       " Day         3.000000\n",
       " Name: 1462988, dtype: float64,\n",
       " Year     2019.000000\n",
       " x          -0.942429\n",
       " y          -0.942429\n",
       " z          -0.265556\n",
       " Month       3.000000\n",
       " Day        30.000000\n",
       " Name: 1472778, dtype: float64,\n",
       " Year     2019.000000\n",
       " x          -0.813703\n",
       " y          -0.813703\n",
       " z          -0.063139\n",
       " Month       1.000000\n",
       " Day         5.000000\n",
       " Name: 1473059, dtype: float64,\n",
       " Year     2019.000000\n",
       " x          -0.813703\n",
       " y          -0.813703\n",
       " z          -0.063139\n",
       " Month       2.000000\n",
       " Day         9.000000\n",
       " Name: 1473094, dtype: float64,\n",
       " Year     2019.000000\n",
       " x          -0.601583\n",
       " y          -0.601583\n",
       " z           0.596505\n",
       " Month       1.000000\n",
       " Day        23.000000\n",
       " Name: 1473442, dtype: float64,\n",
       " Year     2019.000000\n",
       " x          -0.406538\n",
       " y          -0.406538\n",
       " z          -0.140175\n",
       " Month       3.000000\n",
       " Day        21.000000\n",
       " Name: 1473864, dtype: float64,\n",
       " Year     2019.000000\n",
       " x          -0.939486\n",
       " y          -0.939486\n",
       " z          -0.279829\n",
       " Month      12.000000\n",
       " Day        15.000000\n",
       " Name: 1474498, dtype: float64,\n",
       " Year     2020.000000\n",
       " x           0.763898\n",
       " y           0.763898\n",
       " z           0.611996\n",
       " Month      12.000000\n",
       " Day        26.000000\n",
       " Name: 1477068, dtype: float64,\n",
       " Year     2020.000000\n",
       " x          -0.539846\n",
       " y          -0.539846\n",
       " z           0.229319\n",
       " Month       1.000000\n",
       " Day        13.000000\n",
       " Name: 1477818, dtype: float64,\n",
       " Year     2020.000000\n",
       " x          -0.856739\n",
       " y          -0.856739\n",
       " z           0.332573\n",
       " Month       2.000000\n",
       " Day         1.000000\n",
       " Name: 1492843, dtype: float64,\n",
       " Year     2020.000000\n",
       " x          -0.856739\n",
       " y          -0.856739\n",
       " z           0.332573\n",
       " Month       4.000000\n",
       " Day        28.000000\n",
       " Name: 1492930, dtype: float64,\n",
       " Year     2020.000000\n",
       " x          -0.856739\n",
       " y          -0.856739\n",
       " z           0.332573\n",
       " Month       7.000000\n",
       " Day        16.000000\n",
       " Name: 1493009, dtype: float64,\n",
       " Year     2020.000000\n",
       " x          -0.264436\n",
       " y          -0.264436\n",
       " z          -0.106299\n",
       " Month      12.000000\n",
       " Day        22.000000\n",
       " Name: 1493534, dtype: float64,\n",
       " Year     2020.000000\n",
       " x          -0.817664\n",
       " y          -0.817664\n",
       " z          -0.071497\n",
       " Month       8.000000\n",
       " Day        25.000000\n",
       " Name: 1498173, dtype: float64,\n",
       " Year     2020.000000\n",
       " x          -0.014871\n",
       " y          -0.014871\n",
       " z           0.249924\n",
       " Month       6.000000\n",
       " Day         3.000000\n",
       " Name: 1499920, dtype: float64,\n",
       " Year     2020.000000\n",
       " x          -0.942429\n",
       " y          -0.942429\n",
       " z          -0.265556\n",
       " Month       3.000000\n",
       " Day        30.000000\n",
       " Name: 1509737, dtype: float64,\n",
       " Year     2020.000000\n",
       " x          -0.813703\n",
       " y          -0.813703\n",
       " z          -0.063139\n",
       " Month       1.000000\n",
       " Day         5.000000\n",
       " Name: 1510018, dtype: float64,\n",
       " Year     2020.000000\n",
       " x          -0.813703\n",
       " y          -0.813703\n",
       " z          -0.063139\n",
       " Month       2.000000\n",
       " Day         9.000000\n",
       " Name: 1510053, dtype: float64,\n",
       " Year     2020.000000\n",
       " x          -0.601583\n",
       " y          -0.601583\n",
       " z           0.596505\n",
       " Month       1.000000\n",
       " Day        23.000000\n",
       " Name: 1510402, dtype: float64,\n",
       " Year     2020.000000\n",
       " x          -0.406538\n",
       " y          -0.406538\n",
       " z          -0.140175\n",
       " Month       3.000000\n",
       " Day        21.000000\n",
       " Name: 1510826, dtype: float64,\n",
       " Year     2020.000000\n",
       " x          -0.939486\n",
       " y          -0.939486\n",
       " z          -0.279829\n",
       " Month      12.000000\n",
       " Day        15.000000\n",
       " Name: 1511461, dtype: float64]"
      ]
     },
     "execution_count": 222,
     "metadata": {},
     "output_type": "execute_result"
    }
   ],
   "source": [
    "t = []\n",
    "for i in range(len(y_pred1)):\n",
    "    if y_pred1[i] == 1:\n",
    "        t.append(x_test.iloc[i])\n",
    "t # Dates and places that the model predicted disasters will happen"
   ]
  },
  {
   "cell_type": "code",
   "execution_count": 223,
   "metadata": {},
   "outputs": [
    {
     "data": {
      "text/plain": [
       "[Year     2019.000000\n",
       " x           0.752144\n",
       " y           0.752144\n",
       " z           0.626454\n",
       " Month       7.000000\n",
       " Day         3.000000\n",
       " Name: 1445498, dtype: float64,\n",
       " Year     2019.000000\n",
       " x           0.752144\n",
       " y           0.752144\n",
       " z           0.626454\n",
       " Month       8.000000\n",
       " Day        28.000000\n",
       " Name: 1445554, dtype: float64,\n",
       " Year     2019.000000\n",
       " x          -0.817664\n",
       " y          -0.817664\n",
       " z          -0.071497\n",
       " Month       1.000000\n",
       " Day         7.000000\n",
       " Name: 1461016, dtype: float64,\n",
       " Year     2019.000000\n",
       " x          -0.817664\n",
       " y          -0.817664\n",
       " z          -0.071497\n",
       " Month       6.000000\n",
       " Day        28.000000\n",
       " Name: 1461188, dtype: float64,\n",
       " Year     2019.000000\n",
       " x          -0.145722\n",
       " y          -0.145722\n",
       " z           0.055299\n",
       " Month       5.000000\n",
       " Day         7.000000\n",
       " Name: 1468436, dtype: float64,\n",
       " Year     2019.000000\n",
       " x          -0.873992\n",
       " y          -0.873992\n",
       " z          -0.088025\n",
       " Month       6.000000\n",
       " Day        26.000000\n",
       " Name: 1474691, dtype: float64,\n",
       " Year     2019.000000\n",
       " x          -0.792180\n",
       " y          -0.792180\n",
       " z          -0.609038\n",
       " Month      12.000000\n",
       " Day         9.000000\n",
       " Name: 1475222, dtype: float64,\n",
       " Year     2020.000000\n",
       " x          -0.406538\n",
       " y          -0.406538\n",
       " z          -0.140175\n",
       " Month       5.000000\n",
       " Day        29.000000\n",
       " Name: 1510895, dtype: float64,\n",
       " Year     2020.000000\n",
       " x          -0.499633\n",
       " y          -0.499633\n",
       " z           0.241956\n",
       " Month       1.000000\n",
       " Day        12.000000\n",
       " Name: 1512221, dtype: float64]"
      ]
     },
     "execution_count": 223,
     "metadata": {},
     "output_type": "execute_result"
    }
   ],
   "source": [
    "v = []\n",
    "p = y_test.to_list()\n",
    "for i in range(len(p)):\n",
    "    if p[i] == 1:\n",
    "        v.append(x_test.iloc[i])\n",
    "v # Dates and places that disasters actually happened. Not much of a difference"
   ]
  },
  {
   "cell_type": "code",
   "execution_count": 224,
   "metadata": {},
   "outputs": [
    {
     "data": {
      "text/plain": [
       "1438540"
      ]
     },
     "execution_count": 224,
     "metadata": {},
     "output_type": "execute_result"
    }
   ],
   "source": [
    "y_train.sum()"
   ]
  },
  {
   "cell_type": "code",
   "execution_count": 225,
   "metadata": {},
   "outputs": [],
   "source": [
    "# Predict class probabilities\n",
    "y_pred_3 = classifier1.predict_proba(x_test)\n",
    " \n",
    "# Keep only the positive class\n",
    "y_pred_3 = [y[1] for y in y_pred_3]"
   ]
  },
  {
   "cell_type": "code",
   "execution_count": 226,
   "metadata": {},
   "outputs": [
    {
     "name": "stdout",
     "output_type": "stream",
     "text": [
      "0.5\n"
     ]
    }
   ],
   "source": [
    "print(roc_auc_score(y_test, y_pred_3))"
   ]
  },
  {
   "cell_type": "code",
   "execution_count": 45,
   "metadata": {},
   "outputs": [],
   "source": [
    "# Looks good, but knowing tree based algorithms it probably overfitted."
   ]
  },
  {
   "cell_type": "code",
   "execution_count": 46,
   "metadata": {},
   "outputs": [],
   "source": [
    "#https://elitedatascience.com/imbalanced-classes"
   ]
  }
 ],
 "metadata": {
  "kernelspec": {
   "display_name": "Python 3",
   "language": "python",
   "name": "python3"
  },
  "language_info": {
   "codemirror_mode": {
    "name": "ipython",
    "version": 3
   },
   "file_extension": ".py",
   "mimetype": "text/x-python",
   "name": "python",
   "nbconvert_exporter": "python",
   "pygments_lexer": "ipython3",
   "version": "3.7.6"
  }
 },
 "nbformat": 4,
 "nbformat_minor": 4
}
