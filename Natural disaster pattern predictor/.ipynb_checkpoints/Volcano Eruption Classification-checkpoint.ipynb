{
 "cells": [
  {
   "cell_type": "code",
   "execution_count": 1,
   "metadata": {},
   "outputs": [],
   "source": [
    "import pandas as pd\n",
    "import numpy as np\n",
    "import matplotlib.pyplot as plt\n",
    "import seaborn as sns"
   ]
  },
  {
   "cell_type": "code",
   "execution_count": 2,
   "metadata": {},
   "outputs": [],
   "source": [
    "# The preprocessing function accepts a pandas dataframe with the \"Year\", \"Month\" and \"Day\" features for when a natural disaster\n",
    "# occured as well as the \"Longitude\" and \"latitude\" coordinates. The function returns a pandas dataframe with the mentioned \n",
    "# features but for all days within the starting and ending year of the original dataframe. It also has an added feature \n",
    "# \"target\" which is a 1 if a natural disaster occured on that day, and a 0 otherwise.\n",
    "\n",
    "def preprocessing_dataframe(disaster_df):\n",
    "    preprocessed_dict = {'Year': [], 'Latitude':[], 'Longitude': [], 'Month': [], 'Day': [], 'target': []} # Starting with a dictionary to hold all values, but will later change to a pandas dataframe\n",
    "    # Creating a dictionary that stores the latitude and longitude values for each specific place in the dataframe\n",
    "    print('Preprocessing ... ')\n",
    "    print(' ')\n",
    "    place_coords = {}\n",
    "    for place in disaster_df['Name'].unique():\n",
    "        lat = disaster_df[disaster_df['Name'] == place]['Latitude'].unique()[0]\n",
    "        lng = disaster_df[disaster_df['Name'] == place]['Longitude'].unique()[0]\n",
    "        place_coords[place] = (lat, lng)\n",
    "        \n",
    "    # All places with their respective coordinates are now stored in the \"place_coords\" dictionary\n",
    "    \n",
    "    year_start = disaster_df['Year'].unique().min() # Getting the earliest year in the dataframe\n",
    "    year_end = disaster_df['Year'].unique().max() # Getting the last year in the dataframe\n",
    "    \n",
    "    # Now, I'll iterate through all the years in order to assign the targets\n",
    "    for year in range(year_start, year_end+1):  \n",
    "        year_df = disaster_df[disaster_df['Year'] == year] # Dataframe for disasters happening in year \"year\" \n",
    "        \n",
    "        # I'll have to account for all the days of the months in the year, which are usually 30 and 31 except February\n",
    "        # Assigning the number of days for a specific year in the month of February is dependent on if the year is a leap year \n",
    "        # or not, where the number of days will be 29 or 28 respectively.\n",
    "        \n",
    "        month_days = [31, 28, 31, 30, 31, 30, 31, 31, 30, 31, 30, 31] # List containing number of days for each month of the year accordingly, i.e index 0 or January with 31 days. This is the list of days assuming it is not a leap year\n",
    "        if year%4 == 0:\n",
    "            if year%100 != 0:\n",
    "                month_days[1] = 29\n",
    "            else:\n",
    "                if year%400 == 0:\n",
    "                    month_days[1] = 29\n",
    "        \n",
    "        # Now, the \"month_days\" list's index \"1\" will remain 28 if it is not a leap year, and be changed to 29 if it is indeed\n",
    "        # a leap year\n",
    "        \n",
    "        # Would also need to iterate through all the places in the dataframe\n",
    "        for place in place_coords:\n",
    "            place_df = year_df[year_df['Name'] == place] # DataFrame for observations of only the place \"place\" \n",
    "            month_number = 1 # This is supposed to be January\n",
    "            \n",
    "            #Similar, iterating through all months...\n",
    "            for days in month_days:\n",
    "                month_df = place_df[place_df['Month'] == month_number] # DataFrame containing observations of only the month \"month\"\n",
    "                \n",
    "                # Iterating through all the days in the month...\n",
    "                for day in range(1, days+1):\n",
    "                    preprocessed_dict['Year'].append(year)\n",
    "                    preprocessed_dict['Latitude'].append(place_coords[place][0])\n",
    "                    preprocessed_dict['Longitude'].append(place_coords[place][1])\n",
    "                    preprocessed_dict['Month'].append(month_number)\n",
    "                    preprocessed_dict['Day'].append(day)\n",
    "                    # And finally, if the particular date is present in the dataframe, the target is set to 1, and 0 otherwise\n",
    "                    if place in year_df['Name'].unique() and month_number in place_df['Month'].unique() and day in month_df['Day'].unique():\n",
    "                        preprocessed_dict['target'].append(1)\n",
    "                    else:\n",
    "                        preprocessed_dict['target'].append(0)\n",
    "                month_number += 1\n",
    "                \n",
    "    preprocessed_df = pd.DataFrame(preprocessed_dict) # Transforming to a dataframe\n",
    "    \n",
    "    # Things to note: The function doesn't consider nan values, so if there is a nan value in any of the date features it will\n",
    "    # set the target to 0. Also, the preprocessed dataframe can be very large without care, so maybe sticking to 40, 50 years\n",
    "    # at most will be desirable. Also helps that for latter years, there's a lot less nan values. But could also edit it to\n",
    "    # perform a task if there is are nan values present.\n",
    "    print('Done!')\n",
    "    return preprocessed_df "
   ]
  },
  {
   "cell_type": "code",
   "execution_count": 3,
   "metadata": {},
   "outputs": [],
   "source": [
    "volc = pd.read_csv('data/txt/volerup.txt',delimiter = '\\t', quoting = 3, encoding='utf-8')"
   ]
  },
  {
   "cell_type": "code",
   "execution_count": 4,
   "metadata": {},
   "outputs": [],
   "source": [
    "volc  = volc[['Year','Month','Day','Name','Latitude','Longitude']]"
   ]
  },
  {
   "cell_type": "code",
   "execution_count": 5,
   "metadata": {},
   "outputs": [
    {
     "data": {
      "text/html": [
       "<div>\n",
       "<style scoped>\n",
       "    .dataframe tbody tr th:only-of-type {\n",
       "        vertical-align: middle;\n",
       "    }\n",
       "\n",
       "    .dataframe tbody tr th {\n",
       "        vertical-align: top;\n",
       "    }\n",
       "\n",
       "    .dataframe thead th {\n",
       "        text-align: right;\n",
       "    }\n",
       "</style>\n",
       "<table border=\"1\" class=\"dataframe\">\n",
       "  <thead>\n",
       "    <tr style=\"text-align: right;\">\n",
       "      <th></th>\n",
       "      <th>Year</th>\n",
       "      <th>Month</th>\n",
       "      <th>Day</th>\n",
       "      <th>Name</th>\n",
       "      <th>Latitude</th>\n",
       "      <th>Longitude</th>\n",
       "    </tr>\n",
       "  </thead>\n",
       "  <tbody>\n",
       "    <tr>\n",
       "      <th>0</th>\n",
       "      <td>-4360</td>\n",
       "      <td>NaN</td>\n",
       "      <td>NaN</td>\n",
       "      <td>Macauley Island</td>\n",
       "      <td>-30.200</td>\n",
       "      <td>-178.470</td>\n",
       "    </tr>\n",
       "    <tr>\n",
       "      <th>1</th>\n",
       "      <td>-4350</td>\n",
       "      <td>NaN</td>\n",
       "      <td>NaN</td>\n",
       "      <td>Kikai</td>\n",
       "      <td>30.780</td>\n",
       "      <td>130.280</td>\n",
       "    </tr>\n",
       "    <tr>\n",
       "      <th>2</th>\n",
       "      <td>-4050</td>\n",
       "      <td>NaN</td>\n",
       "      <td>NaN</td>\n",
       "      <td>Masaya</td>\n",
       "      <td>11.984</td>\n",
       "      <td>-86.161</td>\n",
       "    </tr>\n",
       "    <tr>\n",
       "      <th>3</th>\n",
       "      <td>-4000</td>\n",
       "      <td>NaN</td>\n",
       "      <td>NaN</td>\n",
       "      <td>Pago</td>\n",
       "      <td>-5.580</td>\n",
       "      <td>150.520</td>\n",
       "    </tr>\n",
       "    <tr>\n",
       "      <th>4</th>\n",
       "      <td>-3580</td>\n",
       "      <td>NaN</td>\n",
       "      <td>NaN</td>\n",
       "      <td>Taal</td>\n",
       "      <td>14.002</td>\n",
       "      <td>120.993</td>\n",
       "    </tr>\n",
       "  </tbody>\n",
       "</table>\n",
       "</div>"
      ],
      "text/plain": [
       "   Year  Month  Day             Name  Latitude  Longitude\n",
       "0 -4360    NaN  NaN  Macauley Island   -30.200   -178.470\n",
       "1 -4350    NaN  NaN            Kikai    30.780    130.280\n",
       "2 -4050    NaN  NaN           Masaya    11.984    -86.161\n",
       "3 -4000    NaN  NaN             Pago    -5.580    150.520\n",
       "4 -3580    NaN  NaN             Taal    14.002    120.993"
      ]
     },
     "execution_count": 5,
     "metadata": {},
     "output_type": "execute_result"
    }
   ],
   "source": [
    "volc.head()"
   ]
  },
  {
   "cell_type": "code",
   "execution_count": 6,
   "metadata": {},
   "outputs": [
    {
     "data": {
      "text/plain": [
       "(835, 6)"
      ]
     },
     "execution_count": 6,
     "metadata": {},
     "output_type": "execute_result"
    }
   ],
   "source": [
    "volc.shape"
   ]
  },
  {
   "cell_type": "code",
   "execution_count": 7,
   "metadata": {},
   "outputs": [
    {
     "data": {
      "text/plain": [
       "Year           0\n",
       "Month        127\n",
       "Day          188\n",
       "Name           0\n",
       "Latitude       0\n",
       "Longitude      0\n",
       "dtype: int64"
      ]
     },
     "execution_count": 7,
     "metadata": {},
     "output_type": "execute_result"
    }
   ],
   "source": [
    "volc.isnull().sum()"
   ]
  },
  {
   "cell_type": "code",
   "execution_count": 8,
   "metadata": {},
   "outputs": [],
   "source": [
    "volc = volc.dropna()"
   ]
  },
  {
   "cell_type": "code",
   "execution_count": 9,
   "metadata": {},
   "outputs": [
    {
     "data": {
      "text/plain": [
       "False"
      ]
     },
     "execution_count": 9,
     "metadata": {},
     "output_type": "execute_result"
    }
   ],
   "source": [
    "volc.duplicated().any()"
   ]
  },
  {
   "cell_type": "code",
   "execution_count": 10,
   "metadata": {},
   "outputs": [
    {
     "data": {
      "text/html": [
       "<div>\n",
       "<style scoped>\n",
       "    .dataframe tbody tr th:only-of-type {\n",
       "        vertical-align: middle;\n",
       "    }\n",
       "\n",
       "    .dataframe tbody tr th {\n",
       "        vertical-align: top;\n",
       "    }\n",
       "\n",
       "    .dataframe thead th {\n",
       "        text-align: right;\n",
       "    }\n",
       "</style>\n",
       "<table border=\"1\" class=\"dataframe\">\n",
       "  <thead>\n",
       "    <tr style=\"text-align: right;\">\n",
       "      <th></th>\n",
       "      <th>Year</th>\n",
       "      <th>Month</th>\n",
       "      <th>Day</th>\n",
       "      <th>Name</th>\n",
       "      <th>Latitude</th>\n",
       "      <th>Longitude</th>\n",
       "    </tr>\n",
       "  </thead>\n",
       "  <tbody>\n",
       "    <tr>\n",
       "      <th>718</th>\n",
       "      <td>2000</td>\n",
       "      <td>6.0</td>\n",
       "      <td>27.0</td>\n",
       "      <td>Miyake-jima</td>\n",
       "      <td>34.080</td>\n",
       "      <td>139.530</td>\n",
       "    </tr>\n",
       "    <tr>\n",
       "      <th>719</th>\n",
       "      <td>2000</td>\n",
       "      <td>7.0</td>\n",
       "      <td>27.0</td>\n",
       "      <td>Semeru</td>\n",
       "      <td>-8.108</td>\n",
       "      <td>112.920</td>\n",
       "    </tr>\n",
       "    <tr>\n",
       "      <th>720</th>\n",
       "      <td>2000</td>\n",
       "      <td>8.0</td>\n",
       "      <td>23.0</td>\n",
       "      <td>Arenal</td>\n",
       "      <td>10.463</td>\n",
       "      <td>-84.703</td>\n",
       "    </tr>\n",
       "    <tr>\n",
       "      <th>721</th>\n",
       "      <td>2000</td>\n",
       "      <td>11.0</td>\n",
       "      <td>3.0</td>\n",
       "      <td>Kilauea</td>\n",
       "      <td>19.425</td>\n",
       "      <td>-155.292</td>\n",
       "    </tr>\n",
       "    <tr>\n",
       "      <th>723</th>\n",
       "      <td>2001</td>\n",
       "      <td>5.0</td>\n",
       "      <td>14.0</td>\n",
       "      <td>Etna</td>\n",
       "      <td>37.734</td>\n",
       "      <td>15.004</td>\n",
       "    </tr>\n",
       "  </tbody>\n",
       "</table>\n",
       "</div>"
      ],
      "text/plain": [
       "     Year  Month   Day         Name  Latitude  Longitude\n",
       "718  2000    6.0  27.0  Miyake-jima    34.080    139.530\n",
       "719  2000    7.0  27.0       Semeru    -8.108    112.920\n",
       "720  2000    8.0  23.0       Arenal    10.463    -84.703\n",
       "721  2000   11.0   3.0      Kilauea    19.425   -155.292\n",
       "723  2001    5.0  14.0         Etna    37.734     15.004"
      ]
     },
     "execution_count": 10,
     "metadata": {},
     "output_type": "execute_result"
    }
   ],
   "source": [
    "volc_2000= volc[volc['Year'] >= 2000]\n",
    "volc_2000.head()"
   ]
  },
  {
   "cell_type": "code",
   "execution_count": 11,
   "metadata": {},
   "outputs": [],
   "source": [
    "volc_2000.reset_index(drop=True, inplace=True)"
   ]
  },
  {
   "cell_type": "code",
   "execution_count": 12,
   "metadata": {},
   "outputs": [
    {
     "data": {
      "text/html": [
       "<div>\n",
       "<style scoped>\n",
       "    .dataframe tbody tr th:only-of-type {\n",
       "        vertical-align: middle;\n",
       "    }\n",
       "\n",
       "    .dataframe tbody tr th {\n",
       "        vertical-align: top;\n",
       "    }\n",
       "\n",
       "    .dataframe thead th {\n",
       "        text-align: right;\n",
       "    }\n",
       "</style>\n",
       "<table border=\"1\" class=\"dataframe\">\n",
       "  <thead>\n",
       "    <tr style=\"text-align: right;\">\n",
       "      <th></th>\n",
       "      <th>Year</th>\n",
       "      <th>Month</th>\n",
       "      <th>Day</th>\n",
       "      <th>Name</th>\n",
       "      <th>Latitude</th>\n",
       "      <th>Longitude</th>\n",
       "    </tr>\n",
       "  </thead>\n",
       "  <tbody>\n",
       "    <tr>\n",
       "      <th>0</th>\n",
       "      <td>2000</td>\n",
       "      <td>6.0</td>\n",
       "      <td>27.0</td>\n",
       "      <td>Miyake-jima</td>\n",
       "      <td>34.080</td>\n",
       "      <td>139.530</td>\n",
       "    </tr>\n",
       "    <tr>\n",
       "      <th>1</th>\n",
       "      <td>2000</td>\n",
       "      <td>7.0</td>\n",
       "      <td>27.0</td>\n",
       "      <td>Semeru</td>\n",
       "      <td>-8.108</td>\n",
       "      <td>112.920</td>\n",
       "    </tr>\n",
       "    <tr>\n",
       "      <th>2</th>\n",
       "      <td>2000</td>\n",
       "      <td>8.0</td>\n",
       "      <td>23.0</td>\n",
       "      <td>Arenal</td>\n",
       "      <td>10.463</td>\n",
       "      <td>-84.703</td>\n",
       "    </tr>\n",
       "    <tr>\n",
       "      <th>3</th>\n",
       "      <td>2000</td>\n",
       "      <td>11.0</td>\n",
       "      <td>3.0</td>\n",
       "      <td>Kilauea</td>\n",
       "      <td>19.425</td>\n",
       "      <td>-155.292</td>\n",
       "    </tr>\n",
       "    <tr>\n",
       "      <th>4</th>\n",
       "      <td>2001</td>\n",
       "      <td>5.0</td>\n",
       "      <td>14.0</td>\n",
       "      <td>Etna</td>\n",
       "      <td>37.734</td>\n",
       "      <td>15.004</td>\n",
       "    </tr>\n",
       "  </tbody>\n",
       "</table>\n",
       "</div>"
      ],
      "text/plain": [
       "   Year  Month   Day         Name  Latitude  Longitude\n",
       "0  2000    6.0  27.0  Miyake-jima    34.080    139.530\n",
       "1  2000    7.0  27.0       Semeru    -8.108    112.920\n",
       "2  2000    8.0  23.0       Arenal    10.463    -84.703\n",
       "3  2000   11.0   3.0      Kilauea    19.425   -155.292\n",
       "4  2001    5.0  14.0         Etna    37.734     15.004"
      ]
     },
     "execution_count": 12,
     "metadata": {},
     "output_type": "execute_result"
    }
   ],
   "source": [
    "volc_2000.head()"
   ]
  },
  {
   "cell_type": "code",
   "execution_count": 13,
   "metadata": {},
   "outputs": [
    {
     "data": {
      "text/plain": [
       "(109, 6)"
      ]
     },
     "execution_count": 13,
     "metadata": {},
     "output_type": "execute_result"
    }
   ],
   "source": [
    "volc_2000.shape"
   ]
  },
  {
   "cell_type": "code",
   "execution_count": 14,
   "metadata": {},
   "outputs": [
    {
     "name": "stdout",
     "output_type": "stream",
     "text": [
      "Preprocessing ... \n",
      " \n",
      "Done!\n"
     ]
    }
   ],
   "source": [
    "preprocessed_volc = preprocessing_dataframe(volc_2000)"
   ]
  },
  {
   "cell_type": "code",
   "execution_count": 15,
   "metadata": {},
   "outputs": [
    {
     "data": {
      "text/html": [
       "<div>\n",
       "<style scoped>\n",
       "    .dataframe tbody tr th:only-of-type {\n",
       "        vertical-align: middle;\n",
       "    }\n",
       "\n",
       "    .dataframe tbody tr th {\n",
       "        vertical-align: top;\n",
       "    }\n",
       "\n",
       "    .dataframe thead th {\n",
       "        text-align: right;\n",
       "    }\n",
       "</style>\n",
       "<table border=\"1\" class=\"dataframe\">\n",
       "  <thead>\n",
       "    <tr style=\"text-align: right;\">\n",
       "      <th></th>\n",
       "      <th>Year</th>\n",
       "      <th>Latitude</th>\n",
       "      <th>Longitude</th>\n",
       "      <th>Month</th>\n",
       "      <th>Day</th>\n",
       "      <th>target</th>\n",
       "    </tr>\n",
       "  </thead>\n",
       "  <tbody>\n",
       "    <tr>\n",
       "      <th>0</th>\n",
       "      <td>2000</td>\n",
       "      <td>34.08</td>\n",
       "      <td>139.53</td>\n",
       "      <td>1</td>\n",
       "      <td>1</td>\n",
       "      <td>0</td>\n",
       "    </tr>\n",
       "    <tr>\n",
       "      <th>1</th>\n",
       "      <td>2000</td>\n",
       "      <td>34.08</td>\n",
       "      <td>139.53</td>\n",
       "      <td>1</td>\n",
       "      <td>2</td>\n",
       "      <td>0</td>\n",
       "    </tr>\n",
       "    <tr>\n",
       "      <th>2</th>\n",
       "      <td>2000</td>\n",
       "      <td>34.08</td>\n",
       "      <td>139.53</td>\n",
       "      <td>1</td>\n",
       "      <td>3</td>\n",
       "      <td>0</td>\n",
       "    </tr>\n",
       "    <tr>\n",
       "      <th>3</th>\n",
       "      <td>2000</td>\n",
       "      <td>34.08</td>\n",
       "      <td>139.53</td>\n",
       "      <td>1</td>\n",
       "      <td>4</td>\n",
       "      <td>0</td>\n",
       "    </tr>\n",
       "    <tr>\n",
       "      <th>4</th>\n",
       "      <td>2000</td>\n",
       "      <td>34.08</td>\n",
       "      <td>139.53</td>\n",
       "      <td>1</td>\n",
       "      <td>5</td>\n",
       "      <td>0</td>\n",
       "    </tr>\n",
       "  </tbody>\n",
       "</table>\n",
       "</div>"
      ],
      "text/plain": [
       "   Year  Latitude  Longitude  Month  Day  target\n",
       "0  2000     34.08     139.53      1    1       0\n",
       "1  2000     34.08     139.53      1    2       0\n",
       "2  2000     34.08     139.53      1    3       0\n",
       "3  2000     34.08     139.53      1    4       0\n",
       "4  2000     34.08     139.53      1    5       0"
      ]
     },
     "execution_count": 15,
     "metadata": {},
     "output_type": "execute_result"
    }
   ],
   "source": [
    "preprocessed_volc.head()"
   ]
  },
  {
   "cell_type": "code",
   "execution_count": 16,
   "metadata": {},
   "outputs": [
    {
     "data": {
      "text/plain": [
       "(460260, 6)"
      ]
     },
     "execution_count": 16,
     "metadata": {},
     "output_type": "execute_result"
    }
   ],
   "source": [
    "preprocessed_volc.shape"
   ]
  },
  {
   "cell_type": "code",
   "execution_count": 17,
   "metadata": {},
   "outputs": [
    {
     "data": {
      "text/html": [
       "<div>\n",
       "<style scoped>\n",
       "    .dataframe tbody tr th:only-of-type {\n",
       "        vertical-align: middle;\n",
       "    }\n",
       "\n",
       "    .dataframe tbody tr th {\n",
       "        vertical-align: top;\n",
       "    }\n",
       "\n",
       "    .dataframe thead th {\n",
       "        text-align: right;\n",
       "    }\n",
       "</style>\n",
       "<table border=\"1\" class=\"dataframe\">\n",
       "  <thead>\n",
       "    <tr style=\"text-align: right;\">\n",
       "      <th></th>\n",
       "      <th>Year</th>\n",
       "      <th>Latitude</th>\n",
       "      <th>Longitude</th>\n",
       "      <th>Month</th>\n",
       "      <th>Day</th>\n",
       "      <th>target</th>\n",
       "    </tr>\n",
       "  </thead>\n",
       "  <tbody>\n",
       "    <tr>\n",
       "      <th>0</th>\n",
       "      <td>2000</td>\n",
       "      <td>34.08</td>\n",
       "      <td>139.53</td>\n",
       "      <td>1</td>\n",
       "      <td>1</td>\n",
       "      <td>0</td>\n",
       "    </tr>\n",
       "    <tr>\n",
       "      <th>1</th>\n",
       "      <td>2000</td>\n",
       "      <td>34.08</td>\n",
       "      <td>139.53</td>\n",
       "      <td>1</td>\n",
       "      <td>2</td>\n",
       "      <td>0</td>\n",
       "    </tr>\n",
       "    <tr>\n",
       "      <th>2</th>\n",
       "      <td>2000</td>\n",
       "      <td>34.08</td>\n",
       "      <td>139.53</td>\n",
       "      <td>1</td>\n",
       "      <td>3</td>\n",
       "      <td>0</td>\n",
       "    </tr>\n",
       "    <tr>\n",
       "      <th>3</th>\n",
       "      <td>2000</td>\n",
       "      <td>34.08</td>\n",
       "      <td>139.53</td>\n",
       "      <td>1</td>\n",
       "      <td>4</td>\n",
       "      <td>0</td>\n",
       "    </tr>\n",
       "    <tr>\n",
       "      <th>4</th>\n",
       "      <td>2000</td>\n",
       "      <td>34.08</td>\n",
       "      <td>139.53</td>\n",
       "      <td>1</td>\n",
       "      <td>5</td>\n",
       "      <td>0</td>\n",
       "    </tr>\n",
       "  </tbody>\n",
       "</table>\n",
       "</div>"
      ],
      "text/plain": [
       "   Year  Latitude  Longitude  Month  Day  target\n",
       "0  2000     34.08     139.53      1    1       0\n",
       "1  2000     34.08     139.53      1    2       0\n",
       "2  2000     34.08     139.53      1    3       0\n",
       "3  2000     34.08     139.53      1    4       0\n",
       "4  2000     34.08     139.53      1    5       0"
      ]
     },
     "execution_count": 17,
     "metadata": {},
     "output_type": "execute_result"
    }
   ],
   "source": [
    "preprocessed_volc.head()"
   ]
  },
  {
   "cell_type": "code",
   "execution_count": 20,
   "metadata": {},
   "outputs": [],
   "source": [
    "normalized_volc = pd.DataFrame({}) # Dataframe to store normalized x, y, z coordinates"
   ]
  },
  {
   "cell_type": "code",
   "execution_count": 21,
   "metadata": {},
   "outputs": [],
   "source": [
    "# Changing lat lon values to x, y, z coordinates\n",
    "def find_x(lat, lon):\n",
    "    return np.cos(np.deg2rad(lat))*np.cos(np.deg2rad(lon)) # x = cos(lat)*cos(lon)\n",
    "\n",
    "def find_y(lat, lon):\n",
    "    return np.cos(np.deg2rad(lat))*np.sin(np.deg2rad(lon)) # y = cos(lat)*sin(lon)\n",
    "\n",
    "def find_z(lat):\n",
    "    return np.sin(np.deg2rad(lat)) # z = sin(lat)"
   ]
  },
  {
   "cell_type": "code",
   "execution_count": 22,
   "metadata": {},
   "outputs": [],
   "source": [
    "normalized_volc['Year'] = preprocessed_volc['Year']\n",
    "normalized_volc['x'] = preprocessed_volc.apply(lambda x: find_x(x['Latitude'], x['Longitude']), axis=1)\n",
    "normalized_volc['y'] = preprocessed_volc.apply(lambda x: find_x(x['Latitude'], x['Longitude']), axis=1)\n",
    "normalized_volc['z'] = preprocessed_volc['Latitude'].apply(find_z)\n",
    "normalized_volc['Month'] = preprocessed_volc['Month']\n",
    "normalized_volc['Day'] = preprocessed_volc['Day']\n",
    "normalized_volc['target'] = preprocessed_volc['target']"
   ]
  },
  {
   "cell_type": "code",
   "execution_count": 23,
   "metadata": {},
   "outputs": [
    {
     "data": {
      "text/html": [
       "<div>\n",
       "<style scoped>\n",
       "    .dataframe tbody tr th:only-of-type {\n",
       "        vertical-align: middle;\n",
       "    }\n",
       "\n",
       "    .dataframe tbody tr th {\n",
       "        vertical-align: top;\n",
       "    }\n",
       "\n",
       "    .dataframe thead th {\n",
       "        text-align: right;\n",
       "    }\n",
       "</style>\n",
       "<table border=\"1\" class=\"dataframe\">\n",
       "  <thead>\n",
       "    <tr style=\"text-align: right;\">\n",
       "      <th></th>\n",
       "      <th>Year</th>\n",
       "      <th>x</th>\n",
       "      <th>y</th>\n",
       "      <th>z</th>\n",
       "      <th>Month</th>\n",
       "      <th>Day</th>\n",
       "      <th>target</th>\n",
       "    </tr>\n",
       "  </thead>\n",
       "  <tbody>\n",
       "    <tr>\n",
       "      <th>0</th>\n",
       "      <td>2000</td>\n",
       "      <td>-0.630092</td>\n",
       "      <td>-0.630092</td>\n",
       "      <td>0.56035</td>\n",
       "      <td>1</td>\n",
       "      <td>1</td>\n",
       "      <td>0</td>\n",
       "    </tr>\n",
       "    <tr>\n",
       "      <th>1</th>\n",
       "      <td>2000</td>\n",
       "      <td>-0.630092</td>\n",
       "      <td>-0.630092</td>\n",
       "      <td>0.56035</td>\n",
       "      <td>1</td>\n",
       "      <td>2</td>\n",
       "      <td>0</td>\n",
       "    </tr>\n",
       "    <tr>\n",
       "      <th>2</th>\n",
       "      <td>2000</td>\n",
       "      <td>-0.630092</td>\n",
       "      <td>-0.630092</td>\n",
       "      <td>0.56035</td>\n",
       "      <td>1</td>\n",
       "      <td>3</td>\n",
       "      <td>0</td>\n",
       "    </tr>\n",
       "    <tr>\n",
       "      <th>3</th>\n",
       "      <td>2000</td>\n",
       "      <td>-0.630092</td>\n",
       "      <td>-0.630092</td>\n",
       "      <td>0.56035</td>\n",
       "      <td>1</td>\n",
       "      <td>4</td>\n",
       "      <td>0</td>\n",
       "    </tr>\n",
       "    <tr>\n",
       "      <th>4</th>\n",
       "      <td>2000</td>\n",
       "      <td>-0.630092</td>\n",
       "      <td>-0.630092</td>\n",
       "      <td>0.56035</td>\n",
       "      <td>1</td>\n",
       "      <td>5</td>\n",
       "      <td>0</td>\n",
       "    </tr>\n",
       "  </tbody>\n",
       "</table>\n",
       "</div>"
      ],
      "text/plain": [
       "   Year         x         y        z  Month  Day  target\n",
       "0  2000 -0.630092 -0.630092  0.56035      1    1       0\n",
       "1  2000 -0.630092 -0.630092  0.56035      1    2       0\n",
       "2  2000 -0.630092 -0.630092  0.56035      1    3       0\n",
       "3  2000 -0.630092 -0.630092  0.56035      1    4       0\n",
       "4  2000 -0.630092 -0.630092  0.56035      1    5       0"
      ]
     },
     "execution_count": 23,
     "metadata": {},
     "output_type": "execute_result"
    }
   ],
   "source": [
    "normalized_volc.head()"
   ]
  },
  {
   "cell_type": "code",
   "execution_count": 24,
   "metadata": {},
   "outputs": [],
   "source": [
    "from sklearn.model_selection import train_test_split\n",
    "from sklearn.metrics import accuracy_score"
   ]
  },
  {
   "cell_type": "code",
   "execution_count": 25,
   "metadata": {},
   "outputs": [],
   "source": [
    "# Taking out test data before upsampling\n",
    "x_train, x_test, y_train, y_test = train_test_split(normalized_volc.drop(columns='target'), \n",
    "                                                    normalized_volc['target'], \n",
    "                                                    test_size = 0.25, \n",
    "                                                    random_state = 0)"
   ]
  },
  {
   "cell_type": "code",
   "execution_count": 26,
   "metadata": {},
   "outputs": [],
   "source": [
    "x_train['target'] = y_train"
   ]
  },
  {
   "cell_type": "code",
   "execution_count": 27,
   "metadata": {},
   "outputs": [
    {
     "data": {
      "text/html": [
       "<div>\n",
       "<style scoped>\n",
       "    .dataframe tbody tr th:only-of-type {\n",
       "        vertical-align: middle;\n",
       "    }\n",
       "\n",
       "    .dataframe tbody tr th {\n",
       "        vertical-align: top;\n",
       "    }\n",
       "\n",
       "    .dataframe thead th {\n",
       "        text-align: right;\n",
       "    }\n",
       "</style>\n",
       "<table border=\"1\" class=\"dataframe\">\n",
       "  <thead>\n",
       "    <tr style=\"text-align: right;\">\n",
       "      <th></th>\n",
       "      <th>Year</th>\n",
       "      <th>x</th>\n",
       "      <th>y</th>\n",
       "      <th>z</th>\n",
       "      <th>Month</th>\n",
       "      <th>Day</th>\n",
       "      <th>target</th>\n",
       "    </tr>\n",
       "  </thead>\n",
       "  <tbody>\n",
       "    <tr>\n",
       "      <th>260770</th>\n",
       "      <td>2011</td>\n",
       "      <td>-0.601583</td>\n",
       "      <td>-0.601583</td>\n",
       "      <td>0.596505</td>\n",
       "      <td>12</td>\n",
       "      <td>12</td>\n",
       "      <td>0</td>\n",
       "    </tr>\n",
       "    <tr>\n",
       "      <th>242223</th>\n",
       "      <td>2011</td>\n",
       "      <td>-0.856739</td>\n",
       "      <td>-0.856739</td>\n",
       "      <td>0.332573</td>\n",
       "      <td>2</td>\n",
       "      <td>18</td>\n",
       "      <td>0</td>\n",
       "    </tr>\n",
       "    <tr>\n",
       "      <th>49759</th>\n",
       "      <td>2002</td>\n",
       "      <td>-0.871751</td>\n",
       "      <td>-0.871751</td>\n",
       "      <td>-0.488926</td>\n",
       "      <td>3</td>\n",
       "      <td>1</td>\n",
       "      <td>0</td>\n",
       "    </tr>\n",
       "    <tr>\n",
       "      <th>14898</th>\n",
       "      <td>2000</td>\n",
       "      <td>-0.785252</td>\n",
       "      <td>-0.785252</td>\n",
       "      <td>-0.617311</td>\n",
       "      <td>9</td>\n",
       "      <td>15</td>\n",
       "      <td>0</td>\n",
       "    </tr>\n",
       "    <tr>\n",
       "      <th>329970</th>\n",
       "      <td>2015</td>\n",
       "      <td>-0.856739</td>\n",
       "      <td>-0.856739</td>\n",
       "      <td>0.332573</td>\n",
       "      <td>5</td>\n",
       "      <td>16</td>\n",
       "      <td>0</td>\n",
       "    </tr>\n",
       "  </tbody>\n",
       "</table>\n",
       "</div>"
      ],
      "text/plain": [
       "        Year         x         y         z  Month  Day  target\n",
       "260770  2011 -0.601583 -0.601583  0.596505     12   12       0\n",
       "242223  2011 -0.856739 -0.856739  0.332573      2   18       0\n",
       "49759   2002 -0.871751 -0.871751 -0.488926      3    1       0\n",
       "14898   2000 -0.785252 -0.785252 -0.617311      9   15       0\n",
       "329970  2015 -0.856739 -0.856739  0.332573      5   16       0"
      ]
     },
     "execution_count": 27,
     "metadata": {},
     "output_type": "execute_result"
    }
   ],
   "source": [
    "x_train.head()"
   ]
  },
  {
   "cell_type": "code",
   "execution_count": 28,
   "metadata": {},
   "outputs": [
    {
     "data": {
      "text/plain": [
       "(345195, 7)"
      ]
     },
     "execution_count": 28,
     "metadata": {},
     "output_type": "execute_result"
    }
   ],
   "source": [
    "x_train.shape"
   ]
  },
  {
   "cell_type": "code",
   "execution_count": 29,
   "metadata": {},
   "outputs": [
    {
     "data": {
      "text/plain": [
       "77"
      ]
     },
     "execution_count": 29,
     "metadata": {},
     "output_type": "execute_result"
    }
   ],
   "source": [
    "len(x_train[x_train['target'] == 1])"
   ]
  },
  {
   "cell_type": "code",
   "execution_count": 30,
   "metadata": {},
   "outputs": [
    {
     "data": {
      "text/plain": [
       "345118"
      ]
     },
     "execution_count": 30,
     "metadata": {},
     "output_type": "execute_result"
    }
   ],
   "source": [
    "num_zero_targets = len(x_train[x_train['target'] == 0])\n",
    "num_zero_targets"
   ]
  },
  {
   "cell_type": "code",
   "execution_count": 31,
   "metadata": {},
   "outputs": [],
   "source": [
    "majority = x_train[x_train['target'] == 0]\n",
    "minority = x_train[x_train['target'] == 1]"
   ]
  },
  {
   "cell_type": "code",
   "execution_count": 32,
   "metadata": {},
   "outputs": [
    {
     "data": {
      "text/html": [
       "<div>\n",
       "<style scoped>\n",
       "    .dataframe tbody tr th:only-of-type {\n",
       "        vertical-align: middle;\n",
       "    }\n",
       "\n",
       "    .dataframe tbody tr th {\n",
       "        vertical-align: top;\n",
       "    }\n",
       "\n",
       "    .dataframe thead th {\n",
       "        text-align: right;\n",
       "    }\n",
       "</style>\n",
       "<table border=\"1\" class=\"dataframe\">\n",
       "  <thead>\n",
       "    <tr style=\"text-align: right;\">\n",
       "      <th></th>\n",
       "      <th>Year</th>\n",
       "      <th>x</th>\n",
       "      <th>y</th>\n",
       "      <th>z</th>\n",
       "      <th>Month</th>\n",
       "      <th>Day</th>\n",
       "      <th>target</th>\n",
       "    </tr>\n",
       "  </thead>\n",
       "  <tbody>\n",
       "    <tr>\n",
       "      <th>260770</th>\n",
       "      <td>2011</td>\n",
       "      <td>-0.601583</td>\n",
       "      <td>-0.601583</td>\n",
       "      <td>0.596505</td>\n",
       "      <td>12</td>\n",
       "      <td>12</td>\n",
       "      <td>0</td>\n",
       "    </tr>\n",
       "    <tr>\n",
       "      <th>242223</th>\n",
       "      <td>2011</td>\n",
       "      <td>-0.856739</td>\n",
       "      <td>-0.856739</td>\n",
       "      <td>0.332573</td>\n",
       "      <td>2</td>\n",
       "      <td>18</td>\n",
       "      <td>0</td>\n",
       "    </tr>\n",
       "    <tr>\n",
       "      <th>49759</th>\n",
       "      <td>2002</td>\n",
       "      <td>-0.871751</td>\n",
       "      <td>-0.871751</td>\n",
       "      <td>-0.488926</td>\n",
       "      <td>3</td>\n",
       "      <td>1</td>\n",
       "      <td>0</td>\n",
       "    </tr>\n",
       "    <tr>\n",
       "      <th>14898</th>\n",
       "      <td>2000</td>\n",
       "      <td>-0.785252</td>\n",
       "      <td>-0.785252</td>\n",
       "      <td>-0.617311</td>\n",
       "      <td>9</td>\n",
       "      <td>15</td>\n",
       "      <td>0</td>\n",
       "    </tr>\n",
       "    <tr>\n",
       "      <th>329970</th>\n",
       "      <td>2015</td>\n",
       "      <td>-0.856739</td>\n",
       "      <td>-0.856739</td>\n",
       "      <td>0.332573</td>\n",
       "      <td>5</td>\n",
       "      <td>16</td>\n",
       "      <td>0</td>\n",
       "    </tr>\n",
       "  </tbody>\n",
       "</table>\n",
       "</div>"
      ],
      "text/plain": [
       "        Year         x         y         z  Month  Day  target\n",
       "260770  2011 -0.601583 -0.601583  0.596505     12   12       0\n",
       "242223  2011 -0.856739 -0.856739  0.332573      2   18       0\n",
       "49759   2002 -0.871751 -0.871751 -0.488926      3    1       0\n",
       "14898   2000 -0.785252 -0.785252 -0.617311      9   15       0\n",
       "329970  2015 -0.856739 -0.856739  0.332573      5   16       0"
      ]
     },
     "execution_count": 32,
     "metadata": {},
     "output_type": "execute_result"
    }
   ],
   "source": [
    "majority.head()"
   ]
  },
  {
   "cell_type": "code",
   "execution_count": 33,
   "metadata": {},
   "outputs": [
    {
     "data": {
      "text/html": [
       "<div>\n",
       "<style scoped>\n",
       "    .dataframe tbody tr th:only-of-type {\n",
       "        vertical-align: middle;\n",
       "    }\n",
       "\n",
       "    .dataframe tbody tr th {\n",
       "        vertical-align: top;\n",
       "    }\n",
       "\n",
       "    .dataframe thead th {\n",
       "        text-align: right;\n",
       "    }\n",
       "</style>\n",
       "<table border=\"1\" class=\"dataframe\">\n",
       "  <thead>\n",
       "    <tr style=\"text-align: right;\">\n",
       "      <th></th>\n",
       "      <th>Year</th>\n",
       "      <th>x</th>\n",
       "      <th>y</th>\n",
       "      <th>z</th>\n",
       "      <th>Month</th>\n",
       "      <th>Day</th>\n",
       "      <th>target</th>\n",
       "    </tr>\n",
       "  </thead>\n",
       "  <tbody>\n",
       "    <tr>\n",
       "      <th>395791</th>\n",
       "      <td>2018</td>\n",
       "      <td>-0.856739</td>\n",
       "      <td>-0.856739</td>\n",
       "      <td>0.332573</td>\n",
       "      <td>7</td>\n",
       "      <td>16</td>\n",
       "      <td>1</td>\n",
       "    </tr>\n",
       "    <tr>\n",
       "      <th>374776</th>\n",
       "      <td>2017</td>\n",
       "      <td>-0.346238</td>\n",
       "      <td>-0.346238</td>\n",
       "      <td>-0.131253</td>\n",
       "      <td>12</td>\n",
       "      <td>18</td>\n",
       "      <td>1</td>\n",
       "    </tr>\n",
       "    <tr>\n",
       "      <th>321848</th>\n",
       "      <td>2014</td>\n",
       "      <td>-0.375956</td>\n",
       "      <td>-0.375956</td>\n",
       "      <td>-0.137963</td>\n",
       "      <td>2</td>\n",
       "      <td>13</td>\n",
       "      <td>1</td>\n",
       "    </tr>\n",
       "    <tr>\n",
       "      <th>23553</th>\n",
       "      <td>2001</td>\n",
       "      <td>0.763898</td>\n",
       "      <td>0.763898</td>\n",
       "      <td>0.611996</td>\n",
       "      <td>5</td>\n",
       "      <td>14</td>\n",
       "      <td>1</td>\n",
       "    </tr>\n",
       "    <tr>\n",
       "      <th>437381</th>\n",
       "      <td>2019</td>\n",
       "      <td>-0.873992</td>\n",
       "      <td>-0.873992</td>\n",
       "      <td>-0.088025</td>\n",
       "      <td>6</td>\n",
       "      <td>26</td>\n",
       "      <td>1</td>\n",
       "    </tr>\n",
       "  </tbody>\n",
       "</table>\n",
       "</div>"
      ],
      "text/plain": [
       "        Year         x         y         z  Month  Day  target\n",
       "395791  2018 -0.856739 -0.856739  0.332573      7   16       1\n",
       "374776  2017 -0.346238 -0.346238 -0.131253     12   18       1\n",
       "321848  2014 -0.375956 -0.375956 -0.137963      2   13       1\n",
       "23553   2001  0.763898  0.763898  0.611996      5   14       1\n",
       "437381  2019 -0.873992 -0.873992 -0.088025      6   26       1"
      ]
     },
     "execution_count": 33,
     "metadata": {},
     "output_type": "execute_result"
    }
   ],
   "source": [
    "minority.head()"
   ]
  },
  {
   "cell_type": "code",
   "execution_count": 34,
   "metadata": {},
   "outputs": [],
   "source": [
    "from sklearn.utils import resample"
   ]
  },
  {
   "cell_type": "code",
   "execution_count": 35,
   "metadata": {},
   "outputs": [],
   "source": [
    "# Upsample minority class\n",
    "min_upsamp = resample(minority, replace=True, n_samples=num_zero_targets, random_state=1) "
   ]
  },
  {
   "cell_type": "code",
   "execution_count": 36,
   "metadata": {},
   "outputs": [
    {
     "data": {
      "text/html": [
       "<div>\n",
       "<style scoped>\n",
       "    .dataframe tbody tr th:only-of-type {\n",
       "        vertical-align: middle;\n",
       "    }\n",
       "\n",
       "    .dataframe tbody tr th {\n",
       "        vertical-align: top;\n",
       "    }\n",
       "\n",
       "    .dataframe thead th {\n",
       "        text-align: right;\n",
       "    }\n",
       "</style>\n",
       "<table border=\"1\" class=\"dataframe\">\n",
       "  <thead>\n",
       "    <tr style=\"text-align: right;\">\n",
       "      <th></th>\n",
       "      <th>Year</th>\n",
       "      <th>x</th>\n",
       "      <th>y</th>\n",
       "      <th>z</th>\n",
       "      <th>Month</th>\n",
       "      <th>Day</th>\n",
       "      <th>target</th>\n",
       "    </tr>\n",
       "  </thead>\n",
       "  <tbody>\n",
       "    <tr>\n",
       "      <th>47451</th>\n",
       "      <td>2002</td>\n",
       "      <td>0.213780</td>\n",
       "      <td>0.213780</td>\n",
       "      <td>-0.001361</td>\n",
       "      <td>11</td>\n",
       "      <td>3</td>\n",
       "      <td>1</td>\n",
       "    </tr>\n",
       "    <tr>\n",
       "      <th>137882</th>\n",
       "      <td>2006</td>\n",
       "      <td>-0.546067</td>\n",
       "      <td>-0.546067</td>\n",
       "      <td>0.221038</td>\n",
       "      <td>6</td>\n",
       "      <td>7</td>\n",
       "      <td>1</td>\n",
       "    </tr>\n",
       "    <tr>\n",
       "      <th>395626</th>\n",
       "      <td>2018</td>\n",
       "      <td>-0.856739</td>\n",
       "      <td>-0.856739</td>\n",
       "      <td>0.332573</td>\n",
       "      <td>2</td>\n",
       "      <td>1</td>\n",
       "      <td>1</td>\n",
       "    </tr>\n",
       "    <tr>\n",
       "      <th>247338</th>\n",
       "      <td>2011</td>\n",
       "      <td>-0.546067</td>\n",
       "      <td>-0.546067</td>\n",
       "      <td>0.221038</td>\n",
       "      <td>2</td>\n",
       "      <td>23</td>\n",
       "      <td>1</td>\n",
       "    </tr>\n",
       "    <tr>\n",
       "      <th>390666</th>\n",
       "      <td>2017</td>\n",
       "      <td>-0.338021</td>\n",
       "      <td>-0.338021</td>\n",
       "      <td>-0.125333</td>\n",
       "      <td>7</td>\n",
       "      <td>1</td>\n",
       "      <td>1</td>\n",
       "    </tr>\n",
       "  </tbody>\n",
       "</table>\n",
       "</div>"
      ],
      "text/plain": [
       "        Year         x         y         z  Month  Day  target\n",
       "47451   2002  0.213780  0.213780 -0.001361     11    3       1\n",
       "137882  2006 -0.546067 -0.546067  0.221038      6    7       1\n",
       "395626  2018 -0.856739 -0.856739  0.332573      2    1       1\n",
       "247338  2011 -0.546067 -0.546067  0.221038      2   23       1\n",
       "390666  2017 -0.338021 -0.338021 -0.125333      7    1       1"
      ]
     },
     "execution_count": 36,
     "metadata": {},
     "output_type": "execute_result"
    }
   ],
   "source": [
    "min_upsamp.head()"
   ]
  },
  {
   "cell_type": "code",
   "execution_count": 37,
   "metadata": {},
   "outputs": [
    {
     "data": {
      "text/plain": [
       "(345118, 7)"
      ]
     },
     "execution_count": 37,
     "metadata": {},
     "output_type": "execute_result"
    }
   ],
   "source": [
    "min_upsamp.shape"
   ]
  },
  {
   "cell_type": "code",
   "execution_count": 38,
   "metadata": {},
   "outputs": [],
   "source": [
    "upsampled_data = pd.concat([majority, min_upsamp])"
   ]
  },
  {
   "cell_type": "code",
   "execution_count": 39,
   "metadata": {
    "scrolled": true
   },
   "outputs": [
    {
     "data": {
      "text/plain": [
       "(690236, 7)"
      ]
     },
     "execution_count": 39,
     "metadata": {},
     "output_type": "execute_result"
    }
   ],
   "source": [
    "upsampled_data.shape"
   ]
  },
  {
   "cell_type": "code",
   "execution_count": 40,
   "metadata": {},
   "outputs": [],
   "source": [
    "upsampled_data = upsampled_data.sample(frac=1).reset_index(drop=True) # to shuffle the dataframe"
   ]
  },
  {
   "cell_type": "code",
   "execution_count": 41,
   "metadata": {},
   "outputs": [
    {
     "data": {
      "text/html": [
       "<div>\n",
       "<style scoped>\n",
       "    .dataframe tbody tr th:only-of-type {\n",
       "        vertical-align: middle;\n",
       "    }\n",
       "\n",
       "    .dataframe tbody tr th {\n",
       "        vertical-align: top;\n",
       "    }\n",
       "\n",
       "    .dataframe thead th {\n",
       "        text-align: right;\n",
       "    }\n",
       "</style>\n",
       "<table border=\"1\" class=\"dataframe\">\n",
       "  <thead>\n",
       "    <tr style=\"text-align: right;\">\n",
       "      <th></th>\n",
       "      <th>Year</th>\n",
       "      <th>x</th>\n",
       "      <th>y</th>\n",
       "      <th>z</th>\n",
       "      <th>Month</th>\n",
       "      <th>Day</th>\n",
       "      <th>target</th>\n",
       "    </tr>\n",
       "  </thead>\n",
       "  <tbody>\n",
       "    <tr>\n",
       "      <th>0</th>\n",
       "      <td>2008</td>\n",
       "      <td>0.733764</td>\n",
       "      <td>0.733764</td>\n",
       "      <td>0.653777</td>\n",
       "      <td>10</td>\n",
       "      <td>5</td>\n",
       "      <td>0</td>\n",
       "    </tr>\n",
       "    <tr>\n",
       "      <th>1</th>\n",
       "      <td>2011</td>\n",
       "      <td>0.419841</td>\n",
       "      <td>0.419841</td>\n",
       "      <td>0.895944</td>\n",
       "      <td>6</td>\n",
       "      <td>27</td>\n",
       "      <td>0</td>\n",
       "    </tr>\n",
       "    <tr>\n",
       "      <th>2</th>\n",
       "      <td>2009</td>\n",
       "      <td>-0.010161</td>\n",
       "      <td>-0.010161</td>\n",
       "      <td>0.248369</td>\n",
       "      <td>5</td>\n",
       "      <td>1</td>\n",
       "      <td>0</td>\n",
       "    </tr>\n",
       "    <tr>\n",
       "      <th>3</th>\n",
       "      <td>2006</td>\n",
       "      <td>-0.539846</td>\n",
       "      <td>-0.539846</td>\n",
       "      <td>0.229319</td>\n",
       "      <td>11</td>\n",
       "      <td>30</td>\n",
       "      <td>1</td>\n",
       "    </tr>\n",
       "    <tr>\n",
       "      <th>4</th>\n",
       "      <td>2007</td>\n",
       "      <td>-0.406538</td>\n",
       "      <td>-0.406538</td>\n",
       "      <td>-0.140175</td>\n",
       "      <td>5</td>\n",
       "      <td>13</td>\n",
       "      <td>0</td>\n",
       "    </tr>\n",
       "  </tbody>\n",
       "</table>\n",
       "</div>"
      ],
      "text/plain": [
       "   Year         x         y         z  Month  Day  target\n",
       "0  2008  0.733764  0.733764  0.653777     10    5       0\n",
       "1  2011  0.419841  0.419841  0.895944      6   27       0\n",
       "2  2009 -0.010161 -0.010161  0.248369      5    1       0\n",
       "3  2006 -0.539846 -0.539846  0.229319     11   30       1\n",
       "4  2007 -0.406538 -0.406538 -0.140175      5   13       0"
      ]
     },
     "execution_count": 41,
     "metadata": {},
     "output_type": "execute_result"
    }
   ],
   "source": [
    "upsampled_data.head()"
   ]
  },
  {
   "cell_type": "code",
   "execution_count": 42,
   "metadata": {},
   "outputs": [],
   "source": [
    "# There's 6 features now\n",
    "x_train = upsampled_data.iloc[:, 0:6]\n",
    "y_train = upsampled_data.iloc[:, 6]"
   ]
  },
  {
   "cell_type": "code",
   "execution_count": 43,
   "metadata": {},
   "outputs": [],
   "source": [
    "from sklearn.preprocessing import StandardScaler\n",
    "sc = StandardScaler()\n",
    "scaled_x_train = sc.fit_transform(x_train)\n",
    "scaled_x_test =  sc.transform(x_test)"
   ]
  },
  {
   "cell_type": "markdown",
   "metadata": {},
   "source": [
    "### Using Naive Bayes"
   ]
  },
  {
   "cell_type": "code",
   "execution_count": 45,
   "metadata": {},
   "outputs": [
    {
     "data": {
      "text/plain": [
       "GaussianNB(priors=None, var_smoothing=1e-09)"
      ]
     },
     "execution_count": 45,
     "metadata": {},
     "output_type": "execute_result"
    }
   ],
   "source": [
    "from sklearn.naive_bayes import GaussianNB\n",
    "classifier= GaussianNB()\n",
    "classifier.fit(scaled_x_train, y_train)"
   ]
  },
  {
   "cell_type": "code",
   "execution_count": 46,
   "metadata": {},
   "outputs": [],
   "source": [
    "y_pred = classifier.predict(scaled_x_test)"
   ]
  },
  {
   "cell_type": "code",
   "execution_count": 47,
   "metadata": {},
   "outputs": [],
   "source": [
    "from sklearn.metrics import confusion_matrix, classification_report\n",
    "cm = confusion_matrix(y_test, y_pred)"
   ]
  },
  {
   "cell_type": "code",
   "execution_count": 48,
   "metadata": {},
   "outputs": [
    {
     "data": {
      "text/plain": [
       "array([[63508, 51525],\n",
       "       [   16,    16]], dtype=int64)"
      ]
     },
     "execution_count": 48,
     "metadata": {},
     "output_type": "execute_result"
    }
   ],
   "source": [
    "cm"
   ]
  },
  {
   "cell_type": "code",
   "execution_count": 49,
   "metadata": {
    "scrolled": true
   },
   "outputs": [
    {
     "name": "stdout",
     "output_type": "stream",
     "text": [
      "0.5520705688089341\n"
     ]
    }
   ],
   "source": [
    "print(accuracy_score(y_pred, y_test))"
   ]
  },
  {
   "cell_type": "code",
   "execution_count": 50,
   "metadata": {},
   "outputs": [
    {
     "data": {
      "text/plain": [
       "(115065,)"
      ]
     },
     "execution_count": 50,
     "metadata": {},
     "output_type": "execute_result"
    }
   ],
   "source": [
    "y_pred.shape"
   ]
  },
  {
   "cell_type": "code",
   "execution_count": 51,
   "metadata": {},
   "outputs": [
    {
     "data": {
      "text/plain": [
       "(115065,)"
      ]
     },
     "execution_count": 51,
     "metadata": {},
     "output_type": "execute_result"
    }
   ],
   "source": [
    "y_test.shape"
   ]
  },
  {
   "cell_type": "code",
   "execution_count": 52,
   "metadata": {},
   "outputs": [
    {
     "data": {
      "text/plain": [
       "32"
      ]
     },
     "execution_count": 52,
     "metadata": {},
     "output_type": "execute_result"
    }
   ],
   "source": [
    "y_test.sum()"
   ]
  },
  {
   "cell_type": "code",
   "execution_count": 53,
   "metadata": {},
   "outputs": [
    {
     "data": {
      "text/plain": [
       "51541"
      ]
     },
     "execution_count": 53,
     "metadata": {},
     "output_type": "execute_result"
    }
   ],
   "source": [
    "y_pred.sum()"
   ]
  },
  {
   "cell_type": "code",
   "execution_count": 54,
   "metadata": {},
   "outputs": [
    {
     "name": "stdout",
     "output_type": "stream",
     "text": [
      "              precision    recall  f1-score   support\n",
      "\n",
      "           0       1.00      0.55      0.71    115033\n",
      "           1       0.00      0.50      0.00        32\n",
      "\n",
      "    accuracy                           0.55    115065\n",
      "   macro avg       0.50      0.53      0.36    115065\n",
      "weighted avg       1.00      0.55      0.71    115065\n",
      "\n"
     ]
    }
   ],
   "source": [
    "check = classification_report(y_test, y_pred)\n",
    "print(check)"
   ]
  },
  {
   "cell_type": "code",
   "execution_count": 55,
   "metadata": {},
   "outputs": [],
   "source": [
    "from sklearn.metrics import roc_auc_score"
   ]
  },
  {
   "cell_type": "code",
   "execution_count": 56,
   "metadata": {},
   "outputs": [],
   "source": [
    "# Predict class probabilities\n",
    "y_pred_2 = classifier.predict_proba(x_test)\n",
    " \n",
    "# Keep only the positive class\n",
    "y_pred_2 = [y[1] for y in y_pred_2]"
   ]
  },
  {
   "cell_type": "code",
   "execution_count": 57,
   "metadata": {},
   "outputs": [
    {
     "name": "stdout",
     "output_type": "stream",
     "text": [
      "0.5\n"
     ]
    }
   ],
   "source": [
    "print(roc_auc_score(y_test, y_pred_2))"
   ]
  },
  {
   "cell_type": "markdown",
   "metadata": {},
   "source": [
    "### Using Random Forest"
   ]
  },
  {
   "cell_type": "code",
   "execution_count": 58,
   "metadata": {},
   "outputs": [
    {
     "data": {
      "text/plain": [
       "RandomForestClassifier(bootstrap=True, ccp_alpha=0.0, class_weight=None,\n",
       "                       criterion='entropy', max_depth=None, max_features='auto',\n",
       "                       max_leaf_nodes=None, max_samples=None,\n",
       "                       min_impurity_decrease=0.0, min_impurity_split=None,\n",
       "                       min_samples_leaf=1, min_samples_split=2,\n",
       "                       min_weight_fraction_leaf=0.0, n_estimators=10,\n",
       "                       n_jobs=None, oob_score=False, random_state=0, verbose=0,\n",
       "                       warm_start=False)"
      ]
     },
     "execution_count": 58,
     "metadata": {},
     "output_type": "execute_result"
    }
   ],
   "source": [
    "from sklearn.ensemble import RandomForestClassifier\n",
    "classifier1 = RandomForestClassifier(n_estimators=10, criterion='entropy' , random_state=0)\n",
    "classifier1.fit(scaled_x_train, y_train)"
   ]
  },
  {
   "cell_type": "code",
   "execution_count": 59,
   "metadata": {},
   "outputs": [],
   "source": [
    "y_pred1 = classifier1.predict(scaled_x_test)"
   ]
  },
  {
   "cell_type": "code",
   "execution_count": 60,
   "metadata": {},
   "outputs": [],
   "source": [
    "cm2 = confusion_matrix(y_test, y_pred1)"
   ]
  },
  {
   "cell_type": "code",
   "execution_count": 61,
   "metadata": {
    "scrolled": true
   },
   "outputs": [
    {
     "data": {
      "text/plain": [
       "array([[115029,      4],\n",
       "       [    32,      0]], dtype=int64)"
      ]
     },
     "execution_count": 61,
     "metadata": {},
     "output_type": "execute_result"
    }
   ],
   "source": [
    "cm2"
   ]
  },
  {
   "cell_type": "code",
   "execution_count": 62,
   "metadata": {},
   "outputs": [
    {
     "name": "stdout",
     "output_type": "stream",
     "text": [
      "0.9996871333594055\n"
     ]
    }
   ],
   "source": [
    "print(accuracy_score(y_pred1, y_test))"
   ]
  },
  {
   "cell_type": "code",
   "execution_count": 63,
   "metadata": {},
   "outputs": [
    {
     "data": {
      "text/plain": [
       "4"
      ]
     },
     "execution_count": 63,
     "metadata": {},
     "output_type": "execute_result"
    }
   ],
   "source": [
    "y_pred1.sum()"
   ]
  },
  {
   "cell_type": "code",
   "execution_count": 64,
   "metadata": {},
   "outputs": [
    {
     "data": {
      "text/plain": [
       "32"
      ]
     },
     "execution_count": 64,
     "metadata": {},
     "output_type": "execute_result"
    }
   ],
   "source": [
    "y_test.sum()"
   ]
  },
  {
   "cell_type": "code",
   "execution_count": 66,
   "metadata": {},
   "outputs": [
    {
     "data": {
      "text/plain": [
       "[Year     2018.000000\n",
       " x          -0.792180\n",
       " y          -0.792180\n",
       " z          -0.609038\n",
       " Month      12.000000\n",
       " Day         9.000000\n",
       " Name: 416012, dtype: float64,\n",
       " Year     2017.000000\n",
       " x           0.733764\n",
       " y           0.733764\n",
       " z           0.653777\n",
       " Month      10.000000\n",
       " Day        12.000000\n",
       " Name: 391134, dtype: float64,\n",
       " Year     2018.000000\n",
       " x          -0.856739\n",
       " y          -0.856739\n",
       " z           0.332573\n",
       " Month       3.000000\n",
       " Day         1.000000\n",
       " Name: 395654, dtype: float64,\n",
       " Year     2011.000000\n",
       " x          -0.606276\n",
       " y          -0.606276\n",
       " z           0.013962\n",
       " Month      12.000000\n",
       " Day        28.000000\n",
       " Name: 254216, dtype: float64]"
      ]
     },
     "execution_count": 66,
     "metadata": {},
     "output_type": "execute_result"
    }
   ],
   "source": [
    "t = []\n",
    "for i in range(len(y_pred1)):\n",
    "    if y_pred1[i] == 1:\n",
    "        t.append(x_test.iloc[i])\n",
    "t # Dates and places that the model predicted disasters will happen"
   ]
  },
  {
   "cell_type": "code",
   "execution_count": 67,
   "metadata": {},
   "outputs": [
    {
     "data": {
      "text/plain": [
       "[Year     2017.000000\n",
       " x          -0.145722\n",
       " y          -0.145722\n",
       " z           0.055299\n",
       " Month       4.000000\n",
       " Day        13.000000\n",
       " Name: 383287, dtype: float64,\n",
       " Year     2019.000000\n",
       " x          -0.145722\n",
       " y          -0.145722\n",
       " z           0.055299\n",
       " Month       5.000000\n",
       " Day         7.000000\n",
       " Name: 427111, dtype: float64,\n",
       " Year     2000.000000\n",
       " x          -0.385553\n",
       " y          -0.385553\n",
       " z          -0.141039\n",
       " Month       7.000000\n",
       " Day        27.000000\n",
       " Name: 574, dtype: float64,\n",
       " Year     2013.000000\n",
       " x          -0.555191\n",
       " y          -0.555191\n",
       " z           0.523689\n",
       " Month       9.000000\n",
       " Day         4.000000\n",
       " Name: 299421, dtype: float64,\n",
       " Year     2018.000000\n",
       " x          -0.601583\n",
       " y          -0.601583\n",
       " z           0.596505\n",
       " Month       1.000000\n",
       " Day        23.000000\n",
       " Name: 413867, dtype: float64,\n",
       " Year     2013.000000\n",
       " x          -0.346238\n",
       " y          -0.346238\n",
       " z          -0.131253\n",
       " Month       2.000000\n",
       " Day        12.000000\n",
       " Name: 286807, dtype: float64,\n",
       " Year     2001.000000\n",
       " x           0.752144\n",
       " y           0.752144\n",
       " z           0.626454\n",
       " Month      10.000000\n",
       " Day        20.000000\n",
       " Name: 24442, dtype: float64,\n",
       " Year     2015.000000\n",
       " x          -0.817664\n",
       " y          -0.817664\n",
       " z          -0.071497\n",
       " Month       7.000000\n",
       " Day        31.000000\n",
       " Name: 333696, dtype: float64,\n",
       " Year     2011.000000\n",
       " x           0.233188\n",
       " y           0.233188\n",
       " z          -0.650642\n",
       " Month       6.000000\n",
       " Day         4.000000\n",
       " Name: 252549, dtype: float64,\n",
       " Year     2018.000000\n",
       " x          -0.942429\n",
       " y          -0.942429\n",
       " z          -0.265556\n",
       " Month       3.000000\n",
       " Day        30.000000\n",
       " Name: 413203, dtype: float64,\n",
       " Year     2010.000000\n",
       " x          -0.346238\n",
       " y          -0.346238\n",
       " z          -0.131253\n",
       " Month      10.000000\n",
       " Day        26.000000\n",
       " Name: 221303, dtype: float64,\n",
       " Year     2009.000000\n",
       " x          -0.856739\n",
       " y          -0.856739\n",
       " z           0.332573\n",
       " Month      11.000000\n",
       " Day        30.000000\n",
       " Name: 198708, dtype: float64,\n",
       " Year     2016.000000\n",
       " x          -0.440925\n",
       " y          -0.440925\n",
       " z          -0.146428\n",
       " Month       9.000000\n",
       " Day        27.000000\n",
       " Name: 367746, dtype: float64,\n",
       " Year     2001.000000\n",
       " x          -0.346238\n",
       " y          -0.346238\n",
       " z          -0.131253\n",
       " Month       8.000000\n",
       " Day         5.000000\n",
       " Name: 24001, dtype: float64,\n",
       " Year     2013.000000\n",
       " x           0.313930\n",
       " y           0.313930\n",
       " z          -0.281588\n",
       " Month       9.000000\n",
       " Day         1.000000\n",
       " Name: 299053, dtype: float64,\n",
       " Year     2017.000000\n",
       " x          -0.014871\n",
       " y          -0.014871\n",
       " z           0.249924\n",
       " Month       6.000000\n",
       " Day         6.000000\n",
       " Name: 390276, dtype: float64,\n",
       " Year     2019.000000\n",
       " x          -0.817664\n",
       " y          -0.817664\n",
       " z          -0.071497\n",
       " Month       6.000000\n",
       " Day        28.000000\n",
       " Name: 421323, dtype: float64,\n",
       " Year     2015.000000\n",
       " x           0.224394\n",
       " y           0.224394\n",
       " z          -0.660343\n",
       " Month       4.000000\n",
       " Day        22.000000\n",
       " Name: 344911, dtype: float64,\n",
       " Year     2018.000000\n",
       " x          -0.813703\n",
       " y          -0.813703\n",
       " z          -0.063139\n",
       " Month       1.000000\n",
       " Day         5.000000\n",
       " Name: 413484, dtype: float64,\n",
       " Year     2007.000000\n",
       " x           0.718313\n",
       " y           0.718313\n",
       " z           0.270600\n",
       " Month       9.000000\n",
       " Day        30.000000\n",
       " Name: 161722, dtype: float64,\n",
       " Year     2004.000000\n",
       " x          -0.817664\n",
       " y          -0.817664\n",
       " z          -0.071497\n",
       " Month      10.000000\n",
       " Day        24.000000\n",
       " Name: 92715, dtype: float64,\n",
       " Year     2009.000000\n",
       " x          -0.438043\n",
       " y          -0.438043\n",
       " z           0.870184\n",
       " Month       3.000000\n",
       " Day        23.000000\n",
       " Name: 206486, dtype: float64,\n",
       " Year     2013.000000\n",
       " x          -0.520059\n",
       " y          -0.520059\n",
       " z          -0.144702\n",
       " Month       8.000000\n",
       " Day        10.000000\n",
       " Name: 298666, dtype: float64,\n",
       " Year     2008.000000\n",
       " x           0.218736\n",
       " y           0.218736\n",
       " z          -0.679864\n",
       " Month       5.000000\n",
       " Day         2.000000\n",
       " Name: 183860, dtype: float64,\n",
       " Year     2018.000000\n",
       " x          -0.813703\n",
       " y          -0.813703\n",
       " z          -0.063139\n",
       " Month       2.000000\n",
       " Day         9.000000\n",
       " Name: 413519, dtype: float64,\n",
       " Year     2011.000000\n",
       " x          -0.555339\n",
       " y          -0.555339\n",
       " z           0.528883\n",
       " Month       1.000000\n",
       " Day        28.000000\n",
       " Name: 252057, dtype: float64,\n",
       " Year     2017.000000\n",
       " x          -0.942429\n",
       " y          -0.942429\n",
       " z          -0.265556\n",
       " Month       9.000000\n",
       " Day        23.000000\n",
       " Name: 391480, dtype: float64,\n",
       " Year     2005.000000\n",
       " x           0.006270\n",
       " y           0.006270\n",
       " z           0.239432\n",
       " Month      10.000000\n",
       " Day         1.000000\n",
       " Name: 115003, dtype: float64,\n",
       " Year     2012.000000\n",
       " x          -0.856739\n",
       " y          -0.856739\n",
       " z           0.332573\n",
       " Month       2.000000\n",
       " Day        10.000000\n",
       " Name: 264118, dtype: float64,\n",
       " Year     2004.000000\n",
       " x          -0.386188\n",
       " y          -0.386188\n",
       " z          -0.138171\n",
       " Month       6.000000\n",
       " Day         8.000000\n",
       " Name: 92211, dtype: float64,\n",
       " Year     2000.000000\n",
       " x          -0.856739\n",
       " y          -0.856739\n",
       " z           0.332573\n",
       " Month      11.000000\n",
       " Day         3.000000\n",
       " Name: 1405, dtype: float64,\n",
       " Year     2016.000000\n",
       " x          -0.252069\n",
       " y          -0.252069\n",
       " z           0.700037\n",
       " Month       6.000000\n",
       " Day         9.000000\n",
       " Name: 367270, dtype: float64]"
      ]
     },
     "execution_count": 67,
     "metadata": {},
     "output_type": "execute_result"
    }
   ],
   "source": [
    "v = []\n",
    "p = y_test.to_list()\n",
    "for i in range(len(p)):\n",
    "    if p[i] == 1:\n",
    "        v.append(x_test.iloc[i])\n",
    "v # Dates and places that disasters actually happened. Not much of a difference"
   ]
  },
  {
   "cell_type": "code",
   "execution_count": 68,
   "metadata": {},
   "outputs": [
    {
     "data": {
      "text/plain": [
       "345118"
      ]
     },
     "execution_count": 68,
     "metadata": {},
     "output_type": "execute_result"
    }
   ],
   "source": [
    "y_train.sum()"
   ]
  },
  {
   "cell_type": "code",
   "execution_count": 69,
   "metadata": {},
   "outputs": [],
   "source": [
    "# Predict class probabilities\n",
    "y_pred_3 = classifier1.predict_proba(x_test)\n",
    " \n",
    "# Keep only the positive class\n",
    "y_pred_3 = [y[1] for y in y_pred_3]"
   ]
  },
  {
   "cell_type": "code",
   "execution_count": 71,
   "metadata": {},
   "outputs": [
    {
     "name": "stdout",
     "output_type": "stream",
     "text": [
      "0.5\n"
     ]
    }
   ],
   "source": [
    "print(roc_auc_score(y_test, y_pred_3))"
   ]
  },
  {
   "cell_type": "code",
   "execution_count": 45,
   "metadata": {},
   "outputs": [],
   "source": [
    "# Looks good, but knowing tree based algorithms it probably overfitted."
   ]
  },
  {
   "cell_type": "code",
   "execution_count": 46,
   "metadata": {},
   "outputs": [],
   "source": [
    "#https://elitedatascience.com/imbalanced-classes"
   ]
  }
 ],
 "metadata": {
  "kernelspec": {
   "display_name": "Python 3",
   "language": "python",
   "name": "python3"
  },
  "language_info": {
   "codemirror_mode": {
    "name": "ipython",
    "version": 3
   },
   "file_extension": ".py",
   "mimetype": "text/x-python",
   "name": "python",
   "nbconvert_exporter": "python",
   "pygments_lexer": "ipython3",
   "version": "3.7.6"
  }
 },
 "nbformat": 4,
 "nbformat_minor": 4
}
