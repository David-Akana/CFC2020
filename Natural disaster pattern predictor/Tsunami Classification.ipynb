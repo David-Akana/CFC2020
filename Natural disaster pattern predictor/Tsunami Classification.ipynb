{
 "cells": [
  {
   "cell_type": "code",
   "execution_count": null,
   "metadata": {},
   "outputs": [],
   "source": [
    "import pandas as pd\n",
    "import numpy as np\n",
    "import matplotlib.pyplot as plt\n",
    "import seaborn as sns"
   ]
  },
  {
   "cell_type": "markdown",
   "metadata": {},
   "source": [
    "### PREPROCESSING"
   ]
  },
  {
   "cell_type": "code",
   "execution_count": null,
   "metadata": {},
   "outputs": [],
   "source": [
    "# The preprocessing function accepts a pandas dataframe with the \"Year\", \"Month\" and \"Day\" features for when a natural disaster\n",
    "# occured as well as the \"Longitude\" and \"latitude\" coordinates. The function returns a pandas dataframe with the mentioned \n",
    "# features but for all days within the starting and ending year of the original dataframe. It also has an added feature \n",
    "# \"target\" which is a 1 if a natural disaster occured on that day, and a 0 otherwise.\n",
    "\n",
    "def preprocessing_dataframe(disaster_df):\n",
    "    preprocessed_dict = {'Year': [], 'Latitude':[], 'Longitude': [], 'Month': [], 'Day': [], 'target': []} # Starting with a dictionary to hold all values, but will later change to a pandas dataframe\n",
    "    # Creating a dictionary that stores the latitude and longitude values for each specific place in the dataframe\n",
    "    print('Preprocessing ... ')\n",
    "    print(' ')\n",
    "    place_coords = {}\n",
    "    for place in disaster_df['Name'].unique():\n",
    "        lat = disaster_df[disaster_df['Name'] == place]['Latitude'].unique()[0]\n",
    "        lng = disaster_df[disaster_df['Name'] == place]['Longitude'].unique()[0]\n",
    "        place_coords[place] = (lat, lng)\n",
    "        \n",
    "    # All places with their respective coordinates are now stored in the \"place_coords\" dictionary\n",
    "    \n",
    "    year_start = disaster_df['Year'].unique().min() # Getting the earliest year in the dataframe\n",
    "    year_end = disaster_df['Year'].unique().max() # Getting the last year in the dataframe\n",
    "    \n",
    "    # Now, I'll iterate through all the years in order to assign the targets\n",
    "    for year in range(year_start, year_end+1):  \n",
    "        year_df = disaster_df[disaster_df['Year'] == year] # Dataframe for disasters happening in year \"year\" \n",
    "        \n",
    "        # I'll have to account for all the days of the months in the year, which are usually 30 and 31 except February\n",
    "        # Assigning the number of days for a specific year in the month of February is dependent on if the year is a leap year \n",
    "        # or not, where the number of days will be 29 or 28 respectively.\n",
    "        \n",
    "        month_days = [31, 28, 31, 30, 31, 30, 31, 31, 30, 31, 30, 31] # List containing number of days for each month of the year accordingly, i.e index 0 or January with 31 days. This is the list of days assuming it is not a leap year\n",
    "        if year%4 == 0:\n",
    "            if year%100 != 0:\n",
    "                month_days[1] = 29\n",
    "            else:\n",
    "                if year%400 == 0:\n",
    "                    month_days[1] = 29\n",
    "        \n",
    "        # Now, the \"month_days\" list's index \"1\" will remain 28 if it is not a leap year, and be changed to 29 if it is indeed\n",
    "        # a leap year\n",
    "        \n",
    "        # Would also need to iterate through all the places in the dataframe\n",
    "        for place in place_coords:\n",
    "            place_df = year_df[year_df['Name'] == place] # DataFrame for observations of only the place \"place\" \n",
    "            month_number = 1 # This is supposed to be January\n",
    "            \n",
    "            #Similar, iterating through all months...\n",
    "            for days in month_days:\n",
    "                month_df = place_df[place_df['Month'] == month_number] # DataFrame containing observations of only the month \"month\"\n",
    "                \n",
    "                # Iterating through all the days in the month...\n",
    "                for day in range(1, days+1):\n",
    "                    preprocessed_dict['Year'].append(year)\n",
    "                    preprocessed_dict['Latitude'].append(place_coords[place][0])\n",
    "                    preprocessed_dict['Longitude'].append(place_coords[place][1])\n",
    "                    preprocessed_dict['Month'].append(month_number)\n",
    "                    preprocessed_dict['Day'].append(day)\n",
    "                    # And finally, if the particular date is present in the dataframe, the target is set to 1, and 0 otherwise\n",
    "                    if place in year_df['Name'].unique() and month_number in place_df['Month'].unique() and day in month_df['Day'].unique():\n",
    "                        preprocessed_dict['target'].append(1)\n",
    "                    else:\n",
    "                        preprocessed_dict['target'].append(0)\n",
    "                month_number += 1\n",
    "                \n",
    "    preprocessed_df = pd.DataFrame(preprocessed_dict) # Transforming to a dataframe\n",
    "    \n",
    "    # Things to note: The function doesn't consider nan values, so if there is a nan value in any of the date features it will\n",
    "    # set the target to 0. Also, the preprocessed dataframe can be very large without care, so maybe sticking to 40, 50 years\n",
    "    # at most will be desirable. Also helps that for latter years, there's a lot less nan values. But could also edit it to\n",
    "    # perform a task if there is are nan values present.\n",
    "    print('Done!')\n",
    "    return preprocessed_df "
   ]
  },
  {
   "cell_type": "code",
   "execution_count": null,
   "metadata": {},
   "outputs": [],
   "source": [
    "tsu = pd.read_csv('data/txt/tsrunup.txt',delimiter = '\\t', quoting = 3, encoding='latin-1')"
   ]
  },
  {
   "cell_type": "code",
   "execution_count": null,
   "metadata": {},
   "outputs": [],
   "source": [
    "tsu.head()"
   ]
  },
  {
   "cell_type": "code",
   "execution_count": null,
   "metadata": {},
   "outputs": [],
   "source": [
    "tsu.isnull().sum()"
   ]
  },
  {
   "cell_type": "code",
   "execution_count": null,
   "metadata": {},
   "outputs": [],
   "source": [
    "tsu  = tsu[['DAY','MONTH','YEAR', 'LOCATION_NAME','COUNTRY','LATITUDE','LONGITUDE']]"
   ]
  },
  {
   "cell_type": "code",
   "execution_count": null,
   "metadata": {},
   "outputs": [],
   "source": [
    "tsu.head()"
   ]
  },
  {
   "cell_type": "code",
   "execution_count": null,
   "metadata": {},
   "outputs": [],
   "source": [
    "tsu_2000= tsu[tsu['YEAR'] >= 2000]\n",
    "tsu_2000.head()"
   ]
  },
  {
   "cell_type": "code",
   "execution_count": null,
   "metadata": {},
   "outputs": [],
   "source": [
    "tsu_2000.shape"
   ]
  },
  {
   "cell_type": "code",
   "execution_count": null,
   "metadata": {},
   "outputs": [],
   "source": [
    "tsu_2000.isnull().sum()"
   ]
  },
  {
   "cell_type": "code",
   "execution_count": null,
   "metadata": {},
   "outputs": [],
   "source": [
    "tsu_2000 = tsu_2000.dropna()"
   ]
  },
  {
   "cell_type": "code",
   "execution_count": null,
   "metadata": {},
   "outputs": [],
   "source": [
    "tsu_2000.duplicated().any()"
   ]
  },
  {
   "cell_type": "code",
   "execution_count": null,
   "metadata": {},
   "outputs": [],
   "source": [
    "tsu_2000.drop_duplicates(inplace=True)"
   ]
  },
  {
   "cell_type": "code",
   "execution_count": null,
   "metadata": {},
   "outputs": [],
   "source": [
    "tsu_2000.reset_index(drop=True, inplace=True)"
   ]
  },
  {
   "cell_type": "code",
   "execution_count": null,
   "metadata": {
    "scrolled": true
   },
   "outputs": [],
   "source": [
    "tsu_2000.shape"
   ]
  },
  {
   "cell_type": "code",
   "execution_count": null,
   "metadata": {},
   "outputs": [],
   "source": [
    "tsu_2000.rename(columns={'DAY':'Day',\n",
    "                          'MONTH':'Month',\n",
    "                          'YEAR':'Year',\n",
    "                        'LOCATION_NAME':'Name',\n",
    "                        'COUNTRY':'Country',\n",
    "                         'LATITUDE':'Latitude',\n",
    "                         'LONGITUDE':'Longitude'}, \n",
    "                 inplace=True)"
   ]
  },
  {
   "cell_type": "code",
   "execution_count": null,
   "metadata": {},
   "outputs": [],
   "source": [
    "tsu_2000.head()"
   ]
  },
  {
   "cell_type": "code",
   "execution_count": null,
   "metadata": {},
   "outputs": [],
   "source": [
    "preprocessed_tsu = preprocessing_dataframe(tsu_2000)"
   ]
  },
  {
   "cell_type": "code",
   "execution_count": null,
   "metadata": {},
   "outputs": [],
   "source": []
  }
 ],
 "metadata": {
  "kernelspec": {
   "display_name": "Python 3",
   "language": "python",
   "name": "python3"
  },
  "language_info": {
   "codemirror_mode": {
    "name": "ipython",
    "version": 3
   },
   "file_extension": ".py",
   "mimetype": "text/x-python",
   "name": "python",
   "nbconvert_exporter": "python",
   "pygments_lexer": "ipython3",
   "version": "3.7.6"
  }
 },
 "nbformat": 4,
 "nbformat_minor": 4
}
