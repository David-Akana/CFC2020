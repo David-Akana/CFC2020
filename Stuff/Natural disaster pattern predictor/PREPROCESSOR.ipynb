{
 "cells": [
  {
   "cell_type": "code",
   "execution_count": 1,
   "metadata": {},
   "outputs": [],
   "source": [
    "import pandas as pd\n",
    "import numpy as np\n",
    "import matplotlib.pyplot as plt\n",
    "import seaborn as sns"
   ]
  },
  {
   "cell_type": "markdown",
   "metadata": {},
   "source": [
    "## Preprocessing"
   ]
  },
  {
   "cell_type": "code",
   "execution_count": 2,
   "metadata": {},
   "outputs": [],
   "source": [
    "# The preprocessing function accepts a pandas dataframe with the \"Year\", \"Month\" and \"Day\" features for when a natural disaster\n",
    "# occured as well as the \"Longitude\" and \"latitude\" coordinates. The function returns a pandas dataframe with the mentioned \n",
    "# features but for all days within the starting and ending year of the original dataframe. It also has an added feature \n",
    "# \"target\" which is a 1 if a natural disaster occured on that day, and a 0 otherwise.\n",
    "\n",
    "def preprocessing_dataframe(disaster_df):\n",
    "    preprocessed_dict = {'Year': [], 'Latitude':[], 'Longitude': [], 'Month': [], 'Day': [], 'target': []} # Starting with a dictionary to hold all values, but will later change to a pandas dataframe\n",
    "    # Creating a dictionary that stores the latitude and longitude values for each specific place in the dataframe\n",
    "    \n",
    "    print('Preprocessing ... ')\n",
    "    print(' ')\n",
    "    \n",
    "    place_coords = {}\n",
    "    for place in disaster_df['Name'].unique():\n",
    "        lat = disaster_df[disaster_df['Name'] == place]['Latitude'].unique()[0]\n",
    "        lng = disaster_df[disaster_df['Name'] == place]['Longitude'].unique()[0]\n",
    "        place_coords[place] = (lat, lng)\n",
    "        \n",
    "    # All places with their respective coordinates are now stored in the \"place_coords\" dictionary\n",
    "    \n",
    "    year_start = disaster_df['Year'].unique().min() # Getting the earliest year in the dataframe\n",
    "    year_end = disaster_df['Year'].unique().max() # Getting the last year in the dataframe\n",
    "    \n",
    "    # Now, I'll iterate through all the years in order to assign the targets\n",
    "    for year in range(year_start, year_end+1):  \n",
    "        year_df = disaster_df[disaster_df['Year'] == year] # Dataframe for disasters happening in year \"year\" \n",
    "        \n",
    "        # I'll have to account for all the days of the months in the year, which are usually 30 and 31 except February\n",
    "        # Assigning the number of days for a specific year in the month of February is dependent on if the year is a leap year \n",
    "        # or not, where the number of days will be 29 or 28 respectively.\n",
    "        \n",
    "        month_days = [31, 28, 31, 30, 31, 30, 31, 31, 30, 31, 30, 31] # List containing number of days for each month of the year accordingly, i.e index 0 or January with 31 days. This is the list of days assuming it is not a leap year\n",
    "        if year%4 == 0:\n",
    "            if year%100 != 0:\n",
    "                month_days[1] = 29\n",
    "            else:\n",
    "                if year%400 == 0:\n",
    "                    month_days[1] = 29\n",
    "        \n",
    "        # Now, the \"month_days\" list's index \"1\" will remain 28 if it is not a leap year, and be changed to 29 if it is indeed\n",
    "        # a leap year\n",
    "        \n",
    "        # Would also need to iterate through all the places in the dataframe\n",
    "        for place in place_coords:\n",
    "            place_df = year_df[year_df['Name'] == place] # DataFrame for observations of only the place \"place\" \n",
    "            month_number = 1 # This is supposed to be January\n",
    "            \n",
    "            #Similar, iterating through all months...\n",
    "            for days in month_days:\n",
    "                month_df = place_df[place_df['Month'] == month_number] # DataFrame containing observations of only the month \"month\"\n",
    "                \n",
    "                # Iterating through all the days in the month...\n",
    "                for day in range(1, days+1):\n",
    "                    preprocessed_dict['Year'].append(year)\n",
    "                    preprocessed_dict['Latitude'].append(place_coords[place][0])\n",
    "                    preprocessed_dict['Longitude'].append(place_coords[place][1])\n",
    "                    preprocessed_dict['Month'].append(month_number)\n",
    "                    preprocessed_dict['Day'].append(day)\n",
    "                    # And finally, if the particular date is present in the dataframe, the target is set to 1, and 0 otherwise\n",
    "                    if place in year_df['Name'].unique() and month_number in place_df['Month'].unique() and day in month_df['Day'].unique():\n",
    "                        preprocessed_dict['target'].append(1)\n",
    "                    else:\n",
    "                        preprocessed_dict['target'].append(0)\n",
    "                month_number += 1\n",
    "                \n",
    "    preprocessed_df = pd.DataFrame(preprocessed_dict) # Transforming to a dataframe\n",
    "    \n",
    "    # Things to note: The function doesn't consider nan values, so if there is a nan value in any of the date features it will\n",
    "    # set the target to 0. Also, the preprocessed dataframe can be very large without care, so maybe sticking to 40, 50 years\n",
    "    # at most will be desirable. Also helps that for latter years, there's a lot less nan values. But could also edit it to\n",
    "    # perform a task if there is are nan values present.\n",
    "    print('Done!')\n",
    "    return preprocessed_df "
   ]
  },
  {
   "cell_type": "markdown",
   "metadata": {},
   "source": [
    "### Testing with Vocalnic eruption data"
   ]
  },
  {
   "cell_type": "code",
   "execution_count": 3,
   "metadata": {},
   "outputs": [],
   "source": [
    "volc = pd.read_csv('data/txt/volerup.txt',delimiter = '\\t', quoting = 3, encoding='latin-1')"
   ]
  },
  {
   "cell_type": "code",
   "execution_count": 4,
   "metadata": {
    "scrolled": true
   },
   "outputs": [
    {
     "data": {
      "text/html": [
       "<div>\n",
       "<style scoped>\n",
       "    .dataframe tbody tr th:only-of-type {\n",
       "        vertical-align: middle;\n",
       "    }\n",
       "\n",
       "    .dataframe tbody tr th {\n",
       "        vertical-align: top;\n",
       "    }\n",
       "\n",
       "    .dataframe thead th {\n",
       "        text-align: right;\n",
       "    }\n",
       "</style>\n",
       "<table border=\"1\" class=\"dataframe\">\n",
       "  <thead>\n",
       "    <tr style=\"text-align: right;\">\n",
       "      <th></th>\n",
       "      <th>Year</th>\n",
       "      <th>Month</th>\n",
       "      <th>Day</th>\n",
       "      <th>TSU</th>\n",
       "      <th>EQ</th>\n",
       "      <th>Name</th>\n",
       "      <th>Location</th>\n",
       "      <th>Country</th>\n",
       "      <th>Latitude</th>\n",
       "      <th>Longitude</th>\n",
       "      <th>...</th>\n",
       "      <th>TOTAL_DEATHS</th>\n",
       "      <th>TOTAL_DEATHS_DESCRIPTION</th>\n",
       "      <th>TOTAL_MISSING</th>\n",
       "      <th>TOTAL_MISSING_DESCRIPTION</th>\n",
       "      <th>TOTAL_INJURIES</th>\n",
       "      <th>TOTAL_INJURIES_DESCRIPTION</th>\n",
       "      <th>TOTAL_DAMAGE_MILLIONS_DOLLARS</th>\n",
       "      <th>TOTAL_DAMAGE_DESCRIPTION</th>\n",
       "      <th>TOTAL_HOUSES_DESTROYED</th>\n",
       "      <th>TOTAL_HOUSES_DESTROYED_DESCRIPTION</th>\n",
       "    </tr>\n",
       "  </thead>\n",
       "  <tbody>\n",
       "    <tr>\n",
       "      <th>0</th>\n",
       "      <td>-4360</td>\n",
       "      <td>NaN</td>\n",
       "      <td>NaN</td>\n",
       "      <td>NaN</td>\n",
       "      <td>NaN</td>\n",
       "      <td>Macauley Island</td>\n",
       "      <td>Kermadec Is</td>\n",
       "      <td>New Zealand</td>\n",
       "      <td>-30.200</td>\n",
       "      <td>-178.470</td>\n",
       "      <td>...</td>\n",
       "      <td>NaN</td>\n",
       "      <td>NaN</td>\n",
       "      <td>NaN</td>\n",
       "      <td>NaN</td>\n",
       "      <td>NaN</td>\n",
       "      <td>NaN</td>\n",
       "      <td>NaN</td>\n",
       "      <td>NaN</td>\n",
       "      <td>NaN</td>\n",
       "      <td>NaN</td>\n",
       "    </tr>\n",
       "    <tr>\n",
       "      <th>1</th>\n",
       "      <td>-4350</td>\n",
       "      <td>NaN</td>\n",
       "      <td>NaN</td>\n",
       "      <td>NaN</td>\n",
       "      <td>NaN</td>\n",
       "      <td>Kikai</td>\n",
       "      <td>Ryukyu Is</td>\n",
       "      <td>Japan</td>\n",
       "      <td>30.780</td>\n",
       "      <td>130.280</td>\n",
       "      <td>...</td>\n",
       "      <td>NaN</td>\n",
       "      <td>3.0</td>\n",
       "      <td>NaN</td>\n",
       "      <td>NaN</td>\n",
       "      <td>NaN</td>\n",
       "      <td>NaN</td>\n",
       "      <td>NaN</td>\n",
       "      <td>3.0</td>\n",
       "      <td>NaN</td>\n",
       "      <td>3.0</td>\n",
       "    </tr>\n",
       "    <tr>\n",
       "      <th>2</th>\n",
       "      <td>-4050</td>\n",
       "      <td>NaN</td>\n",
       "      <td>NaN</td>\n",
       "      <td>NaN</td>\n",
       "      <td>NaN</td>\n",
       "      <td>Masaya</td>\n",
       "      <td>Nicaragua</td>\n",
       "      <td>Nicaragua</td>\n",
       "      <td>11.984</td>\n",
       "      <td>-86.161</td>\n",
       "      <td>...</td>\n",
       "      <td>NaN</td>\n",
       "      <td>NaN</td>\n",
       "      <td>NaN</td>\n",
       "      <td>NaN</td>\n",
       "      <td>NaN</td>\n",
       "      <td>NaN</td>\n",
       "      <td>NaN</td>\n",
       "      <td>NaN</td>\n",
       "      <td>NaN</td>\n",
       "      <td>NaN</td>\n",
       "    </tr>\n",
       "    <tr>\n",
       "      <th>3</th>\n",
       "      <td>-4000</td>\n",
       "      <td>NaN</td>\n",
       "      <td>NaN</td>\n",
       "      <td>NaN</td>\n",
       "      <td>NaN</td>\n",
       "      <td>Pago</td>\n",
       "      <td>New Britain-SW Pac</td>\n",
       "      <td>Papua New Guinea</td>\n",
       "      <td>-5.580</td>\n",
       "      <td>150.520</td>\n",
       "      <td>...</td>\n",
       "      <td>NaN</td>\n",
       "      <td>1.0</td>\n",
       "      <td>NaN</td>\n",
       "      <td>NaN</td>\n",
       "      <td>NaN</td>\n",
       "      <td>NaN</td>\n",
       "      <td>NaN</td>\n",
       "      <td>1.0</td>\n",
       "      <td>NaN</td>\n",
       "      <td>NaN</td>\n",
       "    </tr>\n",
       "    <tr>\n",
       "      <th>4</th>\n",
       "      <td>-3580</td>\n",
       "      <td>NaN</td>\n",
       "      <td>NaN</td>\n",
       "      <td>NaN</td>\n",
       "      <td>NaN</td>\n",
       "      <td>Taal</td>\n",
       "      <td>Luzon-Philippines</td>\n",
       "      <td>Philippines</td>\n",
       "      <td>14.002</td>\n",
       "      <td>120.993</td>\n",
       "      <td>...</td>\n",
       "      <td>NaN</td>\n",
       "      <td>NaN</td>\n",
       "      <td>NaN</td>\n",
       "      <td>NaN</td>\n",
       "      <td>NaN</td>\n",
       "      <td>NaN</td>\n",
       "      <td>NaN</td>\n",
       "      <td>NaN</td>\n",
       "      <td>NaN</td>\n",
       "      <td>NaN</td>\n",
       "    </tr>\n",
       "  </tbody>\n",
       "</table>\n",
       "<p>5 rows × 36 columns</p>\n",
       "</div>"
      ],
      "text/plain": [
       "   Year  Month  Day  TSU   EQ             Name            Location  \\\n",
       "0 -4360    NaN  NaN  NaN  NaN  Macauley Island         Kermadec Is   \n",
       "1 -4350    NaN  NaN  NaN  NaN            Kikai           Ryukyu Is   \n",
       "2 -4050    NaN  NaN  NaN  NaN           Masaya           Nicaragua   \n",
       "3 -4000    NaN  NaN  NaN  NaN             Pago  New Britain-SW Pac   \n",
       "4 -3580    NaN  NaN  NaN  NaN             Taal   Luzon-Philippines   \n",
       "\n",
       "            Country  Latitude  Longitude  ...  TOTAL_DEATHS  \\\n",
       "0       New Zealand   -30.200   -178.470  ...           NaN   \n",
       "1             Japan    30.780    130.280  ...           NaN   \n",
       "2         Nicaragua    11.984    -86.161  ...           NaN   \n",
       "3  Papua New Guinea    -5.580    150.520  ...           NaN   \n",
       "4       Philippines    14.002    120.993  ...           NaN   \n",
       "\n",
       "  TOTAL_DEATHS_DESCRIPTION TOTAL_MISSING TOTAL_MISSING_DESCRIPTION  \\\n",
       "0                      NaN           NaN                       NaN   \n",
       "1                      3.0           NaN                       NaN   \n",
       "2                      NaN           NaN                       NaN   \n",
       "3                      1.0           NaN                       NaN   \n",
       "4                      NaN           NaN                       NaN   \n",
       "\n",
       "   TOTAL_INJURIES TOTAL_INJURIES_DESCRIPTION  TOTAL_DAMAGE_MILLIONS_DOLLARS  \\\n",
       "0             NaN                        NaN                            NaN   \n",
       "1             NaN                        NaN                            NaN   \n",
       "2             NaN                        NaN                            NaN   \n",
       "3             NaN                        NaN                            NaN   \n",
       "4             NaN                        NaN                            NaN   \n",
       "\n",
       "   TOTAL_DAMAGE_DESCRIPTION  TOTAL_HOUSES_DESTROYED  \\\n",
       "0                       NaN                     NaN   \n",
       "1                       3.0                     NaN   \n",
       "2                       NaN                     NaN   \n",
       "3                       1.0                     NaN   \n",
       "4                       NaN                     NaN   \n",
       "\n",
       "   TOTAL_HOUSES_DESTROYED_DESCRIPTION  \n",
       "0                                 NaN  \n",
       "1                                 3.0  \n",
       "2                                 NaN  \n",
       "3                                 NaN  \n",
       "4                                 NaN  \n",
       "\n",
       "[5 rows x 36 columns]"
      ]
     },
     "execution_count": 4,
     "metadata": {},
     "output_type": "execute_result"
    }
   ],
   "source": [
    "volc.head()"
   ]
  },
  {
   "cell_type": "code",
   "execution_count": 5,
   "metadata": {},
   "outputs": [
    {
     "data": {
      "text/plain": [
       "(835, 36)"
      ]
     },
     "execution_count": 5,
     "metadata": {},
     "output_type": "execute_result"
    }
   ],
   "source": [
    "volc.shape"
   ]
  },
  {
   "cell_type": "code",
   "execution_count": 6,
   "metadata": {},
   "outputs": [
    {
     "data": {
      "text/plain": [
       "Year                                    0\n",
       "Month                                 127\n",
       "Day                                   188\n",
       "TSU                                   690\n",
       "EQ                                    768\n",
       "Name                                    0\n",
       "Location                                0\n",
       "Country                                 0\n",
       "Latitude                                0\n",
       "Longitude                               0\n",
       "Elevation                               0\n",
       "Type                                    0\n",
       "Status                                  0\n",
       "Time                                    0\n",
       "VEI                                   176\n",
       "Agent                                 367\n",
       "DEATHS                                406\n",
       "DEATHS_DESCRIPTION                    278\n",
       "MISSING                               827\n",
       "MISSING_DESCRIPTION                   824\n",
       "INJURIES                              741\n",
       "INJURIES_DESCRIPTION                  717\n",
       "DAMAGE_MILLIONS_DOLLARS               817\n",
       "DAMAGE_DESCRIPTION                    611\n",
       "HOUSES_DESTROYED                      801\n",
       "HOUSES_DESTROYED_DESCRIPTION          726\n",
       "TOTAL_DEATHS                          386\n",
       "TOTAL_DEATHS_DESCRIPTION              254\n",
       "TOTAL_MISSING                         827\n",
       "TOTAL_MISSING_DESCRIPTION             823\n",
       "TOTAL_INJURIES                        739\n",
       "TOTAL_INJURIES_DESCRIPTION            709\n",
       "TOTAL_DAMAGE_MILLIONS_DOLLARS         813\n",
       "TOTAL_DAMAGE_DESCRIPTION              596\n",
       "TOTAL_HOUSES_DESTROYED                796\n",
       "TOTAL_HOUSES_DESTROYED_DESCRIPTION    707\n",
       "dtype: int64"
      ]
     },
     "execution_count": 6,
     "metadata": {},
     "output_type": "execute_result"
    }
   ],
   "source": [
    "volc.isnull().sum()"
   ]
  },
  {
   "cell_type": "code",
   "execution_count": 7,
   "metadata": {},
   "outputs": [],
   "source": [
    "volc  = volc[['Year', 'Name', 'Month', 'Day', 'Location','Country','Latitude','Longitude']]"
   ]
  },
  {
   "cell_type": "code",
   "execution_count": 8,
   "metadata": {
    "scrolled": false
   },
   "outputs": [
    {
     "data": {
      "text/html": [
       "<div>\n",
       "<style scoped>\n",
       "    .dataframe tbody tr th:only-of-type {\n",
       "        vertical-align: middle;\n",
       "    }\n",
       "\n",
       "    .dataframe tbody tr th {\n",
       "        vertical-align: top;\n",
       "    }\n",
       "\n",
       "    .dataframe thead th {\n",
       "        text-align: right;\n",
       "    }\n",
       "</style>\n",
       "<table border=\"1\" class=\"dataframe\">\n",
       "  <thead>\n",
       "    <tr style=\"text-align: right;\">\n",
       "      <th></th>\n",
       "      <th>Year</th>\n",
       "      <th>Name</th>\n",
       "      <th>Month</th>\n",
       "      <th>Day</th>\n",
       "      <th>Location</th>\n",
       "      <th>Country</th>\n",
       "      <th>Latitude</th>\n",
       "      <th>Longitude</th>\n",
       "    </tr>\n",
       "  </thead>\n",
       "  <tbody>\n",
       "    <tr>\n",
       "      <th>0</th>\n",
       "      <td>-4360</td>\n",
       "      <td>Macauley Island</td>\n",
       "      <td>NaN</td>\n",
       "      <td>NaN</td>\n",
       "      <td>Kermadec Is</td>\n",
       "      <td>New Zealand</td>\n",
       "      <td>-30.200</td>\n",
       "      <td>-178.470</td>\n",
       "    </tr>\n",
       "    <tr>\n",
       "      <th>1</th>\n",
       "      <td>-4350</td>\n",
       "      <td>Kikai</td>\n",
       "      <td>NaN</td>\n",
       "      <td>NaN</td>\n",
       "      <td>Ryukyu Is</td>\n",
       "      <td>Japan</td>\n",
       "      <td>30.780</td>\n",
       "      <td>130.280</td>\n",
       "    </tr>\n",
       "    <tr>\n",
       "      <th>2</th>\n",
       "      <td>-4050</td>\n",
       "      <td>Masaya</td>\n",
       "      <td>NaN</td>\n",
       "      <td>NaN</td>\n",
       "      <td>Nicaragua</td>\n",
       "      <td>Nicaragua</td>\n",
       "      <td>11.984</td>\n",
       "      <td>-86.161</td>\n",
       "    </tr>\n",
       "    <tr>\n",
       "      <th>3</th>\n",
       "      <td>-4000</td>\n",
       "      <td>Pago</td>\n",
       "      <td>NaN</td>\n",
       "      <td>NaN</td>\n",
       "      <td>New Britain-SW Pac</td>\n",
       "      <td>Papua New Guinea</td>\n",
       "      <td>-5.580</td>\n",
       "      <td>150.520</td>\n",
       "    </tr>\n",
       "    <tr>\n",
       "      <th>4</th>\n",
       "      <td>-3580</td>\n",
       "      <td>Taal</td>\n",
       "      <td>NaN</td>\n",
       "      <td>NaN</td>\n",
       "      <td>Luzon-Philippines</td>\n",
       "      <td>Philippines</td>\n",
       "      <td>14.002</td>\n",
       "      <td>120.993</td>\n",
       "    </tr>\n",
       "  </tbody>\n",
       "</table>\n",
       "</div>"
      ],
      "text/plain": [
       "   Year             Name  Month  Day            Location           Country  \\\n",
       "0 -4360  Macauley Island    NaN  NaN         Kermadec Is       New Zealand   \n",
       "1 -4350            Kikai    NaN  NaN           Ryukyu Is             Japan   \n",
       "2 -4050           Masaya    NaN  NaN           Nicaragua         Nicaragua   \n",
       "3 -4000             Pago    NaN  NaN  New Britain-SW Pac  Papua New Guinea   \n",
       "4 -3580             Taal    NaN  NaN   Luzon-Philippines       Philippines   \n",
       "\n",
       "   Latitude  Longitude  \n",
       "0   -30.200   -178.470  \n",
       "1    30.780    130.280  \n",
       "2    11.984    -86.161  \n",
       "3    -5.580    150.520  \n",
       "4    14.002    120.993  "
      ]
     },
     "execution_count": 8,
     "metadata": {},
     "output_type": "execute_result"
    }
   ],
   "source": [
    "volc.head()"
   ]
  },
  {
   "cell_type": "code",
   "execution_count": 9,
   "metadata": {},
   "outputs": [
    {
     "data": {
      "text/html": [
       "<div>\n",
       "<style scoped>\n",
       "    .dataframe tbody tr th:only-of-type {\n",
       "        vertical-align: middle;\n",
       "    }\n",
       "\n",
       "    .dataframe tbody tr th {\n",
       "        vertical-align: top;\n",
       "    }\n",
       "\n",
       "    .dataframe thead th {\n",
       "        text-align: right;\n",
       "    }\n",
       "</style>\n",
       "<table border=\"1\" class=\"dataframe\">\n",
       "  <thead>\n",
       "    <tr style=\"text-align: right;\">\n",
       "      <th></th>\n",
       "      <th>Year</th>\n",
       "      <th>Name</th>\n",
       "      <th>Month</th>\n",
       "      <th>Day</th>\n",
       "      <th>Location</th>\n",
       "      <th>Country</th>\n",
       "      <th>Latitude</th>\n",
       "      <th>Longitude</th>\n",
       "    </tr>\n",
       "  </thead>\n",
       "  <tbody>\n",
       "    <tr>\n",
       "      <th>766</th>\n",
       "      <td>2011</td>\n",
       "      <td>Merapi</td>\n",
       "      <td>1.0</td>\n",
       "      <td>3.0</td>\n",
       "      <td>Java</td>\n",
       "      <td>Indonesia</td>\n",
       "      <td>-7.542</td>\n",
       "      <td>110.442</td>\n",
       "    </tr>\n",
       "    <tr>\n",
       "      <th>767</th>\n",
       "      <td>2011</td>\n",
       "      <td>Kirishima</td>\n",
       "      <td>1.0</td>\n",
       "      <td>28.0</td>\n",
       "      <td>Kyushu-Japan</td>\n",
       "      <td>Japan</td>\n",
       "      <td>31.930</td>\n",
       "      <td>130.870</td>\n",
       "    </tr>\n",
       "    <tr>\n",
       "      <th>768</th>\n",
       "      <td>2011</td>\n",
       "      <td>Bulusan</td>\n",
       "      <td>2.0</td>\n",
       "      <td>23.0</td>\n",
       "      <td>Luzon-Philippines</td>\n",
       "      <td>Philippines</td>\n",
       "      <td>12.770</td>\n",
       "      <td>124.050</td>\n",
       "    </tr>\n",
       "    <tr>\n",
       "      <th>769</th>\n",
       "      <td>2011</td>\n",
       "      <td>Karangetang [Api Siau]</td>\n",
       "      <td>3.0</td>\n",
       "      <td>18.0</td>\n",
       "      <td>Sangihe Is-Indonesia</td>\n",
       "      <td>Indonesia</td>\n",
       "      <td>2.780</td>\n",
       "      <td>125.480</td>\n",
       "    </tr>\n",
       "    <tr>\n",
       "      <th>770</th>\n",
       "      <td>2011</td>\n",
       "      <td>Tungurahua</td>\n",
       "      <td>4.0</td>\n",
       "      <td>NaN</td>\n",
       "      <td>Ecuador</td>\n",
       "      <td>Ecuador</td>\n",
       "      <td>-1.467</td>\n",
       "      <td>-78.442</td>\n",
       "    </tr>\n",
       "  </tbody>\n",
       "</table>\n",
       "</div>"
      ],
      "text/plain": [
       "     Year                    Name  Month   Day              Location  \\\n",
       "766  2011                  Merapi    1.0   3.0                  Java   \n",
       "767  2011               Kirishima    1.0  28.0          Kyushu-Japan   \n",
       "768  2011                 Bulusan    2.0  23.0     Luzon-Philippines   \n",
       "769  2011  Karangetang [Api Siau]    3.0  18.0  Sangihe Is-Indonesia   \n",
       "770  2011              Tungurahua    4.0   NaN               Ecuador   \n",
       "\n",
       "         Country  Latitude  Longitude  \n",
       "766    Indonesia    -7.542    110.442  \n",
       "767        Japan    31.930    130.870  \n",
       "768  Philippines    12.770    124.050  \n",
       "769    Indonesia     2.780    125.480  \n",
       "770      Ecuador    -1.467    -78.442  "
      ]
     },
     "execution_count": 9,
     "metadata": {},
     "output_type": "execute_result"
    }
   ],
   "source": [
    "# Testing the preprocessing function on the last 10 years of the \"volc\" dataframe\n",
    "volc_last10 = volc[volc['Year'] >= 2011]\n",
    "volc_last10.head()"
   ]
  },
  {
   "cell_type": "code",
   "execution_count": 19,
   "metadata": {},
   "outputs": [
    {
     "data": {
      "text/plain": [
       "(69, 8)"
      ]
     },
     "execution_count": 19,
     "metadata": {},
     "output_type": "execute_result"
    }
   ],
   "source": [
    "volc_last10.shape"
   ]
  },
  {
   "cell_type": "code",
   "execution_count": 10,
   "metadata": {},
   "outputs": [
    {
     "data": {
      "text/plain": [
       "Year         0\n",
       "Name         0\n",
       "Month        0\n",
       "Day          3\n",
       "Location     0\n",
       "Country      0\n",
       "Latitude     0\n",
       "Longitude    0\n",
       "dtype: int64"
      ]
     },
     "execution_count": 10,
     "metadata": {},
     "output_type": "execute_result"
    }
   ],
   "source": [
    "# Like I said, the latter years have a lot less nan values. Might help\n",
    "volc_last10.isnull().sum()"
   ]
  },
  {
   "cell_type": "code",
   "execution_count": 11,
   "metadata": {},
   "outputs": [],
   "source": [
    "preprocessed_volc_last10 = preprocessing_dataframe(volc_last10)"
   ]
  },
  {
   "cell_type": "code",
   "execution_count": 12,
   "metadata": {},
   "outputs": [
    {
     "data": {
      "text/html": [
       "<div>\n",
       "<style scoped>\n",
       "    .dataframe tbody tr th:only-of-type {\n",
       "        vertical-align: middle;\n",
       "    }\n",
       "\n",
       "    .dataframe tbody tr th {\n",
       "        vertical-align: top;\n",
       "    }\n",
       "\n",
       "    .dataframe thead th {\n",
       "        text-align: right;\n",
       "    }\n",
       "</style>\n",
       "<table border=\"1\" class=\"dataframe\">\n",
       "  <thead>\n",
       "    <tr style=\"text-align: right;\">\n",
       "      <th></th>\n",
       "      <th>Year</th>\n",
       "      <th>Latitude</th>\n",
       "      <th>Longitude</th>\n",
       "      <th>Month</th>\n",
       "      <th>Day</th>\n",
       "      <th>target</th>\n",
       "    </tr>\n",
       "  </thead>\n",
       "  <tbody>\n",
       "    <tr>\n",
       "      <th>0</th>\n",
       "      <td>2011</td>\n",
       "      <td>-7.542</td>\n",
       "      <td>110.442</td>\n",
       "      <td>1</td>\n",
       "      <td>1</td>\n",
       "      <td>0</td>\n",
       "    </tr>\n",
       "    <tr>\n",
       "      <th>1</th>\n",
       "      <td>2011</td>\n",
       "      <td>-7.542</td>\n",
       "      <td>110.442</td>\n",
       "      <td>1</td>\n",
       "      <td>2</td>\n",
       "      <td>0</td>\n",
       "    </tr>\n",
       "    <tr>\n",
       "      <th>2</th>\n",
       "      <td>2011</td>\n",
       "      <td>-7.542</td>\n",
       "      <td>110.442</td>\n",
       "      <td>1</td>\n",
       "      <td>3</td>\n",
       "      <td>1</td>\n",
       "    </tr>\n",
       "    <tr>\n",
       "      <th>3</th>\n",
       "      <td>2011</td>\n",
       "      <td>-7.542</td>\n",
       "      <td>110.442</td>\n",
       "      <td>1</td>\n",
       "      <td>4</td>\n",
       "      <td>0</td>\n",
       "    </tr>\n",
       "    <tr>\n",
       "      <th>4</th>\n",
       "      <td>2011</td>\n",
       "      <td>-7.542</td>\n",
       "      <td>110.442</td>\n",
       "      <td>1</td>\n",
       "      <td>5</td>\n",
       "      <td>0</td>\n",
       "    </tr>\n",
       "  </tbody>\n",
       "</table>\n",
       "</div>"
      ],
      "text/plain": [
       "   Year  Latitude  Longitude  Month  Day  target\n",
       "0  2011    -7.542    110.442      1    1       0\n",
       "1  2011    -7.542    110.442      1    2       0\n",
       "2  2011    -7.542    110.442      1    3       1\n",
       "3  2011    -7.542    110.442      1    4       0\n",
       "4  2011    -7.542    110.442      1    5       0"
      ]
     },
     "execution_count": 12,
     "metadata": {},
     "output_type": "execute_result"
    }
   ],
   "source": [
    "preprocessed_volc_last10.head()"
   ]
  },
  {
   "cell_type": "code",
   "execution_count": 15,
   "metadata": {},
   "outputs": [
    {
     "data": {
      "text/plain": [
       "(40,)"
      ]
     },
     "execution_count": 15,
     "metadata": {},
     "output_type": "execute_result"
    }
   ],
   "source": [
    "volc_last10['Name'].unique().shape"
   ]
  },
  {
   "cell_type": "code",
   "execution_count": 13,
   "metadata": {},
   "outputs": [
    {
     "data": {
      "text/plain": [
       "(146120, 6)"
      ]
     },
     "execution_count": 13,
     "metadata": {},
     "output_type": "execute_result"
    }
   ],
   "source": [
    "preprocessed_volc_last10.shape"
   ]
  },
  {
   "cell_type": "code",
   "execution_count": 17,
   "metadata": {},
   "outputs": [
    {
     "data": {
      "text/plain": [
       "146120"
      ]
     },
     "execution_count": 17,
     "metadata": {},
     "output_type": "execute_result"
    }
   ],
   "source": [
    "# The shape makes sense since 2011-2020 has 3653 days in total and multiplied by 40 places, it gives 146120\n",
    "((365 * 7) + (366 * 3)) * 40"
   ]
  },
  {
   "cell_type": "code",
   "execution_count": 18,
   "metadata": {},
   "outputs": [
    {
     "data": {
      "text/plain": [
       "66"
      ]
     },
     "execution_count": 18,
     "metadata": {},
     "output_type": "execute_result"
    }
   ],
   "source": [
    "# Also makes sense that the number of targets set to 1 is 66, since the \"volc_last10\" dataframe has 69 observations,\n",
    "# with 3 nans, and as I said, the function neglets nan values\n",
    "preprocessed_volc_last10['target'].sum()"
   ]
  },
  {
   "cell_type": "code",
   "execution_count": null,
   "metadata": {},
   "outputs": [],
   "source": [
    "# ---------------------------------------------------------------------------------------------------------"
   ]
  },
  {
<<<<<<< HEAD:Natural disaster pattern predictor/Natural disaster pattern predictor.ipynb
   "cell_type": "markdown",
   "metadata": {},
   "source": [
    "### Tsunmi data"
   ]
  },
  {
   "cell_type": "code",
   "execution_count": 2,
   "metadata": {},
   "outputs": [],
   "source": [
    "tsu = pd.read_csv('data/txt/tsrunup.txt',delimiter = '\\t', quoting = 3, encoding='latin-1')"
   ]
  },
  {
   "cell_type": "code",
   "execution_count": 3,
   "metadata": {},
   "outputs": [
    {
     "data": {
      "text/html": [
       "<div>\n",
       "<style scoped>\n",
       "    .dataframe tbody tr th:only-of-type {\n",
       "        vertical-align: middle;\n",
       "    }\n",
       "\n",
       "    .dataframe tbody tr th {\n",
       "        vertical-align: top;\n",
       "    }\n",
       "\n",
       "    .dataframe thead th {\n",
       "        text-align: right;\n",
       "    }\n",
       "</style>\n",
       "<table border=\"1\" class=\"dataframe\">\n",
       "  <thead>\n",
       "    <tr style=\"text-align: right;\">\n",
       "      <th></th>\n",
       "      <th>I_D</th>\n",
       "      <th>TSEVENT_ID</th>\n",
       "      <th>YEAR</th>\n",
       "      <th>MONTH</th>\n",
       "      <th>DAY</th>\n",
       "      <th>HOUR</th>\n",
       "      <th>MINUTE</th>\n",
       "      <th>SECOND</th>\n",
       "      <th>DOUBTFUL</th>\n",
       "      <th>COUNTRY</th>\n",
       "      <th>...</th>\n",
       "      <th>DEATHS</th>\n",
       "      <th>DEATHS_DESCRIPTION</th>\n",
       "      <th>INJURIES</th>\n",
       "      <th>INJURIES_DESCRIPTION</th>\n",
       "      <th>DAMAGE_MILLIONS_DOLLARS</th>\n",
       "      <th>DAMAGE_DESCRIPTION</th>\n",
       "      <th>HOUSES_DAMAGED</th>\n",
       "      <th>HOUSES_DAMAGED_DESCRIPTION</th>\n",
       "      <th>HOUSES_DESTROYED</th>\n",
       "      <th>HOUSES_DESTROYED_DESCRIPTION</th>\n",
       "    </tr>\n",
       "  </thead>\n",
       "  <tbody>\n",
       "    <tr>\n",
       "      <th>0</th>\n",
       "      <td>11014</td>\n",
       "      <td>1</td>\n",
       "      <td>-2000</td>\n",
       "      <td>NaN</td>\n",
       "      <td>NaN</td>\n",
       "      <td>NaN</td>\n",
       "      <td>NaN</td>\n",
       "      <td>NaN</td>\n",
       "      <td>NaN</td>\n",
       "      <td>SYRIA</td>\n",
       "      <td>...</td>\n",
       "      <td>NaN</td>\n",
       "      <td>3.0</td>\n",
       "      <td>NaN</td>\n",
       "      <td>NaN</td>\n",
       "      <td>NaN</td>\n",
       "      <td>4.0</td>\n",
       "      <td>NaN</td>\n",
       "      <td>NaN</td>\n",
       "      <td>NaN</td>\n",
       "      <td></td>\n",
       "    </tr>\n",
       "    <tr>\n",
       "      <th>1</th>\n",
       "      <td>17601</td>\n",
       "      <td>3</td>\n",
       "      <td>-1610</td>\n",
       "      <td>NaN</td>\n",
       "      <td>NaN</td>\n",
       "      <td>NaN</td>\n",
       "      <td>NaN</td>\n",
       "      <td>NaN</td>\n",
       "      <td>NaN</td>\n",
       "      <td>SYRIA</td>\n",
       "      <td>...</td>\n",
       "      <td>NaN</td>\n",
       "      <td>3.0</td>\n",
       "      <td>NaN</td>\n",
       "      <td>NaN</td>\n",
       "      <td>NaN</td>\n",
       "      <td>3.0</td>\n",
       "      <td>NaN</td>\n",
       "      <td>NaN</td>\n",
       "      <td>NaN</td>\n",
       "      <td></td>\n",
       "    </tr>\n",
       "    <tr>\n",
       "      <th>2</th>\n",
       "      <td>1</td>\n",
       "      <td>3</td>\n",
       "      <td>-1610</td>\n",
       "      <td>NaN</td>\n",
       "      <td>NaN</td>\n",
       "      <td>NaN</td>\n",
       "      <td>NaN</td>\n",
       "      <td>NaN</td>\n",
       "      <td>NaN</td>\n",
       "      <td>GREECE</td>\n",
       "      <td>...</td>\n",
       "      <td>NaN</td>\n",
       "      <td>3.0</td>\n",
       "      <td>NaN</td>\n",
       "      <td>NaN</td>\n",
       "      <td>NaN</td>\n",
       "      <td>3.0</td>\n",
       "      <td>NaN</td>\n",
       "      <td>NaN</td>\n",
       "      <td>NaN</td>\n",
       "      <td></td>\n",
       "    </tr>\n",
       "    <tr>\n",
       "      <th>3</th>\n",
       "      <td>2</td>\n",
       "      <td>9</td>\n",
       "      <td>-479</td>\n",
       "      <td>NaN</td>\n",
       "      <td>NaN</td>\n",
       "      <td>NaN</td>\n",
       "      <td>NaN</td>\n",
       "      <td>NaN</td>\n",
       "      <td>NaN</td>\n",
       "      <td>GREECE</td>\n",
       "      <td>...</td>\n",
       "      <td>NaN</td>\n",
       "      <td>3.0</td>\n",
       "      <td>NaN</td>\n",
       "      <td>NaN</td>\n",
       "      <td>NaN</td>\n",
       "      <td>NaN</td>\n",
       "      <td>NaN</td>\n",
       "      <td>NaN</td>\n",
       "      <td>NaN</td>\n",
       "      <td></td>\n",
       "    </tr>\n",
       "    <tr>\n",
       "      <th>4</th>\n",
       "      <td>7</td>\n",
       "      <td>10</td>\n",
       "      <td>-426</td>\n",
       "      <td>6.0</td>\n",
       "      <td>NaN</td>\n",
       "      <td>NaN</td>\n",
       "      <td>NaN</td>\n",
       "      <td>NaN</td>\n",
       "      <td>NaN</td>\n",
       "      <td>GREECE</td>\n",
       "      <td>...</td>\n",
       "      <td>NaN</td>\n",
       "      <td>NaN</td>\n",
       "      <td>NaN</td>\n",
       "      <td>NaN</td>\n",
       "      <td>NaN</td>\n",
       "      <td>NaN</td>\n",
       "      <td>NaN</td>\n",
       "      <td>NaN</td>\n",
       "      <td>NaN</td>\n",
       "      <td></td>\n",
       "    </tr>\n",
       "  </tbody>\n",
       "</table>\n",
       "<p>5 rows × 36 columns</p>\n",
       "</div>"
      ],
      "text/plain": [
       "     I_D  TSEVENT_ID  YEAR  MONTH  DAY  HOUR  MINUTE  SECOND DOUBTFUL COUNTRY  \\\n",
       "0  11014           1 -2000    NaN  NaN   NaN     NaN     NaN      NaN   SYRIA   \n",
       "1  17601           3 -1610    NaN  NaN   NaN     NaN     NaN      NaN   SYRIA   \n",
       "2      1           3 -1610    NaN  NaN   NaN     NaN     NaN      NaN  GREECE   \n",
       "3      2           9  -479    NaN  NaN   NaN     NaN     NaN      NaN  GREECE   \n",
       "4      7          10  -426    6.0  NaN   NaN     NaN     NaN      NaN  GREECE   \n",
       "\n",
       "   ... DEATHS DEATHS_DESCRIPTION  INJURIES  INJURIES_DESCRIPTION  \\\n",
       "0  ...    NaN                3.0       NaN                   NaN   \n",
       "1  ...    NaN                3.0       NaN                   NaN   \n",
       "2  ...    NaN                3.0       NaN                   NaN   \n",
       "3  ...    NaN                3.0       NaN                   NaN   \n",
       "4  ...    NaN                NaN       NaN                   NaN   \n",
       "\n",
       "   DAMAGE_MILLIONS_DOLLARS  DAMAGE_DESCRIPTION  HOUSES_DAMAGED  \\\n",
       "0                      NaN                 4.0             NaN   \n",
       "1                      NaN                 3.0             NaN   \n",
       "2                      NaN                 3.0             NaN   \n",
       "3                      NaN                 NaN             NaN   \n",
       "4                      NaN                 NaN             NaN   \n",
       "\n",
       "   HOUSES_DAMAGED_DESCRIPTION  HOUSES_DESTROYED  HOUSES_DESTROYED_DESCRIPTION  \n",
       "0                         NaN               NaN                                \n",
       "1                         NaN               NaN                                \n",
       "2                         NaN               NaN                                \n",
       "3                         NaN               NaN                                \n",
       "4                         NaN               NaN                                \n",
       "\n",
       "[5 rows x 36 columns]"
      ]
     },
     "execution_count": 3,
     "metadata": {},
     "output_type": "execute_result"
    }
   ],
   "source": [
    "tsu.head()"
   ]
  },
  {
   "cell_type": "code",
   "execution_count": 4,
   "metadata": {},
   "outputs": [
    {
     "data": {
      "text/plain": [
       "I_D                                 0\n",
       "TSEVENT_ID                          0\n",
       "YEAR                                0\n",
       "MONTH                             112\n",
       "DAY                               229\n",
       "HOUR                             1867\n",
       "MINUTE                           2096\n",
       "SECOND                           4582\n",
       "DOUBTFUL                        27626\n",
       "COUNTRY                             2\n",
       "STATE                            5711\n",
       "LOCATION_NAME                       5\n",
       "LATITUDE                          647\n",
       "LONGITUDE                         647\n",
       "REGION_CODE                         0\n",
       "DISTANCE_FROM_SOURCE              966\n",
       "ARR_DAY                         24467\n",
       "ARR_HOUR                        24517\n",
       "ARR_MIN                         24586\n",
       "TRAVEL_TIME_HOURS               24756\n",
       "TRAVEL_TIME_MINUTES             24763\n",
       "WATER_HT                         4148\n",
       "HORIZONTAL_INUNDATION           18948\n",
       "TYPE_MEASUREMENT_ID               234\n",
       "PERIOD                          25638\n",
       "FIRST_MOTION                    26532\n",
       "DEATHS                          27387\n",
       "DEATHS_DESCRIPTION              27153\n",
       "INJURIES                        27977\n",
       "INJURIES_DESCRIPTION            27970\n",
       "DAMAGE_MILLIONS_DOLLARS         27986\n",
       "DAMAGE_DESCRIPTION              25972\n",
       "HOUSES_DAMAGED                  27953\n",
       "HOUSES_DAMAGED_DESCRIPTION      27660\n",
       "HOUSES_DESTROYED                27795\n",
       "HOUSES_DESTROYED_DESCRIPTION        0\n",
       "dtype: int64"
      ]
     },
     "execution_count": 4,
     "metadata": {},
     "output_type": "execute_result"
    }
   ],
   "source": [
    "tsu.isnull().sum()"
   ]
  },
  {
   "cell_type": "code",
   "execution_count": 5,
   "metadata": {},
   "outputs": [],
   "source": [
    "tsu  = tsu[['YEAR', 'LOCATION_NAME','COUNTRY','LATITUDE','LONGITUDE']]"
   ]
  },
  {
   "cell_type": "code",
   "execution_count": 6,
   "metadata": {
    "scrolled": true
   },
   "outputs": [
    {
     "data": {
      "text/html": [
       "<div>\n",
       "<style scoped>\n",
       "    .dataframe tbody tr th:only-of-type {\n",
       "        vertical-align: middle;\n",
       "    }\n",
       "\n",
       "    .dataframe tbody tr th {\n",
       "        vertical-align: top;\n",
       "    }\n",
       "\n",
       "    .dataframe thead th {\n",
       "        text-align: right;\n",
       "    }\n",
       "</style>\n",
       "<table border=\"1\" class=\"dataframe\">\n",
       "  <thead>\n",
       "    <tr style=\"text-align: right;\">\n",
       "      <th></th>\n",
       "      <th>YEAR</th>\n",
       "      <th>LOCATION_NAME</th>\n",
       "      <th>COUNTRY</th>\n",
       "      <th>LATITUDE</th>\n",
       "      <th>LONGITUDE</th>\n",
       "    </tr>\n",
       "  </thead>\n",
       "  <tbody>\n",
       "    <tr>\n",
       "      <th>0</th>\n",
       "      <td>-2000</td>\n",
       "      <td>UGARIT</td>\n",
       "      <td>SYRIA</td>\n",
       "      <td>35.583</td>\n",
       "      <td>35.7500</td>\n",
       "    </tr>\n",
       "    <tr>\n",
       "      <th>1</th>\n",
       "      <td>-1610</td>\n",
       "      <td>UGARIT</td>\n",
       "      <td>SYRIA</td>\n",
       "      <td>35.583</td>\n",
       "      <td>35.7500</td>\n",
       "    </tr>\n",
       "    <tr>\n",
       "      <th>2</th>\n",
       "      <td>-1610</td>\n",
       "      <td>N. AND E. COAST CRETE</td>\n",
       "      <td>GREECE</td>\n",
       "      <td>35.500</td>\n",
       "      <td>25.0000</td>\n",
       "    </tr>\n",
       "    <tr>\n",
       "      <th>3</th>\n",
       "      <td>-479</td>\n",
       "      <td>POTIDAEA, MACEDONIA</td>\n",
       "      <td>GREECE</td>\n",
       "      <td>40.300</td>\n",
       "      <td>23.3300</td>\n",
       "    </tr>\n",
       "    <tr>\n",
       "      <th>4</th>\n",
       "      <td>-426</td>\n",
       "      <td>OPOUS</td>\n",
       "      <td>GREECE</td>\n",
       "      <td>38.633</td>\n",
       "      <td>23.0833</td>\n",
       "    </tr>\n",
       "  </tbody>\n",
       "</table>\n",
       "</div>"
      ],
      "text/plain": [
       "   YEAR          LOCATION_NAME COUNTRY  LATITUDE  LONGITUDE\n",
       "0 -2000                 UGARIT   SYRIA    35.583    35.7500\n",
       "1 -1610                 UGARIT   SYRIA    35.583    35.7500\n",
       "2 -1610  N. AND E. COAST CRETE  GREECE    35.500    25.0000\n",
       "3  -479    POTIDAEA, MACEDONIA  GREECE    40.300    23.3300\n",
       "4  -426                  OPOUS  GREECE    38.633    23.0833"
      ]
     },
     "execution_count": 6,
     "metadata": {},
     "output_type": "execute_result"
    }
   ],
   "source": [
    "tsu.head()"
   ]
  },
  {
   "cell_type": "code",
   "execution_count": null,
   "metadata": {
    "scrolled": true
   },
   "outputs": [],
   "source": [
    "# Repition shows that there were places that the eruption happend more than once.\n",
    "print(tsu.LATITUDE.duplicated().sum())\n",
    "print(tsu.LONGITUDE.duplicated().sum())"
   ]
  },
  {
   "cell_type": "code",
   "execution_count": null,
   "metadata": {},
   "outputs": [],
   "source": []
  },
  {
   "cell_type": "code",
   "execution_count": null,
   "metadata": {},
   "outputs": [],
   "source": [
    "print(tsu.LOCATION_NAME.duplicated().sum())"
   ]
  },
  {
   "cell_type": "code",
   "execution_count": null,
   "metadata": {},
   "outputs": [],
   "source": [
    "### ------------------------------------------------------------------------------------------------------"
   ]
  },
  {
   "cell_type": "markdown",
   "metadata": {},
   "source": [
    "# Earthquake data"
   ]
  },
  {
   "cell_type": "code",
   "execution_count": null,
   "metadata": {},
   "outputs": [],
   "source": [
    "earth = pd.read_csv('data/txt/signif.txt',delimiter = '\\t', quoting = 3, encoding='latin-1')"
   ]
  },
  {
   "cell_type": "code",
   "execution_count": null,
   "metadata": {},
   "outputs": [],
   "source": [
    "earth.head()"
   ]
  },
  {
   "cell_type": "code",
   "execution_count": null,
   "metadata": {},
   "outputs": [],
   "source": [
    "earth.isnull().sum()"
   ]
  },
  {
   "cell_type": "code",
   "execution_count": null,
   "metadata": {},
   "outputs": [],
   "source": [
    "earth  =earth[['YEAR', 'LOCATION_NAME','COUNTRY','LATITUDE','LONGITUDE']]"
   ]
  },
  {
   "cell_type": "code",
   "execution_count": null,
   "metadata": {},
   "outputs": [],
   "source": [
    "print(earth.LATITUDE.duplicated().sum())\n",
    "print(earth.LONGITUDE.duplicated().sum())"
   ]
  },
  {
   "cell_type": "code",
   "execution_count": null,
   "metadata": {},
   "outputs": [],
   "source": [
    "print(earth.LOCATION_NAME.duplicated().sum())"
   ]
  },
  {
   "cell_type": "code",
   "execution_count": null,
   "metadata": {},
   "outputs": [],
   "source": []
  },
  {
   "cell_type": "code",
   "execution_count": null,
   "metadata": {},
   "outputs": [],
   "source": []
  },
  {
   "cell_type": "code",
   "execution_count": null,
   "metadata": {},
   "outputs": [],
   "source": []
  },
  {
   "cell_type": "code",
   "execution_count": null,
   "metadata": {},
   "outputs": [],
   "source": []
  },
  {
   "cell_type": "code",
   "execution_count": null,
   "metadata": {},
   "outputs": [],
   "source": []
  },
  {
=======
>>>>>>> 6b888a3a12df7ade7d4ff66e34e79da4a99b5088:Natural disaster pattern predictor/PREPROCESSOR.ipynb
   "cell_type": "code",
   "execution_count": null,
   "metadata": {},
   "outputs": [],
   "source": [
    "# https://medium.com/@kasiarachuta/choosing-columns-in-pandas-dataframe-d0677b34a6ca"
   ]
  },
  {
   "cell_type": "code",
   "execution_count": null,
   "metadata": {},
   "outputs": [],
   "source": [
    "# https://towardsdatascience.com/time-series-forecasting-with-recurrent-neural-networks-74674e289816"
   ]
  },
  {
   "cell_type": "code",
   "execution_count": null,
   "metadata": {},
   "outputs": [],
   "source": []
  },
  {
   "cell_type": "code",
   "execution_count": null,
   "metadata": {},
   "outputs": [],
   "source": []
  }
 ],
 "metadata": {
  "kernelspec": {
   "display_name": "Python 3",
   "language": "python",
   "name": "python3"
  },
  "language_info": {
   "codemirror_mode": {
    "name": "ipython",
    "version": 3
   },
   "file_extension": ".py",
   "mimetype": "text/x-python",
   "name": "python",
   "nbconvert_exporter": "python",
   "pygments_lexer": "ipython3",
   "version": "3.7.6"
  }
 },
 "nbformat": 4,
 "nbformat_minor": 4
}
