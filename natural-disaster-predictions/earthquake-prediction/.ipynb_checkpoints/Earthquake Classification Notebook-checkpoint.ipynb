{
 "cells": [
  {
   "cell_type": "markdown",
   "metadata": {},
   "source": [
    "# Building the Earthquake Classification Model\n",
    "### The baseline model is to predict if an earthquake will occur in a place on a particular day."
   ]
  },
  {
   "cell_type": "code",
   "execution_count": 1,
   "metadata": {},
   "outputs": [],
   "source": [
    "import pandas as pd\n",
    "import numpy as np\n",
    "import matplotlib.pyplot as plt\n",
    "import seaborn as sns"
   ]
  },
  {
   "cell_type": "markdown",
   "metadata": {},
   "source": [
    "### PREPROCESSING"
   ]
  },
  {
   "cell_type": "code",
   "execution_count": 2,
   "metadata": {},
   "outputs": [],
   "source": [
    "# The preprocessing function accepts a pandas dataframe with the \"Year\", \"Month\" and \"Day\" features for when a natural disaster\n",
    "# occured as well as the \"Longitude\" and \"latitude\" coordinates. The function returns a pandas dataframe with the mentioned \n",
    "# features but for all days within the starting and ending year of the original dataframe. It also has an added feature \n",
    "# \"target\" which is a 1 if a natural disaster occured on that day, and a 0 otherwise.\n",
    "\n",
    "def preprocessing_dataframe(disaster_df):\n",
    "    preprocessed_dict = {'Year': [], 'Latitude':[], 'Longitude': [], 'Month': [], 'Day': [], 'target': []} # Starting with a dictionary to hold all values, but will later change to a pandas dataframe\n",
    "    # Creating a dictionary that stores the latitude and longitude values for each specific place in the dataframe\n",
    "    print('Preprocessing ... ')\n",
    "    print(' ')\n",
    "    place_coords = {}\n",
    "    for place in disaster_df['Name'].unique():\n",
    "        lat = disaster_df[disaster_df['Name'] == place]['Latitude'].unique()[0]\n",
    "        lng = disaster_df[disaster_df['Name'] == place]['Longitude'].unique()[0]\n",
    "        place_coords[place] = (lat, lng)\n",
    "        \n",
    "    # All places with their respective coordinates are now stored in the \"place_coords\" dictionary\n",
    "    \n",
    "    year_start = disaster_df['Year'].unique().min() # Getting the earliest year in the dataframe\n",
    "    year_end = disaster_df['Year'].unique().max() # Getting the last year in the dataframe\n",
    "    \n",
    "    # Now, I'll iterate through all the years in order to assign the targets\n",
    "    for year in range(year_start, year_end+1):  \n",
    "        year_df = disaster_df[disaster_df['Year'] == year] # Dataframe for disasters happening in year \"year\" \n",
    "        \n",
    "        # I'll have to account for all the days of the months in the year, which are usually 30 and 31 except February\n",
    "        # Assigning the number of days for a specific year in the month of February is dependent on if the year is a leap year \n",
    "        # or not, where the number of days will be 29 or 28 respectively.\n",
    "        \n",
    "        month_days = [31, 28, 31, 30, 31, 30, 31, 31, 30, 31, 30, 31] # List containing number of days for each month of the year accordingly, i.e index 0 or January with 31 days. This is the list of days assuming it is not a leap year\n",
    "        if year%4 == 0:\n",
    "            if year%100 != 0:\n",
    "                month_days[1] = 29\n",
    "            else:\n",
    "                if year%400 == 0:\n",
    "                    month_days[1] = 29\n",
    "        \n",
    "        # Now, the \"month_days\" list's index \"1\" will remain 28 if it is not a leap year, and be changed to 29 if it is indeed\n",
    "        # a leap year\n",
    "        \n",
    "        # Would also need to iterate through all the places in the dataframe\n",
    "        for place in place_coords:\n",
    "            place_df = year_df[year_df['Name'] == place] # DataFrame for observations of only the place \"place\" \n",
    "            month_number = 1 # This is supposed to be January\n",
    "            \n",
    "            #Similar, iterating through all months...\n",
    "            for days in month_days:\n",
    "                month_df = place_df[place_df['Month'] == month_number] # DataFrame containing observations of only the month \"month\"\n",
    "                \n",
    "                # Iterating through all the days in the month...\n",
    "                for day in range(1, days+1):\n",
    "                    preprocessed_dict['Year'].append(year)\n",
    "                    preprocessed_dict['Latitude'].append(place_coords[place][0])\n",
    "                    preprocessed_dict['Longitude'].append(place_coords[place][1])\n",
    "                    preprocessed_dict['Month'].append(month_number)\n",
    "                    preprocessed_dict['Day'].append(day)\n",
    "                    # And finally, if the particular date is present in the dataframe, the target is set to 1, and 0 otherwise\n",
    "                    if place in year_df['Name'].unique() and month_number in place_df['Month'].unique() and day in month_df['Day'].unique():\n",
    "                        preprocessed_dict['target'].append(1)\n",
    "                    else:\n",
    "                        preprocessed_dict['target'].append(0)\n",
    "                month_number += 1\n",
    "                \n",
    "    preprocessed_df = pd.DataFrame(preprocessed_dict) # Transforming to a dataframe\n",
    "    \n",
    "    # Things to note: The function doesn't consider nan values, so if there is a nan value in any of the date features it will\n",
    "    # set the target to 0. Also, the preprocessed dataframe can be very large without care, so maybe sticking to 40, 50 years\n",
    "    # at most will be desirable. Also helps that for latter years, there's a lot less nan values. But could also edit it to\n",
    "    # perform a task if there is are nan values present.\n",
    "    print('Done!')\n",
    "    return preprocessed_df "
   ]
  },
  {
   "cell_type": "code",
   "execution_count": 3,
   "metadata": {},
   "outputs": [],
   "source": [
    "earth = pd.read_csv('earthquake_data.txt',delimiter = '\\t', quoting = 3, encoding='latin-1') # Earthquake Dataset"
   ]
  },
  {
   "cell_type": "code",
   "execution_count": 4,
   "metadata": {},
   "outputs": [
    {
     "data": {
      "text/html": [
       "<div>\n",
       "<style scoped>\n",
       "    .dataframe tbody tr th:only-of-type {\n",
       "        vertical-align: middle;\n",
       "    }\n",
       "\n",
       "    .dataframe tbody tr th {\n",
       "        vertical-align: top;\n",
       "    }\n",
       "\n",
       "    .dataframe thead th {\n",
       "        text-align: right;\n",
       "    }\n",
       "</style>\n",
       "<table border=\"1\" class=\"dataframe\">\n",
       "  <thead>\n",
       "    <tr style=\"text-align: right;\">\n",
       "      <th></th>\n",
       "      <th>I_D</th>\n",
       "      <th>FLAG_TSUNAMI</th>\n",
       "      <th>YEAR</th>\n",
       "      <th>MONTH</th>\n",
       "      <th>DAY</th>\n",
       "      <th>HOUR</th>\n",
       "      <th>MINUTE</th>\n",
       "      <th>SECOND</th>\n",
       "      <th>FOCAL_DEPTH</th>\n",
       "      <th>EQ_PRIMARY</th>\n",
       "      <th>...</th>\n",
       "      <th>TOTAL_MISSING</th>\n",
       "      <th>TOTAL_MISSING_DESCRIPTION</th>\n",
       "      <th>TOTAL_INJURIES</th>\n",
       "      <th>TOTAL_INJURIES_DESCRIPTION</th>\n",
       "      <th>TOTAL_DAMAGE_MILLIONS_DOLLARS</th>\n",
       "      <th>TOTAL_DAMAGE_DESCRIPTION</th>\n",
       "      <th>TOTAL_HOUSES_DESTROYED</th>\n",
       "      <th>TOTAL_HOUSES_DESTROYED_DESCRIPTION</th>\n",
       "      <th>TOTAL_HOUSES_DAMAGED</th>\n",
       "      <th>TOTAL_HOUSES_DAMAGED_DESCRIPTION</th>\n",
       "    </tr>\n",
       "  </thead>\n",
       "  <tbody>\n",
       "    <tr>\n",
       "      <th>0</th>\n",
       "      <td>1</td>\n",
       "      <td>NaN</td>\n",
       "      <td>-2150</td>\n",
       "      <td>NaN</td>\n",
       "      <td>NaN</td>\n",
       "      <td>NaN</td>\n",
       "      <td>NaN</td>\n",
       "      <td></td>\n",
       "      <td>NaN</td>\n",
       "      <td>7.3</td>\n",
       "      <td>...</td>\n",
       "      <td>NaN</td>\n",
       "      <td>NaN</td>\n",
       "      <td>NaN</td>\n",
       "      <td>NaN</td>\n",
       "      <td>NaN</td>\n",
       "      <td>NaN</td>\n",
       "      <td>NaN</td>\n",
       "      <td>NaN</td>\n",
       "      <td>NaN</td>\n",
       "      <td>NaN</td>\n",
       "    </tr>\n",
       "    <tr>\n",
       "      <th>1</th>\n",
       "      <td>3</td>\n",
       "      <td>NaN</td>\n",
       "      <td>-2000</td>\n",
       "      <td>NaN</td>\n",
       "      <td>NaN</td>\n",
       "      <td>NaN</td>\n",
       "      <td>NaN</td>\n",
       "      <td>NaN</td>\n",
       "      <td>18.0</td>\n",
       "      <td>7.1</td>\n",
       "      <td>...</td>\n",
       "      <td>NaN</td>\n",
       "      <td>NaN</td>\n",
       "      <td>NaN</td>\n",
       "      <td>NaN</td>\n",
       "      <td>NaN</td>\n",
       "      <td>1.0</td>\n",
       "      <td>NaN</td>\n",
       "      <td>1.0</td>\n",
       "      <td>NaN</td>\n",
       "      <td>NaN</td>\n",
       "    </tr>\n",
       "    <tr>\n",
       "      <th>2</th>\n",
       "      <td>2</td>\n",
       "      <td>Tsu</td>\n",
       "      <td>-2000</td>\n",
       "      <td>NaN</td>\n",
       "      <td>NaN</td>\n",
       "      <td>NaN</td>\n",
       "      <td>NaN</td>\n",
       "      <td>NaN</td>\n",
       "      <td>NaN</td>\n",
       "      <td>NaN</td>\n",
       "      <td>...</td>\n",
       "      <td>NaN</td>\n",
       "      <td>NaN</td>\n",
       "      <td>NaN</td>\n",
       "      <td>NaN</td>\n",
       "      <td>NaN</td>\n",
       "      <td>NaN</td>\n",
       "      <td>NaN</td>\n",
       "      <td>NaN</td>\n",
       "      <td>NaN</td>\n",
       "      <td>NaN</td>\n",
       "    </tr>\n",
       "    <tr>\n",
       "      <th>3</th>\n",
       "      <td>5877</td>\n",
       "      <td>Tsu</td>\n",
       "      <td>-1610</td>\n",
       "      <td>NaN</td>\n",
       "      <td>NaN</td>\n",
       "      <td>NaN</td>\n",
       "      <td>NaN</td>\n",
       "      <td>NaN</td>\n",
       "      <td>NaN</td>\n",
       "      <td>NaN</td>\n",
       "      <td>...</td>\n",
       "      <td>NaN</td>\n",
       "      <td>NaN</td>\n",
       "      <td>NaN</td>\n",
       "      <td>NaN</td>\n",
       "      <td>NaN</td>\n",
       "      <td>3.0</td>\n",
       "      <td>NaN</td>\n",
       "      <td>NaN</td>\n",
       "      <td>NaN</td>\n",
       "      <td>NaN</td>\n",
       "    </tr>\n",
       "    <tr>\n",
       "      <th>4</th>\n",
       "      <td>8</td>\n",
       "      <td>NaN</td>\n",
       "      <td>-1566</td>\n",
       "      <td>NaN</td>\n",
       "      <td>NaN</td>\n",
       "      <td>NaN</td>\n",
       "      <td>NaN</td>\n",
       "      <td></td>\n",
       "      <td>NaN</td>\n",
       "      <td>NaN</td>\n",
       "      <td>...</td>\n",
       "      <td>NaN</td>\n",
       "      <td>NaN</td>\n",
       "      <td>NaN</td>\n",
       "      <td>NaN</td>\n",
       "      <td>NaN</td>\n",
       "      <td>NaN</td>\n",
       "      <td>NaN</td>\n",
       "      <td>NaN</td>\n",
       "      <td>NaN</td>\n",
       "      <td>NaN</td>\n",
       "    </tr>\n",
       "  </tbody>\n",
       "</table>\n",
       "<p>5 rows × 47 columns</p>\n",
       "</div>"
      ],
      "text/plain": [
       "    I_D FLAG_TSUNAMI  YEAR  MONTH  DAY  HOUR  MINUTE SECOND  FOCAL_DEPTH  \\\n",
       "0     1          NaN -2150    NaN  NaN   NaN     NaN                 NaN   \n",
       "1     3          NaN -2000    NaN  NaN   NaN     NaN    NaN         18.0   \n",
       "2     2          Tsu -2000    NaN  NaN   NaN     NaN    NaN          NaN   \n",
       "3  5877          Tsu -1610    NaN  NaN   NaN     NaN    NaN          NaN   \n",
       "4     8          NaN -1566    NaN  NaN   NaN     NaN                 NaN   \n",
       "\n",
       "   EQ_PRIMARY  ...  TOTAL_MISSING  TOTAL_MISSING_DESCRIPTION  TOTAL_INJURIES  \\\n",
       "0         7.3  ...            NaN                        NaN             NaN   \n",
       "1         7.1  ...            NaN                        NaN             NaN   \n",
       "2         NaN  ...            NaN                        NaN             NaN   \n",
       "3         NaN  ...            NaN                        NaN             NaN   \n",
       "4         NaN  ...            NaN                        NaN             NaN   \n",
       "\n",
       "   TOTAL_INJURIES_DESCRIPTION  TOTAL_DAMAGE_MILLIONS_DOLLARS  \\\n",
       "0                         NaN                            NaN   \n",
       "1                         NaN                            NaN   \n",
       "2                         NaN                            NaN   \n",
       "3                         NaN                            NaN   \n",
       "4                         NaN                            NaN   \n",
       "\n",
       "   TOTAL_DAMAGE_DESCRIPTION  TOTAL_HOUSES_DESTROYED  \\\n",
       "0                       NaN                     NaN   \n",
       "1                       1.0                     NaN   \n",
       "2                       NaN                     NaN   \n",
       "3                       3.0                     NaN   \n",
       "4                       NaN                     NaN   \n",
       "\n",
       "  TOTAL_HOUSES_DESTROYED_DESCRIPTION TOTAL_HOUSES_DAMAGED  \\\n",
       "0                                NaN                  NaN   \n",
       "1                                1.0                  NaN   \n",
       "2                                NaN                  NaN   \n",
       "3                                NaN                  NaN   \n",
       "4                                NaN                  NaN   \n",
       "\n",
       "  TOTAL_HOUSES_DAMAGED_DESCRIPTION  \n",
       "0                              NaN  \n",
       "1                              NaN  \n",
       "2                              NaN  \n",
       "3                              NaN  \n",
       "4                              NaN  \n",
       "\n",
       "[5 rows x 47 columns]"
      ]
     },
     "execution_count": 4,
     "metadata": {},
     "output_type": "execute_result"
    }
   ],
   "source": [
    "earth.head()"
   ]
  },
  {
   "cell_type": "code",
   "execution_count": 5,
   "metadata": {},
   "outputs": [],
   "source": [
    "earth = earth[['DAY','MONTH','YEAR', 'LOCATION_NAME','COUNTRY','LATITUDE','LONGITUDE']] # Only relevant variables"
   ]
  },
  {
   "cell_type": "code",
   "execution_count": 6,
   "metadata": {},
   "outputs": [],
   "source": [
    "# Changing the column names to fit what the preorpocessing function needs\n",
    "earth.rename(columns={'DAY':'Day',\n",
    "                          'MONTH':'Month',\n",
    "                          'YEAR':'Year',\n",
    "                        'LOCATION_NAME':'Name',\n",
    "                        'COUNTRY':'Country',\n",
    "                         'LATITUDE':'Latitude',\n",
    "                         'LONGITUDE':'Longitude'}, \n",
    "                 inplace=True)"
   ]
  },
  {
   "cell_type": "code",
   "execution_count": 7,
   "metadata": {},
   "outputs": [
    {
     "data": {
      "text/html": [
       "<div>\n",
       "<style scoped>\n",
       "    .dataframe tbody tr th:only-of-type {\n",
       "        vertical-align: middle;\n",
       "    }\n",
       "\n",
       "    .dataframe tbody tr th {\n",
       "        vertical-align: top;\n",
       "    }\n",
       "\n",
       "    .dataframe thead th {\n",
       "        text-align: right;\n",
       "    }\n",
       "</style>\n",
       "<table border=\"1\" class=\"dataframe\">\n",
       "  <thead>\n",
       "    <tr style=\"text-align: right;\">\n",
       "      <th></th>\n",
       "      <th>Day</th>\n",
       "      <th>Month</th>\n",
       "      <th>Year</th>\n",
       "      <th>Name</th>\n",
       "      <th>Country</th>\n",
       "      <th>Latitude</th>\n",
       "      <th>Longitude</th>\n",
       "    </tr>\n",
       "  </thead>\n",
       "  <tbody>\n",
       "    <tr>\n",
       "      <th>0</th>\n",
       "      <td>NaN</td>\n",
       "      <td>NaN</td>\n",
       "      <td>-2150</td>\n",
       "      <td>JORDAN:  BAB-A-DARAA,AL-KARAK</td>\n",
       "      <td>JORDAN</td>\n",
       "      <td>31.100</td>\n",
       "      <td>35.500</td>\n",
       "    </tr>\n",
       "    <tr>\n",
       "      <th>1</th>\n",
       "      <td>NaN</td>\n",
       "      <td>NaN</td>\n",
       "      <td>-2000</td>\n",
       "      <td>TURKMENISTAN:  W</td>\n",
       "      <td>TURKMENISTAN</td>\n",
       "      <td>38.000</td>\n",
       "      <td>58.200</td>\n",
       "    </tr>\n",
       "    <tr>\n",
       "      <th>2</th>\n",
       "      <td>NaN</td>\n",
       "      <td>NaN</td>\n",
       "      <td>-2000</td>\n",
       "      <td>SYRIA:  UGARIT</td>\n",
       "      <td>SYRIA</td>\n",
       "      <td>35.683</td>\n",
       "      <td>35.800</td>\n",
       "    </tr>\n",
       "    <tr>\n",
       "      <th>3</th>\n",
       "      <td>NaN</td>\n",
       "      <td>NaN</td>\n",
       "      <td>-1610</td>\n",
       "      <td>GREECE:  THERA ISLAND (SANTORINI)</td>\n",
       "      <td>GREECE</td>\n",
       "      <td>36.400</td>\n",
       "      <td>25.400</td>\n",
       "    </tr>\n",
       "    <tr>\n",
       "      <th>4</th>\n",
       "      <td>NaN</td>\n",
       "      <td>NaN</td>\n",
       "      <td>-1566</td>\n",
       "      <td>ISRAEL:  ARIHA (JERICHO)</td>\n",
       "      <td>ISRAEL</td>\n",
       "      <td>31.500</td>\n",
       "      <td>35.300</td>\n",
       "    </tr>\n",
       "  </tbody>\n",
       "</table>\n",
       "</div>"
      ],
      "text/plain": [
       "   Day  Month  Year                               Name       Country  \\\n",
       "0  NaN    NaN -2150      JORDAN:  BAB-A-DARAA,AL-KARAK        JORDAN   \n",
       "1  NaN    NaN -2000                   TURKMENISTAN:  W  TURKMENISTAN   \n",
       "2  NaN    NaN -2000                     SYRIA:  UGARIT         SYRIA   \n",
       "3  NaN    NaN -1610  GREECE:  THERA ISLAND (SANTORINI)        GREECE   \n",
       "4  NaN    NaN -1566           ISRAEL:  ARIHA (JERICHO)        ISRAEL   \n",
       "\n",
       "   Latitude  Longitude  \n",
       "0    31.100     35.500  \n",
       "1    38.000     58.200  \n",
       "2    35.683     35.800  \n",
       "3    36.400     25.400  \n",
       "4    31.500     35.300  "
      ]
     },
     "execution_count": 7,
     "metadata": {},
     "output_type": "execute_result"
    }
   ],
   "source": [
    "earth.head()"
   ]
  },
  {
   "cell_type": "code",
   "execution_count": 8,
   "metadata": {},
   "outputs": [
    {
     "data": {
      "text/html": [
       "<div>\n",
       "<style scoped>\n",
       "    .dataframe tbody tr th:only-of-type {\n",
       "        vertical-align: middle;\n",
       "    }\n",
       "\n",
       "    .dataframe tbody tr th {\n",
       "        vertical-align: top;\n",
       "    }\n",
       "\n",
       "    .dataframe thead th {\n",
       "        text-align: right;\n",
       "    }\n",
       "</style>\n",
       "<table border=\"1\" class=\"dataframe\">\n",
       "  <thead>\n",
       "    <tr style=\"text-align: right;\">\n",
       "      <th></th>\n",
       "      <th>Day</th>\n",
       "      <th>Month</th>\n",
       "      <th>Year</th>\n",
       "      <th>Name</th>\n",
       "      <th>Country</th>\n",
       "      <th>Latitude</th>\n",
       "      <th>Longitude</th>\n",
       "    </tr>\n",
       "  </thead>\n",
       "  <tbody>\n",
       "    <tr>\n",
       "      <th>3548</th>\n",
       "      <td>19.0</td>\n",
       "      <td>1.0</td>\n",
       "      <td>1950</td>\n",
       "      <td>IRAN: BUSHIRE</td>\n",
       "      <td>IRAN</td>\n",
       "      <td>27.300</td>\n",
       "      <td>53.200</td>\n",
       "    </tr>\n",
       "    <tr>\n",
       "      <th>3549</th>\n",
       "      <td>30.0</td>\n",
       "      <td>1.0</td>\n",
       "      <td>1950</td>\n",
       "      <td>CHILE:  SOUTHERN</td>\n",
       "      <td>CHILE</td>\n",
       "      <td>-53.500</td>\n",
       "      <td>-71.500</td>\n",
       "    </tr>\n",
       "    <tr>\n",
       "      <th>3550</th>\n",
       "      <td>2.0</td>\n",
       "      <td>2.0</td>\n",
       "      <td>1950</td>\n",
       "      <td>CHINA:  YUNNAN PROVINCE</td>\n",
       "      <td>CHINA</td>\n",
       "      <td>21.700</td>\n",
       "      <td>100.100</td>\n",
       "    </tr>\n",
       "    <tr>\n",
       "      <th>3551</th>\n",
       "      <td>4.0</td>\n",
       "      <td>2.0</td>\n",
       "      <td>1950</td>\n",
       "      <td>TURKEY</td>\n",
       "      <td>TURKEY</td>\n",
       "      <td>40.000</td>\n",
       "      <td>40.000</td>\n",
       "    </tr>\n",
       "    <tr>\n",
       "      <th>3552</th>\n",
       "      <td>28.0</td>\n",
       "      <td>2.0</td>\n",
       "      <td>1950</td>\n",
       "      <td>RUSSIA:  SEA OF OKHOTSK</td>\n",
       "      <td>RUSSIA</td>\n",
       "      <td>46.000</td>\n",
       "      <td>144.000</td>\n",
       "    </tr>\n",
       "  </tbody>\n",
       "</table>\n",
       "</div>"
      ],
      "text/plain": [
       "       Day  Month  Year                     Name Country  Latitude  Longitude\n",
       "3548  19.0    1.0  1950            IRAN: BUSHIRE    IRAN    27.300     53.200\n",
       "3549  30.0    1.0  1950         CHILE:  SOUTHERN   CHILE   -53.500    -71.500\n",
       "3550   2.0    2.0  1950  CHINA:  YUNNAN PROVINCE   CHINA    21.700    100.100\n",
       "3551   4.0    2.0  1950                   TURKEY  TURKEY    40.000     40.000\n",
       "3552  28.0    2.0  1950  RUSSIA:  SEA OF OKHOTSK  RUSSIA    46.000    144.000"
      ]
     },
     "execution_count": 8,
     "metadata": {},
     "output_type": "execute_result"
    }
   ],
   "source": [
    "# For similar reasons as the volcano dataset, the model will only be trained on data from 1950. \n",
    "earth_1950= earth[earth['Year'] >= 1950]\n",
    "earth_1950.head()"
   ]
  },
  {
   "cell_type": "code",
   "execution_count": 9,
   "metadata": {},
   "outputs": [
    {
     "data": {
      "text/plain": [
       "(2648, 7)"
      ]
     },
     "execution_count": 9,
     "metadata": {},
     "output_type": "execute_result"
    }
   ],
   "source": [
    "earth_1950.shape"
   ]
  },
  {
   "cell_type": "code",
   "execution_count": 10,
   "metadata": {},
   "outputs": [
    {
     "data": {
      "text/plain": [
       "Day          2\n",
       "Month        0\n",
       "Year         0\n",
       "Name         0\n",
       "Country      0\n",
       "Latitude     2\n",
       "Longitude    2\n",
       "dtype: int64"
      ]
     },
     "execution_count": 10,
     "metadata": {},
     "output_type": "execute_result"
    }
   ],
   "source": [
    "earth_1950.isnull().sum()"
   ]
  },
  {
   "cell_type": "code",
   "execution_count": 11,
   "metadata": {},
   "outputs": [],
   "source": [
    "earth_1950.reset_index(drop=True, inplace=True)"
   ]
  },
  {
   "cell_type": "code",
   "execution_count": 12,
   "metadata": {},
   "outputs": [
    {
     "name": "stderr",
     "output_type": "stream",
     "text": [
      "/opt/conda/lib/python3.7/site-packages/pandas/core/frame.py:3997: SettingWithCopyWarning: \n",
      "A value is trying to be set on a copy of a slice from a DataFrame\n",
      "\n",
      "See the caveats in the documentation: https://pandas.pydata.org/pandas-docs/stable/user_guide/indexing.html#returning-a-view-versus-a-copy\n",
      "  errors=errors,\n"
     ]
    }
   ],
   "source": [
    "# The model could become biased if it's trained on data where some places have had not up to 2 disasters from 1950. \n",
    "# So, these will be removed from the data to be trained.\n",
    "\n",
    "name_counts = earth_1950['Name'].value_counts()\n",
    "\n",
    "for i in range(earth_1950.shape[0]):\n",
    "    if  name_counts[earth_1950.loc[i, 'Name']] <= 2: # Removed places with 2 or less occurences since 1950\n",
    "        earth_1950.drop(i, axis=0, inplace=True)"
   ]
  },
  {
   "cell_type": "code",
   "execution_count": 13,
   "metadata": {},
   "outputs": [
    {
     "data": {
      "text/html": [
       "<div>\n",
       "<style scoped>\n",
       "    .dataframe tbody tr th:only-of-type {\n",
       "        vertical-align: middle;\n",
       "    }\n",
       "\n",
       "    .dataframe tbody tr th {\n",
       "        vertical-align: top;\n",
       "    }\n",
       "\n",
       "    .dataframe thead th {\n",
       "        text-align: right;\n",
       "    }\n",
       "</style>\n",
       "<table border=\"1\" class=\"dataframe\">\n",
       "  <thead>\n",
       "    <tr style=\"text-align: right;\">\n",
       "      <th></th>\n",
       "      <th>Day</th>\n",
       "      <th>Month</th>\n",
       "      <th>Year</th>\n",
       "      <th>Name</th>\n",
       "      <th>Country</th>\n",
       "      <th>Latitude</th>\n",
       "      <th>Longitude</th>\n",
       "    </tr>\n",
       "  </thead>\n",
       "  <tbody>\n",
       "    <tr>\n",
       "      <th>1</th>\n",
       "      <td>30.0</td>\n",
       "      <td>1.0</td>\n",
       "      <td>1950</td>\n",
       "      <td>CHILE:  SOUTHERN</td>\n",
       "      <td>CHILE</td>\n",
       "      <td>-53.500</td>\n",
       "      <td>-71.500</td>\n",
       "    </tr>\n",
       "    <tr>\n",
       "      <th>2</th>\n",
       "      <td>2.0</td>\n",
       "      <td>2.0</td>\n",
       "      <td>1950</td>\n",
       "      <td>CHINA:  YUNNAN PROVINCE</td>\n",
       "      <td>CHINA</td>\n",
       "      <td>21.700</td>\n",
       "      <td>100.100</td>\n",
       "    </tr>\n",
       "    <tr>\n",
       "      <th>3</th>\n",
       "      <td>4.0</td>\n",
       "      <td>2.0</td>\n",
       "      <td>1950</td>\n",
       "      <td>TURKEY</td>\n",
       "      <td>TURKEY</td>\n",
       "      <td>40.000</td>\n",
       "      <td>40.000</td>\n",
       "    </tr>\n",
       "    <tr>\n",
       "      <th>8</th>\n",
       "      <td>16.0</td>\n",
       "      <td>5.0</td>\n",
       "      <td>1950</td>\n",
       "      <td>PERU</td>\n",
       "      <td>PERU</td>\n",
       "      <td>-15.000</td>\n",
       "      <td>-69.500</td>\n",
       "    </tr>\n",
       "    <tr>\n",
       "      <th>13</th>\n",
       "      <td>5.0</td>\n",
       "      <td>8.0</td>\n",
       "      <td>1950</td>\n",
       "      <td>ECUADOR</td>\n",
       "      <td>ECUADOR</td>\n",
       "      <td>-1.500</td>\n",
       "      <td>-78.200</td>\n",
       "    </tr>\n",
       "  </tbody>\n",
       "</table>\n",
       "</div>"
      ],
      "text/plain": [
       "     Day  Month  Year                     Name  Country  Latitude  Longitude\n",
       "1   30.0    1.0  1950         CHILE:  SOUTHERN    CHILE   -53.500    -71.500\n",
       "2    2.0    2.0  1950  CHINA:  YUNNAN PROVINCE    CHINA    21.700    100.100\n",
       "3    4.0    2.0  1950                   TURKEY   TURKEY    40.000     40.000\n",
       "8   16.0    5.0  1950                     PERU     PERU   -15.000    -69.500\n",
       "13   5.0    8.0  1950                  ECUADOR  ECUADOR    -1.500    -78.200"
      ]
     },
     "execution_count": 13,
     "metadata": {},
     "output_type": "execute_result"
    }
   ],
   "source": [
    "earth_1950.head()"
   ]
  },
  {
   "cell_type": "code",
   "execution_count": 14,
   "metadata": {},
   "outputs": [],
   "source": [
    "# preprocessed_earth = preprocessing_dataframe(earth_1950) # Already done the preprocessing and saved the preprocessed data"
   ]
  },
  {
   "cell_type": "code",
   "execution_count": 15,
   "metadata": {},
   "outputs": [],
   "source": [
    "#preprocessed_earth.to_csv('preprocessed_earth.csv', index=False)"
   ]
  },
  {
   "cell_type": "code",
   "execution_count": 16,
   "metadata": {},
   "outputs": [],
   "source": [
    "preprocessed_earth = pd.read_csv('preprocessed_earth.csv')"
   ]
  },
  {
   "cell_type": "code",
   "execution_count": 17,
   "metadata": {},
   "outputs": [
    {
     "data": {
      "text/html": [
       "<div>\n",
       "<style scoped>\n",
       "    .dataframe tbody tr th:only-of-type {\n",
       "        vertical-align: middle;\n",
       "    }\n",
       "\n",
       "    .dataframe tbody tr th {\n",
       "        vertical-align: top;\n",
       "    }\n",
       "\n",
       "    .dataframe thead th {\n",
       "        text-align: right;\n",
       "    }\n",
       "</style>\n",
       "<table border=\"1\" class=\"dataframe\">\n",
       "  <thead>\n",
       "    <tr style=\"text-align: right;\">\n",
       "      <th></th>\n",
       "      <th>Year</th>\n",
       "      <th>Latitude</th>\n",
       "      <th>Longitude</th>\n",
       "      <th>Month</th>\n",
       "      <th>Day</th>\n",
       "      <th>target</th>\n",
       "    </tr>\n",
       "  </thead>\n",
       "  <tbody>\n",
       "    <tr>\n",
       "      <th>0</th>\n",
       "      <td>1950</td>\n",
       "      <td>-53.5</td>\n",
       "      <td>-71.5</td>\n",
       "      <td>1</td>\n",
       "      <td>1</td>\n",
       "      <td>0</td>\n",
       "    </tr>\n",
       "    <tr>\n",
       "      <th>1</th>\n",
       "      <td>1950</td>\n",
       "      <td>-53.5</td>\n",
       "      <td>-71.5</td>\n",
       "      <td>1</td>\n",
       "      <td>2</td>\n",
       "      <td>0</td>\n",
       "    </tr>\n",
       "    <tr>\n",
       "      <th>2</th>\n",
       "      <td>1950</td>\n",
       "      <td>-53.5</td>\n",
       "      <td>-71.5</td>\n",
       "      <td>1</td>\n",
       "      <td>3</td>\n",
       "      <td>0</td>\n",
       "    </tr>\n",
       "    <tr>\n",
       "      <th>3</th>\n",
       "      <td>1950</td>\n",
       "      <td>-53.5</td>\n",
       "      <td>-71.5</td>\n",
       "      <td>1</td>\n",
       "      <td>4</td>\n",
       "      <td>0</td>\n",
       "    </tr>\n",
       "    <tr>\n",
       "      <th>4</th>\n",
       "      <td>1950</td>\n",
       "      <td>-53.5</td>\n",
       "      <td>-71.5</td>\n",
       "      <td>1</td>\n",
       "      <td>5</td>\n",
       "      <td>0</td>\n",
       "    </tr>\n",
       "  </tbody>\n",
       "</table>\n",
       "</div>"
      ],
      "text/plain": [
       "   Year  Latitude  Longitude  Month  Day  target\n",
       "0  1950     -53.5      -71.5      1    1       0\n",
       "1  1950     -53.5      -71.5      1    2       0\n",
       "2  1950     -53.5      -71.5      1    3       0\n",
       "3  1950     -53.5      -71.5      1    4       0\n",
       "4  1950     -53.5      -71.5      1    5       0"
      ]
     },
     "execution_count": 17,
     "metadata": {},
     "output_type": "execute_result"
    }
   ],
   "source": [
    "preprocessed_earth.head()"
   ]
  },
  {
   "cell_type": "code",
   "execution_count": 18,
   "metadata": {},
   "outputs": [],
   "source": [
    "# Taking out test data before upsampling\n",
    "train_data = preprocessed_earth[preprocessed_earth['Year'] < 2019] # Training the model from 1980-2018\n",
    "test_data = preprocessed_earth[preprocessed_earth['Year'] >= 2019]\n",
    "test_data = test_data[test_data['Year'] < 2020] # Testing on 2019 only since there isn't enough data on 2020"
   ]
  },
  {
   "cell_type": "code",
   "execution_count": 19,
   "metadata": {},
   "outputs": [
    {
     "data": {
      "text/plain": [
       "609"
      ]
     },
     "execution_count": 19,
     "metadata": {},
     "output_type": "execute_result"
    }
   ],
   "source": [
    "len(train_data[train_data['target'] == 1])"
   ]
  },
  {
   "cell_type": "code",
   "execution_count": 20,
   "metadata": {},
   "outputs": [
    {
     "data": {
      "text/plain": [
       "3048833"
      ]
     },
     "execution_count": 20,
     "metadata": {},
     "output_type": "execute_result"
    }
   ],
   "source": [
    "num_zero_targets = len(train_data[train_data['target'] == 0])\n",
    "num_zero_targets"
   ]
  },
  {
   "cell_type": "code",
   "execution_count": 21,
   "metadata": {},
   "outputs": [],
   "source": [
    "minority  = train_data[train_data['target'] == 1]\n",
    "majority = train_data[train_data['target'] == 0]"
   ]
  },
  {
   "cell_type": "code",
   "execution_count": 22,
   "metadata": {},
   "outputs": [
    {
     "data": {
      "text/html": [
       "<div>\n",
       "<style scoped>\n",
       "    .dataframe tbody tr th:only-of-type {\n",
       "        vertical-align: middle;\n",
       "    }\n",
       "\n",
       "    .dataframe tbody tr th {\n",
       "        vertical-align: top;\n",
       "    }\n",
       "\n",
       "    .dataframe thead th {\n",
       "        text-align: right;\n",
       "    }\n",
       "</style>\n",
       "<table border=\"1\" class=\"dataframe\">\n",
       "  <thead>\n",
       "    <tr style=\"text-align: right;\">\n",
       "      <th></th>\n",
       "      <th>Year</th>\n",
       "      <th>Latitude</th>\n",
       "      <th>Longitude</th>\n",
       "      <th>Month</th>\n",
       "      <th>Day</th>\n",
       "      <th>target</th>\n",
       "    </tr>\n",
       "  </thead>\n",
       "  <tbody>\n",
       "    <tr>\n",
       "      <th>29</th>\n",
       "      <td>1950</td>\n",
       "      <td>-53.5</td>\n",
       "      <td>-71.5</td>\n",
       "      <td>1</td>\n",
       "      <td>30</td>\n",
       "      <td>1</td>\n",
       "    </tr>\n",
       "    <tr>\n",
       "      <th>397</th>\n",
       "      <td>1950</td>\n",
       "      <td>21.7</td>\n",
       "      <td>100.1</td>\n",
       "      <td>2</td>\n",
       "      <td>2</td>\n",
       "      <td>1</td>\n",
       "    </tr>\n",
       "    <tr>\n",
       "      <th>620</th>\n",
       "      <td>1950</td>\n",
       "      <td>21.7</td>\n",
       "      <td>100.1</td>\n",
       "      <td>9</td>\n",
       "      <td>13</td>\n",
       "      <td>1</td>\n",
       "    </tr>\n",
       "    <tr>\n",
       "      <th>764</th>\n",
       "      <td>1950</td>\n",
       "      <td>40.0</td>\n",
       "      <td>40.0</td>\n",
       "      <td>2</td>\n",
       "      <td>4</td>\n",
       "      <td>1</td>\n",
       "    </tr>\n",
       "    <tr>\n",
       "      <th>1230</th>\n",
       "      <td>1950</td>\n",
       "      <td>-15.0</td>\n",
       "      <td>-69.5</td>\n",
       "      <td>5</td>\n",
       "      <td>16</td>\n",
       "      <td>1</td>\n",
       "    </tr>\n",
       "  </tbody>\n",
       "</table>\n",
       "</div>"
      ],
      "text/plain": [
       "      Year  Latitude  Longitude  Month  Day  target\n",
       "29    1950     -53.5      -71.5      1   30       1\n",
       "397   1950      21.7      100.1      2    2       1\n",
       "620   1950      21.7      100.1      9   13       1\n",
       "764   1950      40.0       40.0      2    4       1\n",
       "1230  1950     -15.0      -69.5      5   16       1"
      ]
     },
     "execution_count": 22,
     "metadata": {},
     "output_type": "execute_result"
    }
   ],
   "source": [
    "minority.head()"
   ]
  },
  {
   "cell_type": "code",
   "execution_count": 23,
   "metadata": {},
   "outputs": [
    {
     "data": {
      "text/html": [
       "<div>\n",
       "<style scoped>\n",
       "    .dataframe tbody tr th:only-of-type {\n",
       "        vertical-align: middle;\n",
       "    }\n",
       "\n",
       "    .dataframe tbody tr th {\n",
       "        vertical-align: top;\n",
       "    }\n",
       "\n",
       "    .dataframe thead th {\n",
       "        text-align: right;\n",
       "    }\n",
       "</style>\n",
       "<table border=\"1\" class=\"dataframe\">\n",
       "  <thead>\n",
       "    <tr style=\"text-align: right;\">\n",
       "      <th></th>\n",
       "      <th>Year</th>\n",
       "      <th>Latitude</th>\n",
       "      <th>Longitude</th>\n",
       "      <th>Month</th>\n",
       "      <th>Day</th>\n",
       "      <th>target</th>\n",
       "    </tr>\n",
       "  </thead>\n",
       "  <tbody>\n",
       "    <tr>\n",
       "      <th>0</th>\n",
       "      <td>1950</td>\n",
       "      <td>-53.5</td>\n",
       "      <td>-71.5</td>\n",
       "      <td>1</td>\n",
       "      <td>1</td>\n",
       "      <td>0</td>\n",
       "    </tr>\n",
       "    <tr>\n",
       "      <th>1</th>\n",
       "      <td>1950</td>\n",
       "      <td>-53.5</td>\n",
       "      <td>-71.5</td>\n",
       "      <td>1</td>\n",
       "      <td>2</td>\n",
       "      <td>0</td>\n",
       "    </tr>\n",
       "    <tr>\n",
       "      <th>2</th>\n",
       "      <td>1950</td>\n",
       "      <td>-53.5</td>\n",
       "      <td>-71.5</td>\n",
       "      <td>1</td>\n",
       "      <td>3</td>\n",
       "      <td>0</td>\n",
       "    </tr>\n",
       "    <tr>\n",
       "      <th>3</th>\n",
       "      <td>1950</td>\n",
       "      <td>-53.5</td>\n",
       "      <td>-71.5</td>\n",
       "      <td>1</td>\n",
       "      <td>4</td>\n",
       "      <td>0</td>\n",
       "    </tr>\n",
       "    <tr>\n",
       "      <th>4</th>\n",
       "      <td>1950</td>\n",
       "      <td>-53.5</td>\n",
       "      <td>-71.5</td>\n",
       "      <td>1</td>\n",
       "      <td>5</td>\n",
       "      <td>0</td>\n",
       "    </tr>\n",
       "  </tbody>\n",
       "</table>\n",
       "</div>"
      ],
      "text/plain": [
       "   Year  Latitude  Longitude  Month  Day  target\n",
       "0  1950     -53.5      -71.5      1    1       0\n",
       "1  1950     -53.5      -71.5      1    2       0\n",
       "2  1950     -53.5      -71.5      1    3       0\n",
       "3  1950     -53.5      -71.5      1    4       0\n",
       "4  1950     -53.5      -71.5      1    5       0"
      ]
     },
     "execution_count": 23,
     "metadata": {},
     "output_type": "execute_result"
    }
   ],
   "source": [
    "majority.head()"
   ]
  },
  {
   "cell_type": "code",
   "execution_count": 24,
   "metadata": {},
   "outputs": [],
   "source": [
    "from sklearn.utils import resample"
   ]
  },
  {
   "cell_type": "code",
   "execution_count": 25,
   "metadata": {},
   "outputs": [],
   "source": [
    "# Basic upsampling minority class\n",
    "min_upsamp = resample(minority, replace=True, n_samples=num_zero_targets, random_state=1) "
   ]
  },
  {
   "cell_type": "code",
   "execution_count": 26,
   "metadata": {},
   "outputs": [
    {
     "data": {
      "text/plain": [
       "(3048833, 6)"
      ]
     },
     "execution_count": 26,
     "metadata": {},
     "output_type": "execute_result"
    }
   ],
   "source": [
    "min_upsamp.shape"
   ]
  },
  {
   "cell_type": "code",
   "execution_count": 27,
   "metadata": {},
   "outputs": [
    {
     "data": {
      "text/html": [
       "<div>\n",
       "<style scoped>\n",
       "    .dataframe tbody tr th:only-of-type {\n",
       "        vertical-align: middle;\n",
       "    }\n",
       "\n",
       "    .dataframe tbody tr th {\n",
       "        vertical-align: top;\n",
       "    }\n",
       "\n",
       "    .dataframe thead th {\n",
       "        text-align: right;\n",
       "    }\n",
       "</style>\n",
       "<table border=\"1\" class=\"dataframe\">\n",
       "  <thead>\n",
       "    <tr style=\"text-align: right;\">\n",
       "      <th></th>\n",
       "      <th>Year</th>\n",
       "      <th>Latitude</th>\n",
       "      <th>Longitude</th>\n",
       "      <th>Month</th>\n",
       "      <th>Day</th>\n",
       "      <th>target</th>\n",
       "    </tr>\n",
       "  </thead>\n",
       "  <tbody>\n",
       "    <tr>\n",
       "      <th>142446</th>\n",
       "      <td>1953</td>\n",
       "      <td>-22.10</td>\n",
       "      <td>-68.70</td>\n",
       "      <td>12</td>\n",
       "      <td>7</td>\n",
       "      <td>1</td>\n",
       "    </tr>\n",
       "    <tr>\n",
       "      <th>912809</th>\n",
       "      <td>1970</td>\n",
       "      <td>57.50</td>\n",
       "      <td>-153.90</td>\n",
       "      <td>3</td>\n",
       "      <td>11</td>\n",
       "      <td>1</td>\n",
       "    </tr>\n",
       "    <tr>\n",
       "      <th>318062</th>\n",
       "      <td>1957</td>\n",
       "      <td>-18.30</td>\n",
       "      <td>178.20</td>\n",
       "      <td>9</td>\n",
       "      <td>28</td>\n",
       "      <td>1</td>\n",
       "    </tr>\n",
       "    <tr>\n",
       "      <th>553713</th>\n",
       "      <td>1962</td>\n",
       "      <td>43.30</td>\n",
       "      <td>17.10</td>\n",
       "      <td>1</td>\n",
       "      <td>11</td>\n",
       "      <td>1</td>\n",
       "    </tr>\n",
       "    <tr>\n",
       "      <th>507357</th>\n",
       "      <td>1961</td>\n",
       "      <td>45.89</td>\n",
       "      <td>151.11</td>\n",
       "      <td>1</td>\n",
       "      <td>10</td>\n",
       "      <td>1</td>\n",
       "    </tr>\n",
       "  </tbody>\n",
       "</table>\n",
       "</div>"
      ],
      "text/plain": [
       "        Year  Latitude  Longitude  Month  Day  target\n",
       "142446  1953    -22.10     -68.70     12    7       1\n",
       "912809  1970     57.50    -153.90      3   11       1\n",
       "318062  1957    -18.30     178.20      9   28       1\n",
       "553713  1962     43.30      17.10      1   11       1\n",
       "507357  1961     45.89     151.11      1   10       1"
      ]
     },
     "execution_count": 27,
     "metadata": {},
     "output_type": "execute_result"
    }
   ],
   "source": [
    "min_upsamp.head()"
   ]
  },
  {
   "cell_type": "code",
   "execution_count": 28,
   "metadata": {},
   "outputs": [],
   "source": [
    "upsampled_data = pd.concat([majority, min_upsamp])"
   ]
  },
  {
   "cell_type": "code",
   "execution_count": 29,
   "metadata": {},
   "outputs": [],
   "source": [
    "upsampled_data = upsampled_data.sample(frac=1).reset_index(drop=True) # to shuffle the dataframe"
   ]
  },
  {
   "cell_type": "code",
   "execution_count": 30,
   "metadata": {},
   "outputs": [
    {
     "data": {
      "text/html": [
       "<div>\n",
       "<style scoped>\n",
       "    .dataframe tbody tr th:only-of-type {\n",
       "        vertical-align: middle;\n",
       "    }\n",
       "\n",
       "    .dataframe tbody tr th {\n",
       "        vertical-align: top;\n",
       "    }\n",
       "\n",
       "    .dataframe thead th {\n",
       "        text-align: right;\n",
       "    }\n",
       "</style>\n",
       "<table border=\"1\" class=\"dataframe\">\n",
       "  <thead>\n",
       "    <tr style=\"text-align: right;\">\n",
       "      <th></th>\n",
       "      <th>Year</th>\n",
       "      <th>Latitude</th>\n",
       "      <th>Longitude</th>\n",
       "      <th>Month</th>\n",
       "      <th>Day</th>\n",
       "      <th>target</th>\n",
       "    </tr>\n",
       "  </thead>\n",
       "  <tbody>\n",
       "    <tr>\n",
       "      <th>0</th>\n",
       "      <td>2010</td>\n",
       "      <td>37.000</td>\n",
       "      <td>-3.500</td>\n",
       "      <td>5</td>\n",
       "      <td>16</td>\n",
       "      <td>0</td>\n",
       "    </tr>\n",
       "    <tr>\n",
       "      <th>1</th>\n",
       "      <td>1982</td>\n",
       "      <td>39.000</td>\n",
       "      <td>101.300</td>\n",
       "      <td>4</td>\n",
       "      <td>14</td>\n",
       "      <td>1</td>\n",
       "    </tr>\n",
       "    <tr>\n",
       "      <th>2</th>\n",
       "      <td>1968</td>\n",
       "      <td>38.500</td>\n",
       "      <td>-28.800</td>\n",
       "      <td>2</td>\n",
       "      <td>28</td>\n",
       "      <td>1</td>\n",
       "    </tr>\n",
       "    <tr>\n",
       "      <th>3</th>\n",
       "      <td>1987</td>\n",
       "      <td>40.525</td>\n",
       "      <td>143.419</td>\n",
       "      <td>7</td>\n",
       "      <td>21</td>\n",
       "      <td>0</td>\n",
       "    </tr>\n",
       "    <tr>\n",
       "      <th>4</th>\n",
       "      <td>2010</td>\n",
       "      <td>-42.963</td>\n",
       "      <td>171.658</td>\n",
       "      <td>9</td>\n",
       "      <td>6</td>\n",
       "      <td>1</td>\n",
       "    </tr>\n",
       "    <tr>\n",
       "      <th>...</th>\n",
       "      <td>...</td>\n",
       "      <td>...</td>\n",
       "      <td>...</td>\n",
       "      <td>...</td>\n",
       "      <td>...</td>\n",
       "      <td>...</td>\n",
       "    </tr>\n",
       "    <tr>\n",
       "      <th>6097661</th>\n",
       "      <td>2011</td>\n",
       "      <td>-16.390</td>\n",
       "      <td>-72.658</td>\n",
       "      <td>5</td>\n",
       "      <td>22</td>\n",
       "      <td>0</td>\n",
       "    </tr>\n",
       "    <tr>\n",
       "      <th>6097662</th>\n",
       "      <td>1954</td>\n",
       "      <td>36.730</td>\n",
       "      <td>55.040</td>\n",
       "      <td>11</td>\n",
       "      <td>2</td>\n",
       "      <td>0</td>\n",
       "    </tr>\n",
       "    <tr>\n",
       "      <th>6097663</th>\n",
       "      <td>2002</td>\n",
       "      <td>32.913</td>\n",
       "      <td>75.633</td>\n",
       "      <td>2</td>\n",
       "      <td>22</td>\n",
       "      <td>0</td>\n",
       "    </tr>\n",
       "    <tr>\n",
       "      <th>6097664</th>\n",
       "      <td>1986</td>\n",
       "      <td>-59.100</td>\n",
       "      <td>157.800</td>\n",
       "      <td>2</td>\n",
       "      <td>21</td>\n",
       "      <td>0</td>\n",
       "    </tr>\n",
       "    <tr>\n",
       "      <th>6097665</th>\n",
       "      <td>2016</td>\n",
       "      <td>-16.390</td>\n",
       "      <td>-72.658</td>\n",
       "      <td>8</td>\n",
       "      <td>15</td>\n",
       "      <td>1</td>\n",
       "    </tr>\n",
       "  </tbody>\n",
       "</table>\n",
       "<p>6097666 rows × 6 columns</p>\n",
       "</div>"
      ],
      "text/plain": [
       "         Year  Latitude  Longitude  Month  Day  target\n",
       "0        2010    37.000     -3.500      5   16       0\n",
       "1        1982    39.000    101.300      4   14       1\n",
       "2        1968    38.500    -28.800      2   28       1\n",
       "3        1987    40.525    143.419      7   21       0\n",
       "4        2010   -42.963    171.658      9    6       1\n",
       "...       ...       ...        ...    ...  ...     ...\n",
       "6097661  2011   -16.390    -72.658      5   22       0\n",
       "6097662  1954    36.730     55.040     11    2       0\n",
       "6097663  2002    32.913     75.633      2   22       0\n",
       "6097664  1986   -59.100    157.800      2   21       0\n",
       "6097665  2016   -16.390    -72.658      8   15       1\n",
       "\n",
       "[6097666 rows x 6 columns]"
      ]
     },
     "execution_count": 30,
     "metadata": {},
     "output_type": "execute_result"
    }
   ],
   "source": [
    "upsampled_data"
   ]
  },
  {
   "cell_type": "code",
   "execution_count": 31,
   "metadata": {},
   "outputs": [],
   "source": [
    "x_train = upsampled_data.iloc[:, 0:5]\n",
    "y_train = upsampled_data.iloc[:, 5]"
   ]
  },
  {
   "cell_type": "code",
   "execution_count": 32,
   "metadata": {},
   "outputs": [],
   "source": [
    "x_test = test_data.drop(columns='target')\n",
    "y_test = test_data['target']"
   ]
  },
  {
   "cell_type": "code",
   "execution_count": 33,
   "metadata": {},
   "outputs": [],
   "source": [
    "from sklearn.preprocessing import StandardScaler\n",
    "sc = StandardScaler()\n",
    "scaled_x_train = sc.fit_transform(x_train) # Scaling train_data\n",
    "scaled_x_test =  sc.transform(x_test) # Scaling test_data"
   ]
  },
  {
   "cell_type": "markdown",
   "metadata": {},
   "source": [
    "## Training the Model"
   ]
  },
  {
   "cell_type": "code",
   "execution_count": 34,
   "metadata": {},
   "outputs": [
    {
     "data": {
      "text/plain": [
       "RandomForestClassifier(criterion='entropy', n_estimators=10, random_state=0)"
      ]
     },
     "execution_count": 34,
     "metadata": {},
     "output_type": "execute_result"
    }
   ],
   "source": [
    "# Using Random Forest\n",
    "\n",
    "from sklearn.ensemble import RandomForestClassifier\n",
    "classifier = RandomForestClassifier(n_estimators = 10, criterion= 'entropy' , random_state =0)\n",
    "classifier.fit(scaled_x_train, y_train)"
   ]
  },
  {
   "cell_type": "code",
   "execution_count": 35,
   "metadata": {},
   "outputs": [],
   "source": [
    "y_pred = classifier.predict(scaled_x_test)"
   ]
  },
  {
   "cell_type": "code",
   "execution_count": 36,
   "metadata": {},
   "outputs": [],
   "source": [
    "from sklearn.metrics import confusion_matrix, classification_report\n",
    "from sklearn.metrics import accuracy_score"
   ]
  },
  {
   "cell_type": "code",
   "execution_count": 37,
   "metadata": {},
   "outputs": [],
   "source": [
    "cm = confusion_matrix(y_test, y_pred)"
   ]
  },
  {
   "cell_type": "code",
   "execution_count": 38,
   "metadata": {
    "scrolled": true
   },
   "outputs": [
    {
     "data": {
      "text/plain": [
       "array([[44132,    20],\n",
       "       [   13,     0]])"
      ]
     },
     "execution_count": 38,
     "metadata": {},
     "output_type": "execute_result"
    }
   ],
   "source": [
    "cm"
   ]
  },
  {
   "cell_type": "code",
   "execution_count": 39,
   "metadata": {},
   "outputs": [
    {
     "name": "stdout",
     "output_type": "stream",
     "text": [
      "0.999252801992528\n"
     ]
    }
   ],
   "source": [
    "print(accuracy_score(y_pred, y_test))"
   ]
  },
  {
   "cell_type": "code",
   "execution_count": 40,
   "metadata": {},
   "outputs": [
    {
     "data": {
      "text/plain": [
       "[Year         2019.00\n",
       " Latitude       42.15\n",
       " Longitude     143.85\n",
       " Month           9.00\n",
       " Day             5.00\n",
       " Name: 3056989, dtype: float64,\n",
       " Year         2019.0\n",
       " Latitude      -18.3\n",
       " Longitude     178.2\n",
       " Month           8.0\n",
       " Day            19.0\n",
       " Name: 3058067, dtype: float64,\n",
       " Year         2019.0\n",
       " Latitude      -18.3\n",
       " Longitude     178.2\n",
       " Month           9.0\n",
       " Day             6.0\n",
       " Name: 3058085, dtype: float64,\n",
       " Year         2019.0\n",
       " Latitude       24.5\n",
       " Longitude     122.2\n",
       " Month           2.0\n",
       " Day             6.0\n",
       " Name: 3076488, dtype: float64,\n",
       " Year         2019.000\n",
       " Latitude       16.010\n",
       " Longitude     -96.591\n",
       " Month           2.000\n",
       " Day            16.000\n",
       " Name: 3081973, dtype: float64,\n",
       " Year         2019.000\n",
       " Latitude       34.594\n",
       " Longitude      47.454\n",
       " Month           1.000\n",
       " Day             6.000\n",
       " Name: 3087042, dtype: float64,\n",
       " Year         2019.000\n",
       " Latitude       34.594\n",
       " Longitude      47.454\n",
       " Month           4.000\n",
       " Day             1.000\n",
       " Name: 3087127, dtype: float64,\n",
       " Year         2019.000\n",
       " Latitude       34.594\n",
       " Longitude      47.454\n",
       " Month           7.000\n",
       " Day            22.000\n",
       " Name: 3087239, dtype: float64,\n",
       " Year         2019.000\n",
       " Latitude       34.594\n",
       " Longitude      47.454\n",
       " Month           8.000\n",
       " Day            25.000\n",
       " Name: 3087273, dtype: float64,\n",
       " Year         2019.000\n",
       " Latitude      -22.107\n",
       " Longitude     169.350\n",
       " Month           8.000\n",
       " Day            29.000\n",
       " Name: 3088007, dtype: float64,\n",
       " Year         2019.000\n",
       " Latitude      -22.107\n",
       " Longitude     169.350\n",
       " Month          10.000\n",
       " Day            16.000\n",
       " Name: 3088055, dtype: float64,\n",
       " Year         2019.000\n",
       " Latitude      -22.107\n",
       " Longitude     169.350\n",
       " Month          12.000\n",
       " Day             5.000\n",
       " Name: 3088105, dtype: float64,\n",
       " Year         2019.000\n",
       " Latitude      -21.324\n",
       " Longitude      33.583\n",
       " Month          12.000\n",
       " Day            22.000\n",
       " Name: 3090312, dtype: float64,\n",
       " Year         2019.000\n",
       " Latitude       28.412\n",
       " Longitude      59.180\n",
       " Month           9.000\n",
       " Day             7.000\n",
       " Name: 3092031, dtype: float64,\n",
       " Year         2019.000\n",
       " Latitude       -8.305\n",
       " Longitude     116.058\n",
       " Month           7.000\n",
       " Day            28.000\n",
       " Name: 3092355, dtype: float64,\n",
       " Year         2019.000\n",
       " Latitude       -8.305\n",
       " Longitude     116.058\n",
       " Month           8.000\n",
       " Day             5.000\n",
       " Name: 3092363, dtype: float64,\n",
       " Year         2019.000\n",
       " Latitude       -8.305\n",
       " Longitude     116.058\n",
       " Month           8.000\n",
       " Day             9.000\n",
       " Name: 3092367, dtype: float64,\n",
       " Year         2019.000\n",
       " Latitude       -8.305\n",
       " Longitude     116.058\n",
       " Month           8.000\n",
       " Day            19.000\n",
       " Name: 3092377, dtype: float64,\n",
       " Year         2019.000\n",
       " Latitude        8.477\n",
       " Longitude     -71.365\n",
       " Month           4.000\n",
       " Day             3.000\n",
       " Name: 3092604, dtype: float64,\n",
       " Year         2019.000\n",
       " Latitude       28.264\n",
       " Longitude     104.991\n",
       " Month          12.000\n",
       " Day            16.000\n",
       " Name: 3093591, dtype: float64]"
      ]
     },
     "execution_count": 40,
     "metadata": {},
     "output_type": "execute_result"
    }
   ],
   "source": [
    "pred_dates = [] # List to store predicted dates a disaster will happen\n",
    "for i in range(len(y_pred)):\n",
    "    if y_pred[i] == 1:\n",
    "        pred_dates.append(x_test.iloc[i])\n",
    "pred_dates # Dates and places that the model predicted disasters will happen"
   ]
  },
  {
   "cell_type": "code",
   "execution_count": 41,
   "metadata": {},
   "outputs": [
    {
     "data": {
      "text/plain": [
       "[Year         2019.0\n",
       " Latitude       22.5\n",
       " Longitude     109.5\n",
       " Month          11.0\n",
       " Day            25.0\n",
       " Name: 3069115, dtype: float64,\n",
       " Year         2019.00\n",
       " Latitude       24.78\n",
       " Longitude     122.70\n",
       " Month           8.00\n",
       " Day             7.00\n",
       " Name: 3070100, dtype: float64,\n",
       " Year         2019.0\n",
       " Latitude       24.5\n",
       " Longitude     122.2\n",
       " Month           4.0\n",
       " Day            18.0\n",
       " Name: 3076559, dtype: float64,\n",
       " Year         2019.000\n",
       " Latitude      -16.390\n",
       " Longitude     -72.658\n",
       " Month           3.000\n",
       " Day             1.000\n",
       " Name: 3082351, dtype: float64,\n",
       " Year         2019.000\n",
       " Latitude        8.337\n",
       " Longitude     126.729\n",
       " Month          10.000\n",
       " Day            16.000\n",
       " Name: 3085135, dtype: float64,\n",
       " Year         2019.000\n",
       " Latitude        8.337\n",
       " Longitude     126.729\n",
       " Month          10.000\n",
       " Day            29.000\n",
       " Name: 3085148, dtype: float64,\n",
       " Year         2019.000\n",
       " Latitude        1.065\n",
       " Longitude     126.282\n",
       " Month           7.000\n",
       " Day            14.000\n",
       " Name: 3090881, dtype: float64,\n",
       " Year         2019.000\n",
       " Latitude        1.065\n",
       " Longitude     126.282\n",
       " Month          11.000\n",
       " Day            14.000\n",
       " Name: 3091004, dtype: float64,\n",
       " Year         2019.000\n",
       " Latitude       -8.305\n",
       " Longitude     116.058\n",
       " Month           3.000\n",
       " Day            17.000\n",
       " Name: 3092222, dtype: float64,\n",
       " Year         2019.000\n",
       " Latitude       -3.745\n",
       " Longitude     127.752\n",
       " Month           9.000\n",
       " Day            25.000\n",
       " Name: 3093144, dtype: float64,\n",
       " Year         2019.000\n",
       " Latitude       -3.745\n",
       " Longitude     127.752\n",
       " Month          11.000\n",
       " Day            12.000\n",
       " Name: 3093192, dtype: float64,\n",
       " Year         2019.000\n",
       " Latitude       28.264\n",
       " Longitude     104.991\n",
       " Month           1.000\n",
       " Day             3.000\n",
       " Name: 3093244, dtype: float64,\n",
       " Year         2019.000\n",
       " Latitude       28.264\n",
       " Longitude     104.991\n",
       " Month           6.000\n",
       " Day            17.000\n",
       " Name: 3093409, dtype: float64]"
      ]
     },
     "execution_count": 41,
     "metadata": {},
     "output_type": "execute_result"
    }
   ],
   "source": [
    "actual_dates = []\n",
    "test_list = y_test.to_list()\n",
    "for i in range(len(test_list)):\n",
    "    if test_list[i] == 1:\n",
    "        actual_dates.append(x_test.iloc[i])\n",
    "actual_dates # Dates and places that disasters actually happened. Substantial differences but that's what you get from a baseline model I guess"
   ]
  },
  {
   "cell_type": "code",
   "execution_count": 42,
   "metadata": {},
   "outputs": [],
   "source": [
    "from sklearn.metrics import roc_auc_score"
   ]
  },
  {
   "cell_type": "code",
   "execution_count": 43,
   "metadata": {},
   "outputs": [],
   "source": [
    "# Predict class probabilities\n",
    "y_pred_proba = classifier.predict_proba(scaled_x_test)\n",
    " \n",
    "# Keep only the positive class\n",
    "y_pred_proba = [y[1] for y in y_pred_proba]"
   ]
  },
  {
   "cell_type": "code",
   "execution_count": 44,
   "metadata": {},
   "outputs": [
    {
     "name": "stdout",
     "output_type": "stream",
     "text": [
      "0.4988788729842363\n"
     ]
    }
   ],
   "source": [
    "print(roc_auc_score(y_test, y_pred_proba))"
   ]
  },
  {
   "cell_type": "markdown",
   "metadata": {},
   "source": [
    "### Now time to train the model on the entire dataset"
   ]
  },
  {
   "cell_type": "code",
   "execution_count": 45,
   "metadata": {},
   "outputs": [],
   "source": [
    "full_train_data = preprocessed_earth[preprocessed_earth['Year'] < 2020]"
   ]
  },
  {
   "cell_type": "code",
   "execution_count": 46,
   "metadata": {},
   "outputs": [
    {
     "data": {
      "text/plain": [
       "622"
      ]
     },
     "execution_count": 46,
     "metadata": {},
     "output_type": "execute_result"
    }
   ],
   "source": [
    "len(full_train_data[full_train_data['target'] == 1])"
   ]
  },
  {
   "cell_type": "code",
   "execution_count": 47,
   "metadata": {},
   "outputs": [
    {
     "data": {
      "text/plain": [
       "3092985"
      ]
     },
     "execution_count": 47,
     "metadata": {},
     "output_type": "execute_result"
    }
   ],
   "source": [
    "full_num_zero_targets = len(full_train_data[full_train_data['target'] == 0])\n",
    "full_num_zero_targets"
   ]
  },
  {
   "cell_type": "code",
   "execution_count": 48,
   "metadata": {},
   "outputs": [],
   "source": [
    "full_majority = full_train_data[full_train_data['target'] == 0]\n",
    "full_minority = full_train_data[full_train_data['target'] == 1]"
   ]
  },
  {
   "cell_type": "code",
   "execution_count": 49,
   "metadata": {},
   "outputs": [],
   "source": [
    "full_min_upsamp = resample(full_minority, replace=True, n_samples=full_num_zero_targets, random_state=1) "
   ]
  },
  {
   "cell_type": "code",
   "execution_count": 50,
   "metadata": {},
   "outputs": [
    {
     "data": {
      "text/plain": [
       "(3092985, 6)"
      ]
     },
     "execution_count": 50,
     "metadata": {},
     "output_type": "execute_result"
    }
   ],
   "source": [
    "full_min_upsamp.shape"
   ]
  },
  {
   "cell_type": "code",
   "execution_count": 51,
   "metadata": {},
   "outputs": [],
   "source": [
    "full_upsampled_data = pd.concat([full_majority, full_min_upsamp])"
   ]
  },
  {
   "cell_type": "code",
   "execution_count": 52,
   "metadata": {},
   "outputs": [],
   "source": [
    "full_upsampled_data = full_upsampled_data.sample(frac=1).reset_index(drop=True)"
   ]
  },
  {
   "cell_type": "code",
   "execution_count": 53,
   "metadata": {},
   "outputs": [],
   "source": [
    "full_x_train = full_upsampled_data.iloc[:, 0:5]\n",
    "full_y_train = full_upsampled_data.iloc[:, 5]"
   ]
  },
  {
   "cell_type": "code",
   "execution_count": 54,
   "metadata": {},
   "outputs": [
    {
     "data": {
      "text/html": [
       "<div>\n",
       "<style scoped>\n",
       "    .dataframe tbody tr th:only-of-type {\n",
       "        vertical-align: middle;\n",
       "    }\n",
       "\n",
       "    .dataframe tbody tr th {\n",
       "        vertical-align: top;\n",
       "    }\n",
       "\n",
       "    .dataframe thead th {\n",
       "        text-align: right;\n",
       "    }\n",
       "</style>\n",
       "<table border=\"1\" class=\"dataframe\">\n",
       "  <thead>\n",
       "    <tr style=\"text-align: right;\">\n",
       "      <th></th>\n",
       "      <th>Year</th>\n",
       "      <th>Latitude</th>\n",
       "      <th>Longitude</th>\n",
       "      <th>Month</th>\n",
       "      <th>Day</th>\n",
       "    </tr>\n",
       "  </thead>\n",
       "  <tbody>\n",
       "    <tr>\n",
       "      <th>0</th>\n",
       "      <td>2007</td>\n",
       "      <td>46.400</td>\n",
       "      <td>141.200</td>\n",
       "      <td>7</td>\n",
       "      <td>28</td>\n",
       "    </tr>\n",
       "    <tr>\n",
       "      <th>1</th>\n",
       "      <td>2017</td>\n",
       "      <td>-22.107</td>\n",
       "      <td>169.350</td>\n",
       "      <td>10</td>\n",
       "      <td>31</td>\n",
       "    </tr>\n",
       "    <tr>\n",
       "      <th>2</th>\n",
       "      <td>1974</td>\n",
       "      <td>29.400</td>\n",
       "      <td>104.800</td>\n",
       "      <td>10</td>\n",
       "      <td>16</td>\n",
       "    </tr>\n",
       "    <tr>\n",
       "      <th>3</th>\n",
       "      <td>2016</td>\n",
       "      <td>-18.250</td>\n",
       "      <td>167.500</td>\n",
       "      <td>4</td>\n",
       "      <td>28</td>\n",
       "    </tr>\n",
       "    <tr>\n",
       "      <th>4</th>\n",
       "      <td>1960</td>\n",
       "      <td>-16.390</td>\n",
       "      <td>-72.658</td>\n",
       "      <td>6</td>\n",
       "      <td>6</td>\n",
       "    </tr>\n",
       "  </tbody>\n",
       "</table>\n",
       "</div>"
      ],
      "text/plain": [
       "   Year  Latitude  Longitude  Month  Day\n",
       "0  2007    46.400    141.200      7   28\n",
       "1  2017   -22.107    169.350     10   31\n",
       "2  1974    29.400    104.800     10   16\n",
       "3  2016   -18.250    167.500      4   28\n",
       "4  1960   -16.390    -72.658      6    6"
      ]
     },
     "execution_count": 54,
     "metadata": {},
     "output_type": "execute_result"
    }
   ],
   "source": [
    "full_x_train.head()"
   ]
  },
  {
   "cell_type": "code",
   "execution_count": 55,
   "metadata": {},
   "outputs": [
    {
     "data": {
      "text/plain": [
       "0          0\n",
       "1          1\n",
       "2          0\n",
       "3          1\n",
       "4          0\n",
       "          ..\n",
       "6185965    1\n",
       "6185966    0\n",
       "6185967    1\n",
       "6185968    0\n",
       "6185969    1\n",
       "Name: target, Length: 6185970, dtype: int64"
      ]
     },
     "execution_count": 55,
     "metadata": {},
     "output_type": "execute_result"
    }
   ],
   "source": [
    "full_y_train"
   ]
  },
  {
   "cell_type": "code",
   "execution_count": 56,
   "metadata": {},
   "outputs": [],
   "source": [
    "sc = StandardScaler()\n",
    "scaled_full_x_train = sc.fit_transform(full_x_train) # Scaling train_data"
   ]
  },
  {
   "cell_type": "code",
   "execution_count": 57,
   "metadata": {},
   "outputs": [
    {
     "data": {
      "text/plain": [
       "RandomForestClassifier(criterion='entropy', n_estimators=10, random_state=0)"
      ]
     },
     "execution_count": 57,
     "metadata": {},
     "output_type": "execute_result"
    }
   ],
   "source": [
    "# Final training...\n",
    "final_classifier = RandomForestClassifier(n_estimators=10, criterion='entropy', random_state=0)\n",
    "final_classifier.fit(scaled_full_x_train, full_y_train)"
   ]
  },
  {
   "cell_type": "code",
   "execution_count": 58,
   "metadata": {},
   "outputs": [],
   "source": [
    "import gzip\n",
    "import dill"
   ]
  },
  {
   "cell_type": "code",
   "execution_count": 60,
   "metadata": {},
   "outputs": [],
   "source": [
    "with gzip.open('earthquake_classification_model.dill.gz', 'wb') as f:\n",
    "    dill.dump(final_classifier, f, recurse=True)"
   ]
  }
 ],
 "metadata": {
  "kernelspec": {
   "display_name": "Python 3",
   "language": "python",
   "name": "python3"
  },
  "language_info": {
   "codemirror_mode": {
    "name": "ipython",
    "version": 3
   },
   "file_extension": ".py",
   "mimetype": "text/x-python",
   "name": "python",
   "nbconvert_exporter": "python",
   "pygments_lexer": "ipython3",
   "version": "3.7.6"
  }
 },
 "nbformat": 4,
 "nbformat_minor": 4
}
